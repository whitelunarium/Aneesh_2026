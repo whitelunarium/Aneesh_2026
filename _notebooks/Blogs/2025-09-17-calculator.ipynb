{
 "cells": [
  {
   "cell_type": "raw",
   "id": "d66ecdb1",
   "metadata": {
    "vscode": {
     "languageId": "raw"
    }
   },
   "source": [
    "---\n",
    "layout: post\n",
    "breadcrumb: true\n",
    "title: \"Calculator Game Hacks\"\n",
    "description: \"Hacks that we did in the Calculator\"\n",
    "permalink: /blogs/Calculator\n",
    "author: \"Ethan Patel\"\n",
    "---\n"
   ]
  },
  {
   "cell_type": "markdown",
   "id": "f585a737",
   "metadata": {},
   "source": [
    "## Changes"
   ]
  },
  {
   "cell_type": "markdown",
   "id": "2d1f6475",
   "metadata": {},
   "source": [
    "Hack 0: Right justify result (Perry)"
   ]
  },
  {
   "cell_type": "code",
   "execution_count": null,
   "id": "38e9322b",
   "metadata": {
    "vscode": {
     "languageId": "html"
    }
   },
   "outputs": [],
   "source": [
    ".calculator-output {\n",
    "    ...\n",
    "    display: flex;\n",
    "    align-items: center;\n",
    "    justify-content: flex-end;   /* <-- Hack 0: right justify result */\n",
    "}\n"
   ]
  },
  {
   "cell_type": "markdown",
   "id": "d3176aac",
   "metadata": {},
   "source": [
    "Hack 1: Test decimal numbers (Ethan)"
   ]
  },
  {
   "cell_type": "code",
   "execution_count": null,
   "id": "6b13f2c0",
   "metadata": {
    "vscode": {
     "languageId": "javascript"
    }
   },
   "outputs": [],
   "source": [
    "%% js\n",
    "\n",
    "function formatResult(val) {\n",
    "  if (!isFinite(val) || Number.isNaN(val)) return \"ERR\";\n",
    "  // round to max 10 decimals, remove trailing zeros\n",
    "  let s = parseFloat(parseFloat(val).toFixed(10)).toString();  // <-- Hack 1: handles decimals and big/small numbers\n",
    "  return s;\n",
    "}\n"
   ]
  },
  {
   "cell_type": "markdown",
   "id": "c1265f17",
   "metadata": {},
   "source": [
    "Hack 2: Added division (Neil)"
   ]
  },
  {
   "cell_type": "code",
   "execution_count": null,
   "id": "48dc14ce",
   "metadata": {
    "vscode": {
     "languageId": "html"
    }
   },
   "outputs": [],
   "source": [
    "      <!--row 4-->\n",
    "      <div class=\"calculator-operation\">√</div>  <!-- <-- square root button -->\n",
    "      <div class=\"calculator-number\">0</div>\n",
    "      <div class=\"calculator-number\">.</div>\n",
    "      <div class=\"calculator-operation\">/</div>"
   ]
  },
  {
   "cell_type": "markdown",
   "id": "123f94bd",
   "metadata": {},
   "source": [
    "Hack 3: Added square root button (Ethan)"
   ]
  },
  {
   "cell_type": "code",
   "execution_count": null,
   "id": "0d605558",
   "metadata": {
    "vscode": {
     "languageId": "javascript"
    }
   },
   "outputs": [],
   "source": [
    "%% js\n",
    "\n",
    "function operation (choice) {\n",
    "    // define unary operations\n",
    "    const unaryOps = {\n",
    "        \"√\": function(v) { return Math.sqrt(v); }\n",
    "    };\n",
    "\n",
    "\n",
    "// Also added it to the HTML"
   ]
  }
 ],
 "metadata": {
  "language_info": {
   "name": "python"
  }
 },
 "nbformat": 4,
 "nbformat_minor": 5
}

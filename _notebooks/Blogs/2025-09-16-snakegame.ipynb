{
 "cells": [
  {
   "cell_type": "raw",
   "id": "387bdb44",
   "metadata": {
    "vscode": {
     "languageId": "raw"
    }
   },
   "source": [
    "---\n",
    "layout: post\n",
    "breadcrumb: true\n",
    "title: \"Snake Game Hack\"\n",
    "description: \"Hacks that we did in the Snake Game\"\n",
    "permalink: /blogs/snake\n",
    "author: \"Ethan Patel and Neil Manjrekar\"\n",
    "---\n"
   ]
  },
  {
   "cell_type": "markdown",
   "id": "0322e64c",
   "metadata": {},
   "source": [
    "## Link to game\n",
    "https://whitelunarium.github.io/Aneesh_2026/snake/\n",
    "\n"
   ]
  },
  {
   "cell_type": "markdown",
   "id": "c08fcd48",
   "metadata": {},
   "source": [
    "### Changes:"
   ]
  },
  {
   "cell_type": "markdown",
   "id": "4b743c3c",
   "metadata": {},
   "source": [
    "1. Changed background color of the game to green (Perry)"
   ]
  },
  {
   "cell_type": "code",
   "execution_count": null,
   "id": "600f91ef",
   "metadata": {
    "vscode": {
     "languageId": "javascript"
    }
   },
   "outputs": [
    {
     "data": {
      "application/javascript": "    ctx.fillStyle = \"green\";\nctx.fillRect(0, 0, canvas.width, canvas.height);\n",
      "text/plain": [
       "<IPython.core.display.Javascript object>"
      ]
     },
     "metadata": {},
     "output_type": "display_data"
    }
   ],
   "source": [
    "%%js\n",
    "\n",
    "    ctx.fillStyle = \"green\";\n",
    "ctx.fillRect(0, 0, canvas.width, canvas.height);"
   ]
  },
  {
   "cell_type": "markdown",
   "id": "cb330c18",
   "metadata": {},
   "source": [
    "2. Added \"Very slow\" and \"Very fast\" speed settings(Ethan P)\n"
   ]
  },
  {
   "cell_type": "code",
   "execution_count": null,
   "id": "4d42850b",
   "metadata": {
    "vscode": {
     "languageId": "html"
    }
   },
   "outputs": [],
   "source": [
    "\n",
    "\n",
    "<input id=\"speed0\" type=\"radio\" name=\"speed\" value=\"145\"/>\n",
    "<label for=\"speed0\">Very Slow</label>\n",
    "\n",
    "...\n",
    "\n",
    "<input id=\"speed4\" type=\"radio\" name=\"speed\" value=\"25\"/>\n",
    "<label for=\"speed4\">Very Fast</label>\n"
   ]
  },
  {
   "cell_type": "markdown",
   "id": "ba33bfb7",
   "metadata": {},
   "source": [
    "3. Added 3 lives to the game so the snake doesn't die after hitting a wall(Ethan P)\n"
   ]
  },
  {
   "cell_type": "code",
   "execution_count": null,
   "id": "fcb6fd07",
   "metadata": {
    "vscode": {
     "languageId": "javascript"
    }
   },
   "outputs": [],
   "source": [
    "%%js\n",
    "\n",
    "let lives;\n",
    "const ele_lives = document.getElementById(\"lives_value\");\n",
    "...\n",
    "lives = 3; \n",
    "altLives(lives);\n",
    "\n",
    "\n",
    "\n",
    "let loseLife = function(){\n",
    "    lives--;\n",
    "    altLives(lives);\n",
    "\n",
    "    if(lives > 0){\n",
    "        snake = [];\n",
    "        snake.push({x: 0, y: 15});\n",
    "        snake_next_dir = 1;\n",
    "        addFood();\n",
    "        mainLoop();\n",
    "    } else {\n",
    "        showScreen(SCREEN_GAME_OVER);\n",
    "    }\n",
    "}"
   ]
  },
  {
   "cell_type": "markdown",
   "id": "a72dfd2c",
   "metadata": {},
   "source": [
    "4. Added a glow to the border so it looks cooler (Ethan P)\n"
   ]
  },
  {
   "cell_type": "raw",
   "id": "f2b78646",
   "metadata": {
    "vscode": {
     "languageId": "raw"
    }
   },
   "source": [
    "canvas{\n",
    "    border: 5px solid #FF0000;\n",
    "    box-shadow:\n",
    "        0 0 20px #FF0000,\n",
    "        0 0 40px #FF0000,\n",
    "        0 0 60px #FF0000;\n",
    "}\n"
   ]
  },
  {
   "cell_type": "markdown",
   "id": "bfc1e085",
   "metadata": {},
   "source": [
    "5. Grows 3 times as long when consuming fruit/object(Neil M)\n"
   ]
  },
  {
   "cell_type": "code",
   "execution_count": null,
   "id": "3b2b7534",
   "metadata": {
    "vscode": {
     "languageId": "javascript"
    }
   },
   "outputs": [],
   "source": [
    "%%js\n",
    "\n",
    "const GROW_BY = 3; // segments gained per food\n",
    "...\n",
    "for (let i = 0; i < GROW_BY; i++) { \n",
    "    snake.push({x: snake[0].x, y: snake[0].y}); \n",
    "}\n"
   ]
  },
  {
   "cell_type": "markdown",
   "id": "0089f01b",
   "metadata": {
    "vscode": {
     "languageId": "javascript"
    }
   },
   "source": [
    "6. Added game UI Overlay in menus(Neil M)\n"
   ]
  },
  {
   "cell_type": "raw",
   "id": "01ae1cbe",
   "metadata": {
    "vscode": {
     "languageId": "raw"
    }
   },
   "source": [
    "#menu,#setting,#gameover{\n",
    "    background: rgba(255,255,255,.06);\n",
    "    border: 1px solid rgba(255,255,255,.18);\n",
    "    border-radius: 20px;\n",
    "    padding: 24px;\n",
    "    backdrop-filter: blur(10px);\n",
    "    box-shadow: 0 8px 30px rgba(0,0,0,.25);\n",
    "}\n"
   ]
  }
 ],
 "metadata": {
  "kernelspec": {
   "display_name": "venv (3.13.7)",
   "language": "python",
   "name": "python3"
  },
  "language_info": {
   "codemirror_mode": {
    "name": "ipython",
    "version": 3
   },
   "file_extension": ".py",
   "mimetype": "text/x-python",
   "name": "python",
   "nbconvert_exporter": "python",
   "pygments_lexer": "ipython3",
   "version": "3.13.7"
  }
 },
 "nbformat": 4,
 "nbformat_minor": 5
}

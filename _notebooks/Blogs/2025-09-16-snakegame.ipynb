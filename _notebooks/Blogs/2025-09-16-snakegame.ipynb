{
 "cells": [
  {
   "cell_type": "raw",
   "id": "387bdb44",
   "metadata": {
    "vscode": {
     "languageId": "raw"
    }
   },
   "source": [
    "---\n",
    "layout: post\n",
    "breadcrumb: true\n",
    "title: \"Snake Game Hack\"\n",
    "description: \"Hacks that we did in the Snake Game\"\n",
    "permalink: /blogs/snake\n",
    "author: \"Ethan Patel and Neil Manjrekar\"\n",
    "---\n"
   ]
  },
  {
   "cell_type": "markdown",
   "id": "0322e64c",
   "metadata": {},
   "source": [
    "## Link to game\n",
    "https://whitelunarium.github.io/Aneesh_2026/snake/\n",
    "\n",
    "### Changes:\n",
    "1. Changed background color of the game to green(Perry)\n",
    "2. Added \"Very slow\" and \"Very fast\" speed settings(Ethan P)\n",
    "3. Added 3 lives to the game so the snake doesn't die after hitting a wall(Ethan P)\n",
    "4. Added a glow to the border so it looks cooler (Ethan P)\n",
    "5. Grows 3 times as long when consuming fruit/object(Neil M)\n",
    "6. Added game UI Overlay in menus(Neil M)\n",
    "\n"
   ]
  }
 ],
 "metadata": {
  "language_info": {
   "name": "python"
  }
 },
 "nbformat": 4,
 "nbformat_minor": 5
}

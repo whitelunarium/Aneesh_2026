{
 "cells": [
  {
   "cell_type": "raw",
   "id": "387bdb44",
   "metadata": {
    "vscode": {
     "languageId": "raw"
    }
   },
   "source": [
    "---\n",
    "layout: post\n",
    "toc: true\n",
    "breadcrumb: true\n",
    "title: \"Snake Game Hack\"\n",
    "description: \"Hacks that we did in the Snake Game\"\n",
    "permalink: /blogs/snake\n",
    "author: \"Ethan Patel and Neil Manjrekar\"\n",
    "---\n"
   ]
  },
  {
   "cell_type": "markdown",
   "id": "0322e64c",
   "metadata": {},
   "source": [
    "## Link to game\n",
    "https://whitelunarium.github.io/Aneesh_2026/snake/\n",
    "\n",
    "### Changes:\n",
    "1. Changed background color of the game to green\n",
    "2. Added \"Very slow\" and \"Very fast\" speed settings\n",
    "3. Added 3 lives to the game so the snake doesn't die after hitting a wall\n",
    "4. \n",
    "\n"
   ]
  }
 ],
 "metadata": {
  "language_info": {
   "name": "python"
  }
 },
 "nbformat": 4,
 "nbformat_minor": 5
}

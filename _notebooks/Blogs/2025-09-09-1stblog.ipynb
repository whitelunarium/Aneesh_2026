{
 "cells": [
  {
   "cell_type": "raw",
   "id": "2d09c892",
   "metadata": {
    "vscode": {
     "languageId": "raw"
    }
   },
   "source": [
    "---\n",
    "layout: post\n",
    "toc: True\n",
    "breadcrumb: True\n",
    "title: 1st Blog\n",
    "description: My first blog in CSP 2025-26\n",
    "permalink: /blogs/blog1\n",
    "author: Aneesh Deevi\n",
    "---"
   ]
  },
  {
   "cell_type": "markdown",
   "id": "0c70cbb5",
   "metadata": {},
   "source": [
    "## My Journey\n",
    "### Week 1 + 2:\n",
    "- Logging into the school coding website (pages.opencodingsociety)\n",
    "- Tools and Equipment:\n",
    "  - Github Account\n",
    "  - Forking the student repository\n",
    "  - WSL\n",
    "  - VSCode Setup\n",
    "- Sprint 1 Checkpoint 1\n",
    "### Week 3 + 4:\n",
    "- Sprint 1 Checkpoint 2\n",
    "- LxD2 Lesson\n",
    "- Github Pages LxD\n",
    "- Jupyter Notebook and Themes Quiz\n",
    "### Week 5 + 6:\n",
    "- Groups (Name, Philosophy, Tagline):\n",
    "  - Ctrl-Zombies\n",
    "  - Great minds think alike\n",
    "  - Never need to undo our mistakes\n",
    "- 2 Groups:\n",
    "  1. Aneesh, Moiz, Tanay\n",
    "      - Rock-Paper-Scissors + Cookie-Clicker\n",
    "  2. Ethan, Neil, Perry\n",
    "      - Snake-Game + Calculator\n",
    "- Sprint 1 Checkpoint 3\n",
    "- Moving Background\n",
    "- Personal Repository Integration\n",
    "### Week 7:\n",
    "- Prepare for review"
   ]
  }
 ],
 "metadata": {
  "language_info": {
   "name": "python"
  }
 },
 "nbformat": 4,
 "nbformat_minor": 5
}

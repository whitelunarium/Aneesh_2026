{
 "cells": [
  {
   "cell_type": "raw",
   "id": "c6cb9bec",
   "metadata": {
    "vscode": {
     "languageId": "raw"
    }
   },
   "source": [
    "---\n",
    "layout: post\n",
    "toc: True\n",
    "breadcrumb: True\n",
    "title: Pong Game Hacks\n",
    "description: My submission for pong game hacks\n",
    "permalink: /blogs/ponggame\n",
    "author: Aneesh Deevi, Tanay Paranjpe, Moiz Lukmani\n",
    "---"
   ]
  },
  {
   "cell_type": "markdown",
   "id": "6ac314f7",
   "metadata": {},
   "source": [
    "## Link to game\n",
    "https://whitelunarium.github.io/Aneesh_2026/pong\n",
    "\n",
    "### Changes:\n",
    "1. Added time limit to the game - Tanay\n",
    "- We introduced a `timeLimit` (60 seconds) and a `timer` variable to keep track of remaining time.\n",
    "\n",
    "- Created an `updateTimer()` function that runs every second using `setInterval()`.\n",
    "\n",
    "- When the timer hits 0, it **ends the game** by setting `gameOver = true`.\n"
   ]
  },
  {
   "cell_type": "code",
   "execution_count": null,
   "id": "343b0232",
   "metadata": {
    "vscode": {
     "languageId": "javascript"
    }
   },
   "outputs": [],
   "source": [
    "%%js\n",
    "\n",
    "let timeLimit = 60;\n",
    "let timer = timeLimit;\n",
    "let timerInterval;\n",
    "\n",
    "function updateTimer() {\n",
    "  if (timer > 0) {\n",
    "    timer--;\n",
    "  } else {\n",
    "    clearInterval(timerInterval);\n",
    "    gameOver = true;\n",
    "    restartBtn.style.display = \"inline-block\";\n",
    "  }\n",
    "}"
   ]
  },
  {
   "cell_type": "markdown",
   "id": "3df50502",
   "metadata": {},
   "source": [
    "2. Added restart function after time limit ends - Aneesh\n",
    "- Added a **Restart button** in HTML (`<button id=\"restartBtn\">`).\n",
    "- When the game ends (either timer ends or someone wins), the button becomes **visible**.\n",
    "- Clicking it **resets scores, timer, paddle sizes, and game state,** then **starts the game again**."
   ]
  },
  {
   "cell_type": "code",
   "execution_count": null,
   "id": "4930a2fa",
   "metadata": {
    "vscode": {
     "languageId": "javascript"
    }
   },
   "outputs": [],
   "source": [
    "%%js\n",
    "\n",
    "restartBtn.addEventListener(\"click\", () => {\n",
    "  player1Score = 0;\n",
    "  player2Score = 0;\n",
    "  paddleHeight = 100;\n",
    "  timer = timeLimit;\n",
    "  gameOver = false;\n",
    "  restartBtn.style.display = \"none\";\n",
    "\n",
    "  clearInterval(timerInterval);\n",
    "  timerInterval = setInterval(updateTimer, 1000);\n",
    "\n",
    "  initBall();\n",
    "});\n"
   ]
  },
  {
   "cell_type": "markdown",
   "id": "275a19ea",
   "metadata": {},
   "source": [
    "\n",
    "3. Added function where paddle size decreases when ball touches the paddle - Moiz\n",
    "- Inside the **ball collision check with paddles**, we made the paddle **shrink by 2 pixels** each time the ball touches it.\n",
    "- Also ensured it **never goes below a minimum height** (`minPaddleHeight = 40`)."
   ]
  },
  {
   "cell_type": "code",
   "execution_count": null,
   "id": "93930e2e",
   "metadata": {
    "vscode": {
     "languageId": "javascript"
    }
   },
   "outputs": [],
   "source": [
    "##js\n",
    "\n",
    "if (paddleHeight > minPaddleHeight) {\n",
    "  paddleHeight -= 2;\n",
    "}"
   ]
  }
 ],
 "metadata": {
  "kernelspec": {
   "display_name": "venv",
   "language": "python",
   "name": "python3"
  },
  "language_info": {
   "name": "python",
   "version": "3.13.7"
  }
 },
 "nbformat": 4,
 "nbformat_minor": 5
}

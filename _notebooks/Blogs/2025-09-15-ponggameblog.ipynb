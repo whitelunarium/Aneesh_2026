{
 "cells": [
  {
   "cell_type": "raw",
   "id": "c6cb9bec",
   "metadata": {
    "vscode": {
     "languageId": "raw"
    }
   },
   "source": [
    "---\n",
    "layout: post\n",
    "toc: True\n",
    "breadcrumb: True\n",
    "title: Pong Game Hacks\n",
    "description: My submission for pong game hacks\n",
    "permalink: /blogs/ponggame\n",
    "author: Aneesh Deevi\n",
    "---"
   ]
  },
  {
   "cell_type": "markdown",
   "id": "6ac314f7",
   "metadata": {},
   "source": [
    "## Link to game\n",
    "https://whitelunarium.github.io/Aneesh_2026/pong/\n",
    "\n",
    "### Changes:\n",
    "1. Added time limit to the game - Tanay\n"
   ]
  },
  {
   "cell_type": "code",
   "execution_count": null,
   "id": "343b0232",
   "metadata": {
    "vscode": {
     "languageId": "javascript"
    }
   },
   "outputs": [],
   "source": [
    "%%js\n",
    "\n",
    "let timeLimit = 60;\n",
    "let timer = timeLimit;\n",
    "let timerInterval;\n",
    "\n",
    "function updateTimer() {\n",
    "  if (timer > 0) {\n",
    "    timer--;\n",
    "  } else {\n",
    "    clearInterval(timerInterval);\n",
    "    gameOver = true;\n",
    "    restartBtn.style.display = \"inline-block\";\n",
    "  }\n",
    "}"
   ]
  },
  {
   "cell_type": "markdown",
   "id": "3df50502",
   "metadata": {},
   "source": [
    "2. Added restart function after time limit ends - Aneesh"
   ]
  },
  {
   "cell_type": "code",
   "execution_count": null,
   "id": "4930a2fa",
   "metadata": {
    "vscode": {
     "languageId": "javascript"
    }
   },
   "outputs": [],
   "source": [
    "%%js\n",
    "\n",
    "restartBtn.addEventListener(\"click\", () => {\n",
    "  player1Score = 0;\n",
    "  player2Score = 0;\n",
    "  paddleHeight = 100;\n",
    "  timer = timeLimit;\n",
    "  gameOver = false;\n",
    "  restartBtn.style.display = \"none\";\n",
    "\n",
    "  clearInterval(timerInterval);\n",
    "  timerInterval = setInterval(updateTimer, 1000);\n",
    "\n",
    "  initBall();\n",
    "});\n"
   ]
  },
  {
   "cell_type": "markdown",
   "id": "275a19ea",
   "metadata": {},
   "source": [
    "\n",
    "3. Added function where paddle size decreases when ball touches the paddle - Moiz"
   ]
  },
  {
   "cell_type": "code",
   "execution_count": null,
   "id": "93930e2e",
   "metadata": {
    "vscode": {
     "languageId": "javascript"
    }
   },
   "outputs": [],
   "source": [
    "##js\n",
    "\n",
    "if (paddleHeight > minPaddleHeight) {\n",
    "  paddleHeight -= 2;\n",
    "}"
   ]
  }
 ],
 "metadata": {
  "language_info": {
   "name": "python"
  }
 },
 "nbformat": 4,
 "nbformat_minor": 5
}

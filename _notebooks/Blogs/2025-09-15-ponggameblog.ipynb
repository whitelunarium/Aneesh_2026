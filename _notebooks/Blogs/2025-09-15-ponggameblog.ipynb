{
 "cells": [
  {
   "cell_type": "raw",
   "id": "c6cb9bec",
   "metadata": {
    "vscode": {
     "languageId": "raw"
    }
   },
   "source": [
    "---\n",
    "layout: post\n",
    "toc: True\n",
    "breadcrumb: True\n",
    "title: Pong Game Hacks\n",
    "description: My submission for pong game hacks\n",
    "permalink: /blogs/ponggame\n",
    "author: Aneesh Deevi\n",
    "---"
   ]
  },
  {
   "cell_type": "markdown",
   "id": "6ac314f7",
   "metadata": {},
   "source": [
    "## Link to game\n",
    "https://whitelunarium.github.io/Aneesh_2026/pong/\n",
    "\n",
    "### Changes:\n",
    "1. Added time limit to the game\n",
    "2. Added restart function after time limit ends\n",
    "3. Added function where paddle size decreases when ball touches the paddle\n"
   ]
  }
 ],
 "metadata": {
  "language_info": {
   "name": "python"
  }
 },
 "nbformat": 4,
 "nbformat_minor": 5
}

{
 "cells": [
  {
   "cell_type": "raw",
   "id": "04a948d2",
   "metadata": {
    "vscode": {
     "languageId": "raw"
    }
   },
   "source": [
    "---\n",
    "layout: post\n",
    "title: Strings\n",
    "description: This page will teach you about strings in programming.\n",
    "permalink: /csp/strings/zombies\n",
    "breadcrumb: True\n",
    "Author: Ethan Patel, Tanay Paranjpe, Neil Manjrekar\n",
    "---"
   ]
  },
  {
   "cell_type": "markdown",
   "id": "05381efb",
   "metadata": {},
   "source": [
    "## Strings\n",
    "---\n",
    "### What are Strings?\n",
    "- A **string** is a sequence of characters **(letters, numbers, symbols, spaces)** enclosed in quotes.\n",
    "##### Examples:\n",
    "\n",
    "- ``\"Hello\"``\n",
    "\n",
    "- ``\"12345\"``\n",
    "\n",
    "- ``\"Good Morning\"``"
   ]
  },
  {
   "cell_type": "code",
   "execution_count": null,
   "id": "023d768d",
   "metadata": {},
   "outputs": [],
   "source": [
    "myName = \"Neil\" # <-- Here, we define a string variable called myName and assign it the value \"Aneesh\".\n",
    "myNameType = type(myName).__name__ # <-- Here, we use the type() function to get the data type of myName, which is str (string). The __name__ attribute gives us the name of the type as a string.\n",
    "\n",
    "print(f\"{myName} is a {myNameType} data type.\") # <-- This line prints out the value of myName and its data type in a formatted string."
   ]
  },
  {
   "cell_type": "markdown",
   "id": "12407a58",
   "metadata": {},
   "source": [
    "### Defining Strings\n",
    "- In most programming languages, you can make a string with either single (') or double (\") quotes:"
   ]
  },
  {
   "cell_type": "markdown",
   "id": "efd76f01",
   "metadata": {},
   "source": [
    "### **Python**"
   ]
  },
  {
   "cell_type": "code",
   "execution_count": null,
   "id": "9a6cd55e",
   "metadata": {},
   "outputs": [],
   "source": [
    "word = \"hello\" # <-- Here, we use double quotes instead of single quotes\n",
    "sentence = 'Python is fun!' # <-- Here, we use single quotes instead of double quotes\n",
    "# Both are valid ways to define strings in Python\n",
    "multiline = \"\"\"This is \n",
    "a multi-line\n",
    "string.\"\"\" # <-- Triple quotes allow for multi-line strings\n",
    "print(word)\n",
    "print(sentence)\n",
    "print(multiline) "
   ]
  },
  {
   "cell_type": "markdown",
   "id": "c318cd0f",
   "metadata": {},
   "source": [
    "### **JavaScript**"
   ]
  },
  {
   "cell_type": "code",
   "execution_count": null,
   "id": "461c61bf",
   "metadata": {
    "vscode": {
     "languageId": "javascript"
    }
   },
   "outputs": [
    {
     "data": {
      "application/javascript": "let word = \"hello\" // Single quotes\nlet sentence = 'JavaScript is better than Python!' // Double quotes\n// Similar to Python, it does not matter whether you use double or single quotes\nlet multiLine = `Multiline strings\nare\nvery\ncool!`\n\nconsole.log(word)\nconsole.log(sentence)\nconsole.log(multiLine)\n",
      "text/plain": [
       "<IPython.core.display.Javascript object>"
      ]
     },
     "metadata": {},
     "output_type": "display_data"
    }
   ],
   "source": [
    "%%javascript\n",
    "\n",
    "let word = \"hello\" // Single quotes\n",
    "let sentence = 'JavaScript is better than Python!' // Double quotes\n",
    "// Similar to Python, it does not matter whether you use double or single quotes\n",
    "let multiLine = `Multiline strings\n",
    "are\n",
    "very\n",
    "cool!` // Use ` in JavaScript for multi line quotes\n",
    "\n",
    "console.log(word)\n",
    "console.log(sentence)\n",
    "console.log(multiLine)"
   ]
  },
  {
   "cell_type": "markdown",
   "id": "eee53a2b",
   "metadata": {},
   "source": [
    "## Common String Operations\n",
    "---"
   ]
  },
  {
   "cell_type": "markdown",
   "id": "86d6cb15",
   "metadata": {},
   "source": [
    "### **Python**"
   ]
  },
  {
   "cell_type": "code",
   "execution_count": null,
   "id": "34ee3698",
   "metadata": {},
   "outputs": [],
   "source": [
    "name = \"Aneesh\"\n",
    "\n",
    "print(name.upper())     # \"ANEESH\"\n",
    "print(name.lower())     # \"aneesh\"\n",
    "print(len(name))        # 6\n",
    "print(name[0])          # \"A\" (first character)\n",
    "print(name[-1])         # \"h\" (last character)\n",
    "print(name[1:3])        # \"ne\" (slice)"
   ]
  },
  {
   "cell_type": "markdown",
   "id": "fab7632a",
   "metadata": {},
   "source": [
    "### **JavaScript**"
   ]
  },
  {
   "cell_type": "code",
   "execution_count": 14,
   "id": "0c770ed3",
   "metadata": {
    "vscode": {
     "languageId": "javascript"
    }
   },
   "outputs": [
    {
     "data": {
      "application/javascript": "\nlet food = \"Pizza\"\n\nconsole.log(food.toUpperCase()); // prints pizza in all upper case\nconsole.log(food.toLowerCase()); // prints pizza in all lower case\nconsole.log(food.length) // prints the number of characters in the word pizza\nconsole.log(food[0]); // prints the first character in pizza\nconsole.log(food[food.length - 1]); // prints the last character in pizza\n",
      "text/plain": [
       "<IPython.core.display.Javascript object>"
      ]
     },
     "metadata": {},
     "output_type": "display_data"
    }
   ],
   "source": [
    "%%javascript\n",
    "\n",
    "let food = \"Pizza\"\n",
    "\n",
    "console.log(food.toUpperCase()); // prints pizza in all upper case\n",
    "console.log(food.toLowerCase()); // prints pizza in all lower case\n",
    "console.log(food.length) // prints the number of characters in the word pizza\n",
    "console.log(food[0]); // prints the first character in pizza\n",
    "console.log(food[food.length - 1]); // prints the last character in pizza"
   ]
  },
  {
   "cell_type": "markdown",
   "id": "5b06d34b",
   "metadata": {},
   "source": [
    "## Concatenation (Combining Strings)\n",
    "---"
   ]
  },
  {
   "cell_type": "code",
   "execution_count": null,
   "id": "54972c95",
   "metadata": {},
   "outputs": [],
   "source": [
    "first = \"Hello\"\n",
    "second = \"World\"\n",
    "\n",
    "print(first + \" \" + second)        # \"Hello World\"\n",
    "print(first + \", \" + second + \"!\") # \"Hello, World!\"\n",
    "print(\"{} {}\".format(first, second))       # \"Hello World\" (str.format)\n",
    "print(f\"{first}, {second}!\")       # \"Hello, World!\" (f-string) "
   ]
  },
  {
   "cell_type": "markdown",
   "id": "51260917",
   "metadata": {},
   "source": [
    "---\n",
    "### MCQ\n",
    "Go as fast as you can to try to win!"
   ]
  },
  {
   "cell_type": "markdown",
   "id": "19f65e1b",
   "metadata": {},
   "source": [
    "[Click here](https://whitelunarium.github.io/Aneesh_2026/mcq_strings)"
   ]
  }
 ],
 "metadata": {
  "kernelspec": {
   "display_name": "venv (3.13.7)",
   "language": "python",
   "name": "python3"
  },
  "language_info": {
   "codemirror_mode": {
    "name": "ipython",
    "version": 3
   },
   "file_extension": ".py",
   "mimetype": "text/x-python",
   "name": "python",
   "nbconvert_exporter": "python",
   "pygments_lexer": "ipython3",
   "version": "3.13.7"
  }
 },
 "nbformat": 4,
 "nbformat_minor": 5
}

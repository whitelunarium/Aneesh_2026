{
 "cells": [
  {
   "cell_type": "raw",
   "id": "9dc55ce4",
   "metadata": {
    "vscode": {
     "languageId": "raw"
    }
   },
   "source": [
    "---\n",
    "layout: post\n",
    "title: Strings\n",
    "description: This page will teach you about strings in programming.\n",
    "permalink: /javascript/strings/zombies/hw\n",
    "breadcrumb: True\n",
    "Author: Ethan Patel, Tanay Paranjpe, Neil Manjrekar\n",
    "---"
   ]
  },
  {
   "cell_type": "markdown",
   "id": "536a8026",
   "metadata": {},
   "source": [
    "# Javascript Strings Homework\n",
    "---"
   ]
  },
  {
   "cell_type": "markdown",
   "id": "a234c11e",
   "metadata": {},
   "source": [
    "## Strings Popcorn Hack"
   ]
  },
  {
   "cell_type": "code",
   "execution_count": 1,
   "id": "8180aaf8",
   "metadata": {
    "vscode": {
     "languageId": "javascript"
    }
   },
   "outputs": [
    {
     "data": {
      "application/javascript": "let fullName = \"Tanay Paranjpe\";   // <-- Add your full name\n\n// Extract first name (characters before the space)\nlet firstName = fullName.substring(0,100);   // <-- Change the numbers to get the first name correctly\n\n// Extract last name (characters after the space)\nlet lastName = fullName.substring(100);   // <-- Change this to get the last name correctly\n\n// Print results\nconsole.log(\"First: \" + firstName);\nconsole.log(\"Last: \" + lastName);\n",
      "text/plain": [
       "<IPython.core.display.Javascript object>"
      ]
     },
     "metadata": {},
     "output_type": "display_data"
    }
   ],
   "source": [
    "%%js\n",
    "let fullName = \"Tanay Paranjpe\";   // <-- Add your full name\n",
    "\n",
    "// Extract first name (characters before the space)\n",
    "let firstName = fullName.substring(0,100);   // <-- Change the numbers to get the first name correctly\n",
    "\n",
    "// Extract last name (characters after the space)\n",
    "let lastName = fullName.substring(100);   // <-- Change this to get the last name correctly\n",
    "\n",
    "// Print results\n",
    "console.log(\"First: \" + firstName);\n",
    "console.log(\"Last: \" + lastName);"
   ]
  }
 ],
 "metadata": {
  "kernelspec": {
   "display_name": "venv (3.12.3)",
   "language": "python",
   "name": "python3"
  },
  "language_info": {
   "codemirror_mode": {
    "name": "ipython",
    "version": 3
   },
   "file_extension": ".py",
   "mimetype": "text/x-python",
   "name": "python",
   "nbconvert_exporter": "python",
   "pygments_lexer": "ipython3",
   "version": "3.12.3"
  }
 },
 "nbformat": 4,
 "nbformat_minor": 5
}

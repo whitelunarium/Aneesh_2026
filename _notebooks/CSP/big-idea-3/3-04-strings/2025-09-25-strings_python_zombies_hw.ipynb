{
 "cells": [
  {
   "cell_type": "raw",
   "id": "04a948d2",
   "metadata": {
    "vscode": {
     "languageId": "raw"
    }
   },
   "source": [
    "---\n",
    "layout: post\n",
    "title: Strings\n",
    "description: This page will teach you about strings in programming.\n",
    "permalink: /python/strings/zombies/hw\n",
    "breadcrumb: True\n",
    "Author: Ethan Patel, Tanay Paranjpe, Neil Manjrekar\n",
    "---"
   ]
  },
  {
   "cell_type": "markdown",
   "id": "2a90f880",
   "metadata": {},
   "source": [
    "# Python Strings Homework\n",
    "---"
   ]
  },
  {
   "cell_type": "markdown",
   "id": "3c878fa1",
   "metadata": {},
   "source": [
    "## Python Popcorn Hack"
   ]
  },
  {
   "cell_type": "markdown",
   "id": "12037a42",
   "metadata": {},
   "source": [
    "Write a program that:\n",
    "\n",
    "1. Creates two string variables: ``| name = \"Your Name\" | color = \"Favorite Color\" |``\n",
    "\n",
    "2. Prints the sentence: ``Hello Alex, your favorite color is blue!``\n",
    "\n",
    "3. Then prints the same sentence, but in all uppercase letters."
   ]
  },
  {
   "cell_type": "code",
   "execution_count": null,
   "id": "4b46da44",
   "metadata": {},
   "outputs": [],
   "source": [
    "# <-- Homework starts here!"
   ]
  },
  {
   "cell_type": "markdown",
   "id": "82409caa",
   "metadata": {},
   "source": [
    "## Python Strings Homework\n",
    "\n",
    "##### Your program should:\n",
    "\n",
    "1. Remove the extra spaces at the beginning and end.\n",
    "\n",
    "2. Capitalize only the first letter of the sentence.\n",
    "\n",
    "3. Replace the word \"python\" with \"Python\".\n",
    "\n",
    "4. Print the final result.\n",
    "\n",
    "5. Also print how many characters the cleaned-up sentence has.\n",
    "\n",
    "##### Hint:\n",
    "Your program should be using these commands:\n",
    "- ``.strip()``\n",
    "\n",
    "- ``.capitalize()``\n",
    "\n",
    "- ``.replace()``\n",
    "\n",
    "- ``len()``"
   ]
  },
  {
   "cell_type": "code",
   "execution_count": 4,
   "id": "85cf85e9",
   "metadata": {},
   "outputs": [
    {
     "name": "stdout",
     "output_type": "stream",
     "text": [
      "Jazz music is loud\n",
      "18\n"
     ]
    }
   ],
   "source": [
    "# Example\n",
    "sentence = \"   rock music is loud   \"\n",
    "\n",
    "cleaned = sentence.strip()\n",
    "\n",
    "capitalized = cleaned.capitalize()\n",
    "\n",
    "fixed = capitalized.replace(\"Rock\", \"Jazz\")\n",
    "\n",
    "print(fixed)            \n",
    "print(len(fixed))       \n"
   ]
  },
  {
   "cell_type": "code",
   "execution_count": null,
   "id": "fe3af160",
   "metadata": {},
   "outputs": [],
   "source": [
    "# <-- Homework starts here!\n",
    "sentence = \"   python strings are powerful   \""
   ]
  }
 ],
 "metadata": {
  "kernelspec": {
   "display_name": "venv (3.12.3)",
   "language": "python",
   "name": "python3"
  },
  "language_info": {
   "codemirror_mode": {
    "name": "ipython",
    "version": 3
   },
   "file_extension": ".py",
   "mimetype": "text/x-python",
   "name": "python",
   "nbconvert_exporter": "python",
   "pygments_lexer": "ipython3",
   "version": "3.12.3"
  }
 },
 "nbformat": 4,
 "nbformat_minor": 5
}

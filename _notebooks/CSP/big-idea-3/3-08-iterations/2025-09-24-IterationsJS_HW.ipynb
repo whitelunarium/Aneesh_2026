{
 "cells": [
  {
   "cell_type": "markdown",
   "metadata": {},
   "source": [
    "---\n",
    "title: Iterations JS Homework\n",
    "description: Practice problems for iterations\n",
    "comments: false\n",
    "layout: post\n",
    "authors: Akhil K, Shayan B\n",
    "toc: true\n",
    "permalink: /csp/big-idea-3/IterationsJS/p3/Homework\n",
    "---"
   ]
  },
  {
   "cell_type": "markdown",
   "metadata": {},
   "source": [
    "<style>\n",
    "body {\n",
    "  background: linear-gradient(-45deg, #2b0000, #5a0000, #8b0000, #2b0000);\n",
    "  background-size: 400% 400%;\n",
    "  animation: redPulse 12s ease infinite;\n",
    "  color: #f5f5f5;\n",
    "  font-family: \"Segoe UI\", sans-serif;\n",
    "  margin: 0;\n",
    "  padding: 0;\n",
    "}\n",
    "\n",
    "@keyframes redPulse {\n",
    "  0% { background-position: 0% 50%; }\n",
    "  50% { background-position: 100% 50%; }\n",
    "  100% { background-position: 0% 50%; }\n",
    "}\n",
    "</style>\n",
    "\n",
    "<style>\n",
    ".hw-section {\n",
    "  background: linear-gradient(135deg, #1a0000, #0d0000, #330000);\n",
    "  border: 2px solid #ff4d4d;\n",
    "  border-radius: 12px;\n",
    "  padding: 25px;\n",
    "  margin: 25px auto;\n",
    "  max-width: 900px;\n",
    "  font-family: \"Segoe UI\", sans-serif;\n",
    "  color: #f2f2f2;\n",
    "  box-shadow: 0 0 25px rgba(255, 0, 0, 0.6);\n",
    "  line-height: 1.7em;\n",
    "}\n",
    "\n",
    ".hw-section h1 {\n",
    "  font-size: 2em;\n",
    "  color: #ff4d4d;\n",
    "  text-shadow: 0 0 10px rgba(255,77,77,0.9);\n",
    "  margin-bottom: 15px;\n",
    "}\n",
    "\n",
    ".hw-section p {\n",
    "  font-size: 1.1em;\n",
    "}\n",
    "</style>\n",
    "\n",
    "<div class=\"hw-section\">\n",
    "  <h1>3.8 Iterations Homework 🔄</h1>\n",
    "  <p>Complete the following problems to practice your iteration skills!</p>\n",
    "  <hr>\n",
    "</div>\n"
   ]
  },
  {
   "cell_type": "markdown",
   "metadata": {},
   "source": [
    "<style>\n",
    ".hw-section {\n",
    "  background: linear-gradient(135deg, #1a0000, #0d0000, #330000);\n",
    "  border: 2px solid #ff4d4d;\n",
    "  border-radius: 12px;\n",
    "  padding: 25px;\n",
    "  margin: 25px auto;\n",
    "  max-width: 900px;\n",
    "  font-family: \"Segoe UI\", sans-serif;\n",
    "  color: #f2f2f2;\n",
    "  box-shadow: 0 0 25px rgba(255, 0, 0, 0.6);\n",
    "  line-height: 1.7em;\n",
    "}\n",
    "\n",
    ".hw-section h2 {\n",
    "  color: #ff4d4d;\n",
    "  text-shadow: 0 0 10px rgba(255,77,77,0.9);\n",
    "  margin-top: 10px;\n",
    "}\n",
    "\n",
    ".js-code {\n",
    "  background: #0d0d0d;\n",
    "  border-left: 4px solid #00f2fe;\n",
    "  padding: 12px;\n",
    "  margin: 12px 0;\n",
    "  border-radius: 6px;\n",
    "  font-family: \"Courier New\", monospace;\n",
    "  font-size: 0.95em;\n",
    "  color: #f1f1f1;\n",
    "  white-space: pre;\n",
    "  box-shadow: inset 0 0 10px rgba(0,242,254,0.2);\n",
    "}\n",
    "</style>\n",
    "\n",
    "<div class=\"hw-section\">\n",
    "  <h2>📌 Problem 1: Fill in the Blank 📝</h2>\n",
    "  <p>Complete the code below to make it print all numbers from <b>1 to 10</b>.</p>\n",
    "  <p><b>Expected output:</b> <code>1, 2, 3, 4, 5, 6, 7, 8, 9, 10</code></p>\n",
    "</div>\n"
   ]
  },
  {
   "cell_type": "code",
   "execution_count": 4,
   "metadata": {
    "vscode": {
     "languageId": "javascript"
    }
   },
   "outputs": [
    {
     "data": {
      "application/javascript": "// Fill in the blanks to complete the loop\nfor (let i = 1; i <= 10; i++) {\n    console.log(i);\n}\n",
      "text/plain": [
       "<IPython.core.display.Javascript object>"
      ]
     },
     "metadata": {},
     "output_type": "display_data"
    }
   ],
   "source": [
    "%%javascript\n",
    "// Fill in the blanks to complete the loop\n",
    "for (let i = 1; i <= 10; i++) {\n",
    "    console.log(i);\n",
    "}"
   ]
  },
  {
   "cell_type": "markdown",
   "metadata": {},
   "source": [
    "<style>\n",
    ".hw-section {\n",
    "  background: linear-gradient(135deg, #1a0000, #0d0000, #330000);\n",
    "  border: 2px solid #ff4d4d;\n",
    "  border-radius: 12px;\n",
    "  padding: 25px;\n",
    "  margin: 25px auto;\n",
    "  max-width: 900px;\n",
    "  font-family: \"Segoe UI\", sans-serif;\n",
    "  color: #f2f2f2;\n",
    "  box-shadow: 0 0 25px rgba(255, 0, 0, 0.6);\n",
    "  line-height: 1.7em;\n",
    "}\n",
    "\n",
    ".hw-section h2 {\n",
    "  color: #ff4d4d;\n",
    "  text-shadow: 0 0 10px rgba(255,77,77,0.9);\n",
    "  margin-top: 10px;\n",
    "}\n",
    "\n",
    ".js-code {\n",
    "  background: #0d0d0d;\n",
    "  border-left: 4px solid #00f2fe;\n",
    "  padding: 12px;\n",
    "  margin: 12px 0;\n",
    "  border-radius: 6px;\n",
    "  font-family: \"Courier New\", monospace;\n",
    "  font-size: 0.95em;\n",
    "  color: #f1f1f1;\n",
    "  white-space: pre;\n",
    "  box-shadow: inset 0 0 10px rgba(0,242,254,0.2);\n",
    "}\n",
    "</style>\n",
    "\n",
    "<div class=\"hw-section\">\n",
    "  <h2>🚀 Problem 2: Create Your Own Loop</h2>\n",
    "  <p>Write a program that uses a <code>while</code> loop to print <b>\"Hello!\"</b> 5 times.</p>\n",
    "\n",
    "  <p><b>Expected output:</b></p>\n",
    "  <div class=\"js-code\">\n",
    "Hello!\n",
    "Hello!\n",
    "Hello!\n",
    "Hello!\n",
    "Hello!\n",
    "  </div>\n",
    "</div>\n"
   ]
  },
  {
   "cell_type": "code",
   "execution_count": null,
   "metadata": {
    "vscode": {
     "languageId": "javascript"
    }
   },
   "outputs": [
    {
     "data": {
      "application/javascript": "// YOUR CODE HERE\n// Submit through the Link in Announcements\n\nlet count = 0;\nwhile (count < 5) {\n    console.log(\"Hello!\");\n    count++;\n}\n",
      "text/plain": [
       "<IPython.core.display.Javascript object>"
      ]
     },
     "metadata": {},
     "output_type": "display_data"
    }
   ],
   "source": [
    "%%javascript\n",
    "// YOUR CODE HERE\n",
    "// Submit through the Link in Announcements\n",
    "\n",
    "let count = 0;\n",
    "while (count < 5) {\n",
    "    console.log(\"Hello!\");\n",
    "    count++;\n",
    "}"
   ]
  }
 ],
 "metadata": {
  "kernelspec": {
   "display_name": "venv (3.12.3)",
   "language": "python",
   "name": "python3"
  },
  "language_info": {
   "codemirror_mode": {
    "name": "ipython",
    "version": 3
   },
   "file_extension": ".py",
   "mimetype": "text/x-python",
   "name": "python",
   "nbconvert_exporter": "python",
   "pygments_lexer": "ipython3",
   "version": "3.12.3"
  }
 },
 "nbformat": 4,
 "nbformat_minor": 2
}

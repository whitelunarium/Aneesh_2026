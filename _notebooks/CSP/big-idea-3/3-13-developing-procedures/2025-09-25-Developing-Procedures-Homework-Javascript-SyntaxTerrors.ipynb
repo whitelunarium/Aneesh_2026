{
 "cells": [
  {
   "cell_type": "raw",
   "id": "2b34f512",
   "metadata": {
    "vscode": {
     "languageId": "raw"
    }
   },
   "source": [
    "---\n",
    "layout: post\n",
    "title: Coding Concept - Developing Procedures\n",
    "description: Understanding Developing Procedures in Python and JavaScript\n",
    "permalink: /csp/big-idea-three/developingprocedures/javascript/hw/p3/syntaxterrors\n",
    "author: Meryl C\n",
    "category: Aneesh (Individual Homeworks)\n",
    "---"
   ]
  },
  {
   "cell_type": "markdown",
   "id": "32d46af6",
   "metadata": {},
   "source": [
    "<div align=\"center\" style=\"margin-bottom: 2em;\">\n",
    "  <a href=\"{{ site.baseurl }}/csp/big-idea-three/developingprocedures/lesson/p3/syntaxterrors\"\n",
    "     style=\"\n",
    "      display: inline-block;\n",
    "      background: linear-gradient(90deg, #2563eb 0%, #1e40af 100%);\n",
    "      color: white;\n",
    "      padding: 0.85em 2.2em;\n",
    "      border-radius: 0.6em;\n",
    "      font-weight: bold;\n",
    "      text-decoration: none;\n",
    "      font-size: 1.15em;\n",
    "      box-shadow: 0 4px 16px rgba(30,64,175,0.18), 0 1.5px 4px rgba(0,0,0,0.10);\n",
    "      transition: \n",
    "        background 0.2s,\n",
    "        transform 0.15s,\n",
    "        box-shadow 0.2s;\n",
    "    \"\n",
    "    onmouseover=\"this.style.transform='scale(1.045)'; this.style.boxShadow='0 8px 24px rgba(30,64,175,0.22), 0 2px 8px rgba(0,0,0,0.13)';\"\n",
    "    onmouseout=\"this.style.transform='scale(1)'; this.style.boxShadow='0 4px 16px rgba(30,64,175,0.18), 0 1.5px 4px rgba(0,0,0,0.10)';\"\n",
    "  >\n",
    "    Developing Procedures Lesson\n",
    "  </a>\n",
    "</div>"
   ]
  },
  {
   "cell_type": "code",
   "execution_count": null,
   "id": "101fed29",
   "metadata": {
    "vscode": {
     "languageId": "javascript"
    }
   },
   "outputs": [
    {
     "data": {
      "application/javascript": "// Homework: Developing Procedures in Java\n\npublic class ProceduresHomework {\n\n    // 1. Write a procedure that takes a number and returns its cube.\n    public static int cube(int n) {\n        return n * n * n;\n    }\n\n    // 2. Write a procedure that takes an array of numbers and returns the sum.\n    public static int listSum(int[] numbers) {\n        int total = 0;\n        for (int num : numbers) {\n            total += num;\n        }\n        return total;\n    }\n\n    // 3. Write a procedure that checks if a word is a palindrome.\n    public static boolean isPalindrome(String word) {\n        String reversed = new StringBuilder(word).reverse().toString();\n        return word.equals(reversed);\n    }\n\n    public static void main(String[] args) {\n        System.out.println(cube(3)); // 27\n\n        int[] nums = {1, 2, 3};\n        System.out.println(listSum(nums)); // 6\n\n        System.out.println(isPalindrome(\"racecar\")); // true\n        System.out.println(isPalindrome(\"apple\"));   // false\n    }\n}\n",
      "text/plain": [
       "<IPython.core.display.Javascript object>"
      ]
     },
     "metadata": {},
     "output_type": "display_data"
    }
   ],
   "source": [
    "%%js\n",
    "\n",
    "// Homework: Developing Procedures in JavaScript\n",
    "\n",
    "// 1. Write a procedure that takes a number and returns its cube.\n",
    "function cube(n) {\n",
    "  return n * n * n;\n",
    "}\n",
    "\n",
    "// 2. Write a procedure that takes an array of numbers and returns the sum.\n",
    "function listSum(numbers) {\n",
    "  let total = 0;\n",
    "  for (let num of numbers) {\n",
    "    total += num;\n",
    "  }\n",
    "  return total;\n",
    "}\n",
    "\n",
    "// 3. Write a procedure that checks if a word is a palindrome.\n",
    "function isPalindrome(word) {\n",
    "  const reversed = word.split('').reverse().join('');\n",
    "  return word === reversed;\n",
    "}\n",
    "\n",
    "// Test the functions\n",
    "console.log(cube(3)); // 27\n",
    "\n",
    "const nums = [1, 2, 3];\n",
    "console.log(listSum(nums)); // 6\n",
    "\n",
    "console.log(isPalindrome(\"racecar\")); // true\n",
    "console.log(isPalindrome(\"apple\"));   // false\n"
   ]
  },
  {
   "cell_type": "markdown",
   "id": "8a853311",
   "metadata": {},
   "source": [
    "### 1. cube(n) Function\n",
    "\n",
    "* Purpose: This function takes a number n and returns its cube (i.e., n raised to the power of 3).\n",
    "* How it works: The function multiplies the number n by itself three times.\n",
    "\n",
    "### 2. ListSum(numbers) Function\n",
    "\n",
    "* Purpose: This function takes an array of numbers and returns the sum of those numbers.\n",
    "* How it works: The function initializes a total variable to 0, then loops through each number in the array numbers using a for...of loop. In each iteration, the current number is added to total.\n",
    "\n",
    "### 3. isPalindrome(word) Function\n",
    "\n",
    "* Purpose: This function checks if a given word is a palindrome, meaning it reads the same forwards and backwards.\n",
    "* How it works: The function splits the word into an array of characters word.split(), reverses that array reverse(), then joins the characters back together into a string join(). Finally, it checks if the reversed word is the same as the original word.\n",
    "\n",
    "### Console Output:\n",
    "\n",
    "The console.log statements test the functions:\n",
    "\n",
    "* cube(3) prints 27, as it returns the cube of 3.\n",
    "* listSum([1, 2, 3]) prints 6, as it returns the sum of 1, 2, and 3.\n",
    "* isPalindrome(racecar) prints true, as racecar is a palindrome.\n",
    "* isPalindrome(apple) prints false, as apple is not a palindrome."
   ]
  }
 ],
 "metadata": {
  "kernelspec": {
   "display_name": "venv (3.12.3)",
   "language": "python",
   "name": "python3"
  },
  "language_info": {
   "codemirror_mode": {
    "name": "ipython",
    "version": 3
   },
   "file_extension": ".py",
   "mimetype": "text/x-python",
   "name": "python",
   "nbconvert_exporter": "python",
   "pygments_lexer": "ipython3",
   "version": "3.12.3"
  }
 },
 "nbformat": 4,
 "nbformat_minor": 5
}

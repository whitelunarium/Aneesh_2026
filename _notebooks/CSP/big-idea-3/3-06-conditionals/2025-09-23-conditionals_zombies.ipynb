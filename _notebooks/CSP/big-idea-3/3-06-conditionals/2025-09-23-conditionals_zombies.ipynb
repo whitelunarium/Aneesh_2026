{
 "cells": [
  {
   "cell_type": "raw",
   "id": "65acca70",
   "metadata": {
    "vscode": {
     "languageId": "raw"
    }
   },
   "source": [
    "---\n",
    "layout: post\n",
    "title: Conditionals in Javascript and Python by Ctrl-Zombies\n",
    "description: Learn how to use conditionals in both Javascript and Python programming languages.\n",
    "permalink: /csp/conditionals/zombies\n",
    "Author: Aneesh Deevi, Moiz Lukmani, Perry Say\n",
    "---"
   ]
  },
  {
   "cell_type": "markdown",
   "id": "3db6febd",
   "metadata": {},
   "source": [
    "## Conditionals Lesson\n",
    "---\n",
    "### 1. What is a Conditional?\n",
    "- A conditional lets a program make decisions.\n",
    "- Example in plain English:\n",
    "**“If it’s raining, bring an umbrella. Otherwise, don't bring one.”**\n",
    "\n",
    "### 2. Basic `if` Statement:\n",
    "#### Python:\n"
   ]
  },
  {
   "cell_type": "code",
   "execution_count": null,
   "id": "68131856",
   "metadata": {},
   "outputs": [],
   "source": [
    "x = 10\n",
    "\n",
    "if x > 5:\n",
    "    print(\"x is greater than 5\")"
   ]
  },
  {
   "cell_type": "markdown",
   "id": "28fad79f",
   "metadata": {},
   "source": [
    "#### JavaScript:"
   ]
  },
  {
   "cell_type": "code",
   "execution_count": null,
   "id": "00ed9747",
   "metadata": {
    "vscode": {
     "languageId": "javascript"
    }
   },
   "outputs": [],
   "source": [
    "%%js\n",
    "\n",
    "let x = 10;\n",
    "\n",
    "if (x > 5) {\n",
    "    console.log(\"x is greater than 5\");\n",
    "}"
   ]
  },
  {
   "cell_type": "markdown",
   "id": "9322dc1f",
   "metadata": {},
   "source": [
    "### 3. `If ... else`\n",
    "#### Python:"
   ]
  },
  {
   "cell_type": "code",
   "execution_count": null,
   "id": "dc459b67",
   "metadata": {},
   "outputs": [],
   "source": [
    "age = 16\n",
    "\n",
    "if age >= 18:\n",
    "    print(\"You can vote\")\n",
    "else:\n",
    "    print(\"You are too young to vote\")\n"
   ]
  },
  {
   "cell_type": "markdown",
   "id": "b90a7000",
   "metadata": {},
   "source": [
    "#### JavaScript:"
   ]
  },
  {
   "cell_type": "code",
   "execution_count": null,
   "id": "d5d9079e",
   "metadata": {
    "vscode": {
     "languageId": "javascript"
    }
   },
   "outputs": [],
   "source": [
    "%%js\n",
    "\n",
    "let age = 16;\n",
    "\n",
    "if (age >= 18) {\n",
    "    console.log(\"You can vote\");\n",
    "} else {\n",
    "    console.log(\"You are too young to vote\");\n",
    "}"
   ]
  },
  {
   "cell_type": "markdown",
   "id": "6d023fc5",
   "metadata": {},
   "source": [
    "### 4. `If ... else if ... else` (multiple conditions)\n",
    "#### Common mistakes:\n",
    "- Mistaking ``elif`` for ``else if``\n",
    "    - ``elif`` is only used in Python\n",
    "    - ``else if`` is only used in Javascript\n",
    "#### Python:"
   ]
  },
  {
   "cell_type": "code",
   "execution_count": null,
   "id": "89819aa8",
   "metadata": {},
   "outputs": [],
   "source": [
    "score = 85 \n",
    "\n",
    "if score >= 90:\n",
    "    print(\"Grade: A\")\n",
    "elif score >= 80:\n",
    "    print(\"Grade: B\")\n",
    "else:\n",
    "    print(\"Keep working hard!\")"
   ]
  },
  {
   "cell_type": "markdown",
   "id": "93ce59c8",
   "metadata": {},
   "source": [
    "#### JavaScript:"
   ]
  },
  {
   "cell_type": "code",
   "execution_count": 3,
   "id": "a4d41e83",
   "metadata": {
    "vscode": {
     "languageId": "javascript"
    }
   },
   "outputs": [
    {
     "data": {
      "application/javascript": "\nlet score = 85;\n\nif (score >= 90) {\n    console.log(\"Grade: A\");\n} else if (score >= 80) {\n    console.log(\"Grade: B\");\n} else {\n    console.log(\"Keep working hard!\");\n}\n",
      "text/plain": [
       "<IPython.core.display.Javascript object>"
      ]
     },
     "metadata": {},
     "output_type": "display_data"
    }
   ],
   "source": [
    "%%js\n",
    "\n",
    "let score = 85;\n",
    "\n",
    "if (score >= 90) {\n",
    "    console.log(\"Grade: A\");\n",
    "} else if (score >= 80) {\n",
    "    console.log(\"Grade: B\");\n",
    "} else {\n",
    "    console.log(\"Keep working hard!\");\n",
    "}"
   ]
  },
  {
   "cell_type": "markdown",
   "id": "1461826d",
   "metadata": {},
   "source": [
    "### 5. Comparison & Logical Operators\n",
    "- Comparison:\n",
    "    - `==` equal\n",
    "    - `!=` not equal\n",
    "    - `<`, `>`, `<=`, `>=`\n",
    "- Logical:\n",
    "    - Python → `and`, `or`, `not`\n",
    "    - JavaScript → `&&`, `||`, `!`\n",
    "#### Python:"
   ]
  },
  {
   "cell_type": "code",
   "execution_count": null,
   "id": "2ce2ebb4",
   "metadata": {},
   "outputs": [],
   "source": [
    "temperature = 72\n",
    "\n",
    "if temperature > 60 and temperature < 80:\n",
    "    print(\"Perfect weather!\")"
   ]
  },
  {
   "cell_type": "markdown",
   "id": "0b389501",
   "metadata": {},
   "source": [
    "#### JavaScript:"
   ]
  },
  {
   "cell_type": "code",
   "execution_count": null,
   "id": "d8891854",
   "metadata": {
    "vscode": {
     "languageId": "javascript"
    }
   },
   "outputs": [],
   "source": [
    "%%js\n",
    "\n",
    "let temperature = 72;\n",
    "\n",
    "if (temperature > 60 && temperature < 80) {\n",
    "    console.log(\"Perfect weather!\");\n",
    "}"
   ]
  },
  {
   "cell_type": "markdown",
   "id": "161a2820",
   "metadata": {},
   "source": [
    "### 6. Booleans in Conditionals\n",
    "#### Python:"
   ]
  },
  {
   "cell_type": "code",
   "execution_count": null,
   "id": "1d184680",
   "metadata": {},
   "outputs": [],
   "source": [
    "is_raining = True\n",
    "if is_raining:\n",
    "    print(\"Take an umbrella\")\n",
    "else:\n",
    "    print(\"No umbrella needed\")"
   ]
  },
  {
   "cell_type": "markdown",
   "id": "7d9f4028",
   "metadata": {},
   "source": [
    "#### Javascript"
   ]
  },
  {
   "cell_type": "code",
   "execution_count": 7,
   "id": "2caa53a1",
   "metadata": {
    "vscode": {
     "languageId": "javascript"
    }
   },
   "outputs": [
    {
     "data": {
      "application/javascript": "\nlet isRaining = true;\nif (isRaining) {\n    console.log(\"Take an umbrella\");\n} else {\n    console.log(\"No umbrella needed\");\n}\n",
      "text/plain": [
       "<IPython.core.display.Javascript object>"
      ]
     },
     "metadata": {},
     "output_type": "display_data"
    }
   ],
   "source": [
    "%%js\n",
    "\n",
    "let isRaining = true;\n",
    "if (isRaining) {\n",
    "    console.log(\"Take an umbrella\");\n",
    "} else {\n",
    "    console.log(\"No umbrella needed\");\n",
    "}"
   ]
  }
 ],
 "metadata": {
  "kernelspec": {
   "display_name": "venv (3.12.3)",
   "language": "python",
   "name": "python3"
  },
  "language_info": {
   "codemirror_mode": {
    "name": "ipython",
    "version": 3
   },
   "file_extension": ".py",
   "mimetype": "text/x-python",
   "name": "python",
   "nbconvert_exporter": "python",
   "pygments_lexer": "ipython3",
   "version": "3.12.3"
  }
 },
 "nbformat": 4,
 "nbformat_minor": 5
}

{
 "cells": [
  {
   "cell_type": "raw",
   "id": "65acca70",
   "metadata": {
    "vscode": {
     "languageId": "raw"
    }
   },
   "source": [
    "---\n",
    "layout: post\n",
    "title: Conditionals in Javascript by Ctrl-Zombies\n",
    "description: Conditionals homework in Javascript\n",
    "permalink: /javascript/conditionals/zombies/hw\n",
    "Author: Aneesh Deevi, Moiz Lukmani, Perry Say\n",
    "---"
   ]
  },
  {
   "cell_type": "markdown",
   "id": "3db6febd",
   "metadata": {},
   "source": [
    "## Conditionals Javascript Homework\n",
    "---\n",
    "### Javascript Popcorn Hack\n",
    "Finish the else function in the program. Then run the code cell in the console to see if it works.\n"
   ]
  },
  {
   "cell_type": "code",
   "execution_count": null,
   "id": "8aa55624",
   "metadata": {
    "vscode": {
     "languageId": "javascript"
    }
   },
   "outputs": [],
   "source": [
    "%%js \n",
    "\n",
    "let snakeDead = true;\n",
    "\n",
    "if (snakeDead === false) {\n",
    "    console.log(\"Continue game\");\n",
    "} else { \n",
    "    \n",
    "}"
   ]
  },
  {
   "cell_type": "markdown",
   "id": "63f1787d",
   "metadata": {},
   "source": [
    "### Part C: JavaScript Practice\n",
    "Here you will make a similar program as the Python program but in Javascript.\n",
    "Then change your program so that it prints:\n",
    "- \"Excellent\" if the score is ≥ 90\n",
    "\n",
    "- \"Good\" if the score is between 60 and 89\n",
    "\n",
    "- \"Fail\" if the score is below 60"
   ]
  },
  {
   "cell_type": "code",
   "execution_count": null,
   "id": "7cddd47f",
   "metadata": {
    "vscode": {
     "languageId": "javascript"
    }
   },
   "outputs": [],
   "source": [
    "%%js \n",
    "\n",
    "// <-- Example Code\n",
    "\n",
    "let x = 19;\n",
    "\n",
    "if (x >= 18) {\n",
    "    console.log(\"You can vote\");\n",
    "} else {\n",
    "    console.log(\"You are too young to vote\");\n",
    "}"
   ]
  },
  {
   "cell_type": "code",
   "execution_count": null,
   "id": "1172c172",
   "metadata": {
    "vscode": {
     "languageId": "javascript"
    }
   },
   "outputs": [],
   "source": [
    "%%js \n",
    "\n",
    "// Do the homework in this code cell"
   ]
  }
 ],
 "metadata": {
  "kernelspec": {
   "display_name": "venv (3.12.3)",
   "language": "python",
   "name": "python3"
  },
  "language_info": {
   "codemirror_mode": {
    "name": "ipython",
    "version": 3
   },
   "file_extension": ".py",
   "mimetype": "text/x-python",
   "name": "python",
   "nbconvert_exporter": "python",
   "pygments_lexer": "ipython3",
   "version": "3.12.3"
  }
 },
 "nbformat": 4,
 "nbformat_minor": 5
}

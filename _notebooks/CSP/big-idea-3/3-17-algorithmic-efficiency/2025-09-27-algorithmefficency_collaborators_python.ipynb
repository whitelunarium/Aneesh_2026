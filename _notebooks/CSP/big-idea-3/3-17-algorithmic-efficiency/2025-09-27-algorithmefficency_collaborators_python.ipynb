{
 "cells": [
  {
   "cell_type": "raw",
   "id": "6e5d86c6",
   "metadata": {
    "vscode": {
     "languageId": "raw"
    }
   },
   "source": [
    "---\n",
    "layout: post\n",
    "title: Algorithm Efficiency Homework\n",
    "description: Quick practice with Algorithm Efficiency\n",
    "permalink: csp/python/algorithmefficency/collaborators/homework\n",
    "authors: Vivian Z, Virgnia Z\n",
    "---"
   ]
  },
  {
   "cell_type": "markdown",
   "id": "18cfa10f",
   "metadata": {},
   "source": [
    "<!-- 1️⃣ Decision vs Optimization (A / B style) -->\n",
    "<div style=\"font-family:system-ui,sans-serif; background:#0b0c0f; color:#f6f7fb; padding:20px; border-radius:16px; max-width:900px; margin:auto; line-height:1.6; margin-bottom:20px;\">\n",
    "  <h2>1️⃣ Decision vs Optimization</h2>\n",
    "  <p>A. Is there a path from your house to school?</p>\n",
    "  <label><input type=\"radio\" name=\"p1a\" value=\"A\"> A</label>\n",
    "  <label><input type=\"radio\" name=\"p1a\" value=\"B\"> B</label>\n",
    "\n",
    "  <p>B. What is the shortest path from your house to school?</p>\n",
    "  <label><input type=\"radio\" name=\"p1b\" value=\"A\"> A</label>\n",
    "  <label><input type=\"radio\" name=\"p1b\" value=\"B\"> B</label>\n",
    "\n",
    "  <p>C. Can all classes fit into a weekly schedule without overlap?</p>\n",
    "  <label><input type=\"radio\" name=\"p1c\" value=\"A\"> A</label>\n",
    "  <label><input type=\"radio\" name=\"p1c\" value=\"B\"> B</label>\n",
    "\n",
    "  <p>D. Minimize total travel time for deliveries to 10 cities.</p>\n",
    "  <label><input type=\"radio\" name=\"p1d\" value=\"A\"> A</label>\n",
    "  <label><input type=\"radio\" name=\"p1d\" value=\"B\"> B</label>\n",
    "</div>\n"
   ]
  },
  {
   "cell_type": "code",
   "execution_count": null,
   "id": "383b87a3",
   "metadata": {
    "vscode": {
     "languageId": "plaintext"
    }
   },
   "outputs": [],
   "source": [
    "Type A or B for each question below\n",
    "A.\n",
    "B.\n",
    "C.\n",
    "D. "
   ]
  },
  {
   "cell_type": "markdown",
   "id": "3e3aeae4",
   "metadata": {},
   "source": [
    "<!-- 2️⃣ Algorithm Efficiency Table -->\n",
    "<div style=\"font-family:system-ui,sans-serif; background:#0b0c0f; color:#f6f7fb; padding:20px; border-radius:16px; max-width:900px; margin:auto; line-height:1.6; margin-bottom:20px;\">\n",
    "  <h2>2️⃣ Algorithm Efficiency Table</h2>\n",
    "  <table style=\"width:100%; border-collapse:collapse; margin-bottom:10px;\">\n",
    "    <thead>\n",
    "      <tr style=\"border-bottom:2px solid #f6f7fb;\">\n",
    "        <th>Input Size (n)</th>\n",
    "        <th>Algorithm X Steps</th>\n",
    "        <th>Algorithm Y Steps</th>\n",
    "        <th>Algorithm Z Steps</th>\n",
    "      </tr>\n",
    "    </thead>\n",
    "    <tbody>\n",
    "      <tr><td>1</td><td>3</td><td>2</td><td>1</td></tr>\n",
    "      <tr><td>2</td><td>6</td><td>4</td><td>2</td></tr>\n",
    "      <tr><td>3</td><td>9</td><td>8</td><td>6</td></tr>\n",
    "      <tr><td>4</td><td>12</td><td>16</td><td>24</td></tr>\n",
    "      <tr><td>5</td><td>15</td><td>32</td><td>120</td></tr>\n",
    "    </tbody>\n",
    "  </table>\n",
    "  \n"
   ]
  },
  {
   "cell_type": "code",
   "execution_count": null,
   "id": "c01656e6",
   "metadata": {
    "vscode": {
     "languageId": "plaintext"
    }
   },
   "outputs": [],
   "source": [
    "Type the growth types for each algorithim below:\n",
    "\n",
    "Algorithm X:\n",
    "Algorithm Y:\n",
    "Algorithm Z: \n",
    "\n",
    "Which is most reasonable for large n? \n"
   ]
  },
  {
   "cell_type": "markdown",
   "id": "c284d040",
   "metadata": {},
   "source": [
    "<!-- 3️⃣ Algorithm A (grows by 3ⁿ) -->\n",
    "<div style=\"font-family:system-ui,sans-serif; background:#0b0c0f; color:#f6f7fb; padding:20px; border-radius:16px; max-width:900px; margin:auto; line-height:1.6; margin-bottom:20px;\">\n",
    "  <h2>3️⃣ Algorithm A (grows by 3ⁿ)</h2>\n",
    "  <table style=\"width:100%; border-collapse:collapse; margin-bottom:10px;\">\n",
    "    <thead>\n",
    "      <tr style=\"border-bottom:2px solid #f6f7fb;\">\n",
    "        <th>Input Size (n)</th><th>Steps</th>\n",
    "      </tr>\n",
    "    </thead>\n",
    "    <tbody>\n",
    "      <tr><td>1</td><td>3</td></tr>\n",
    "      <tr><td>2</td><td><input type=\"text\" style=\"width:50px\"></td></tr>\n",
    "      <tr><td>3</td><td><input type=\"text\" style=\"width:50px\"></td></tr>\n",
    "      <tr><td>4</td><td><input type=\"text\" style=\"width:50px\"></td></tr>\n",
    "      <tr><td>5</td><td><input type=\"text\" style=\"width:50px\"></td></tr>\n",
    "    </tbody>\n",
    "  </table>\n",
    " "
   ]
  },
  {
   "cell_type": "code",
   "execution_count": null,
   "id": "d992596d",
   "metadata": {
    "vscode": {
     "languageId": "plaintext"
    }
   },
   "outputs": [],
   "source": [
    "Type the following steps that belong in the blank boxes below: \n",
    "\n",
    "\n",
    "\n",
    "What is the efficency type? \n",
    "\n",
    "\n",
    "Is this algorithm reasonable for large input sizes? Type yes or no.\n"
   ]
  },
  {
   "cell_type": "markdown",
   "id": "6ee767d0",
   "metadata": {
    "vscode": {
     "languageId": "plaintext"
    }
   },
   "source": [
    "<!-- 4️⃣ Counting Steps (A / B / C / D style) -->\n",
    "<div style=\"font-family:system-ui,sans-serif; background:#0b0c0f; color:#f6f7fb; padding:20px; border-radius:16px; max-width:900px; margin:auto; line-height:1.6; margin-bottom:20px;\">\n",
    "  <h2>4️⃣ Counting Steps</h2>\n",
    "  <p>Compares every pair of items in a list of size n.</p>\n",
    "\n",
    "  <p>1) Steps for n=4:</p>\n",
    "  <label><input type=\"radio\" name=\"p4-1\" value=\"A\"> A. 4</label>\n",
    "  <label><input type=\"radio\" name=\"p4-1\" value=\"B\"> B. 8</label>\n",
    "  <label><input type=\"radio\" name=\"p4-1\" value=\"C\"> C. 16</label>\n",
    "  <label><input type=\"radio\" name=\"p4-1\" value=\"D\"> D. 24</label>\n",
    "\n",
    "  <p>2) Efficiency type:</p>\n",
    "  <label><input type=\"radio\" name=\"p4-2\" value=\"A\"> A. O(n)</label>\n",
    "  <label><input type=\"radio\" name=\"p4-2\" value=\"B\"> B. O(n²)</label>\n",
    "  <label><input type=\"radio\" name=\"p4-2\" value=\"C\"> C. O(2ⁿ)</label>\n",
    "  <label><input type=\"radio\" name=\"p4-2\" value=\"D\"> D. O(n!)</label>\n",
    "\n",
    "  <p>3) Reasonable for very large lists?</p>\n",
    "  <label><input type=\"radio\" name=\"p4-3\" value=\"A\"> A. Yes</label>\n",
    "  <label><input type=\"radio\" name=\"p4-3\" value=\"B\"> B. No</label>\n",
    "</div>\n"
   ]
  },
  {
   "cell_type": "code",
   "execution_count": null,
   "id": "b8ddec96",
   "metadata": {
    "vscode": {
     "languageId": "plaintext"
    }
   },
   "outputs": [],
   "source": [
    "Types the letter corresponding to the correct answer for each question below:\n",
    "\n",
    "1.\n",
    "\n",
    "2.\n",
    "\n",
    "3."
   ]
  },
  {
   "cell_type": "markdown",
   "id": "d426e049",
   "metadata": {
    "vscode": {
     "languageId": "plaintext"
    }
   },
   "source": [
    "<!-- 5️⃣ Heuristic Scenario -->\n",
    "<div style=\"font-family:system-ui,sans-serif; background:#0b0c0f; color:#f6f7fb; padding:20px; border-radius:16px; max-width:900px; margin:auto; line-height:1.6; margin-bottom:20px;\">\n",
    "  <h2>5️⃣ Heuristic Scenario</h2>\n",
    "  <p><strong>Scenario:</strong> A city wants to design bus routes covering all neighborhoods. There are hundreds of possible routes, and finding the perfect shortest set is too complex.</p>\n",
    "\n",
    "  <p>1) Explain one heuristic approach the city could use:</p>\n",
    " \n",
    "\n",
    "  <p>2) Why might this heuristic not give the optimal solution?</p>\n",
    " \n",
    "</div>\n"
   ]
  },
  {
   "cell_type": "code",
   "execution_count": null,
   "id": "ed11a06a",
   "metadata": {
    "vscode": {
     "languageId": "plaintext"
    }
   },
   "outputs": [],
   "source": [
    "Type your free response to the questions below:\n",
    "\n",
    "1.\n",
    "\n",
    "2."
   ]
  },
  {
   "cell_type": "markdown",
   "id": "3153a088",
   "metadata": {},
   "source": [
    "<!-- 6️⃣ Algorithm B -->\n",
    "<div style=\"font-family:system-ui,sans-serif; background:#0b0c0f; color:#f6f7fb; padding:20px; border-radius:16px; max-width:900px; margin:auto; line-height:1.6; margin-bottom:20px;\">\n",
    "  <h2>6️⃣ Algorithm B</h2>\n",
    "\n",
    "  <table style=\"width:100%; border-collapse:collapse; margin-bottom:10px;\">\n",
    "    <thead>\n",
    "      <tr style=\"border-bottom:2px solid #f6f7fb;\">\n",
    "        <th>Input Size (n)</th><th>Steps</th>\n",
    "      </tr>\n",
    "    </thead>\n",
    "    <tbody>\n",
    "      <tr><td>1</td><td>2</td></tr>\n",
    "      <tr><td>2</td><td>4</td></tr>\n",
    "      <tr><td>3</td><td>8</td></tr>\n",
    "      <tr><td>4</td><td>?</td></tr>\n",
    "      <tr><td>5</td><td>?</td></tr>\n",
    "    </tbody>\n",
    "  </table>\n",
    "\n",
    "  <p>Efficiency type:</p>\n",
    "  <label><input type=\"radio\" name=\"bType\"> A. Linear</label><br>\n",
    "  <label><input type=\"radio\" name=\"bType\"> B. Quadratic</label><br>\n",
    "  <label><input type=\"radio\" name=\"bType\"> C. Exponential</label><br>\n",
    "  <label><input type=\"radio\" name=\"bType\"> D. Factorial</label>\n",
    "\n",
    "  <p>Reasonable for large n?</p>\n",
    "  <label><input type=\"radio\" name=\"bReasonable\"> A. Yes</label><br>\n",
    "  <label><input type=\"radio\" name=\"bReasonable\"> B. No</label>\n",
    "</div>\n"
   ]
  },
  {
   "cell_type": "code",
   "execution_count": null,
   "id": "8ebd042f",
   "metadata": {
    "vscode": {
     "languageId": "plaintext"
    }
   },
   "outputs": [],
   "source": [
    "Type the letter corresponding to the correct answer below:\n",
    "\n",
    "Efficency type:\n",
    "\n",
    "Reasonable for large n?"
   ]
  },
  {
   "cell_type": "markdown",
   "id": "bd199996",
   "metadata": {},
   "source": [
    "<!-- 7️⃣ TSP Heuristic -->\n",
    "<div style=\"font-family:system-ui,sans-serif; background:#0b0c0f; color:#f6f7fb; padding:20px; border-radius:16px; max-width:900px; margin:auto; line-height:1.6; margin-bottom:20px;\">\n",
    "  <h2>7️⃣ TSP Heuristic</h2>\n",
    "  <p>Scenario: A city wants to design bus routes covering all neighborhoods. There are hundreds of possible routes, and finding the perfect shortest set is too complex.</p>\n",
    "  <p>Select the approach the city could use:</p>\n",
    "  <label>A. Check all 120 possible routes <input type=\"radio\" name=\"tsp\"></label><br>\n",
    "  <label>B. Always go to nearest unvisited city <input type=\"radio\" name=\"tsp\"></label><br>\n",
    "  <label>C. Randomly choose cities and hope for shortest path <input type=\"radio\" name=\"tsp\"></label><br>\n",
    "  <label>D. List routes alphabetically <input type=\"radio\" name=\"tsp\"></label>\n",
    "</div>\n"
   ]
  },
  {
   "cell_type": "code",
   "execution_count": null,
   "id": "eddfe7b9",
   "metadata": {
    "vscode": {
     "languageId": "plaintext"
    }
   },
   "outputs": [],
   "source": [
    "Type the letter corresponding to the correct answer choice below:\n",
    "\n"
   ]
  },
  {
   "cell_type": "markdown",
   "id": "db4d34e6",
   "metadata": {},
   "source": [
    "<!-- 8️⃣ Efficiency Ranking -->\n",
    "<div style=\"font-family:system-ui,sans-serif; background:#0b0c0f; color:#f6f7fb; padding:20px; border-radius:16px; max-width:900px; margin:auto; line-height:1.6; margin-bottom:20px;\">\n",
    "  <h2>8️⃣ Efficiency Ranking</h2>\n",
    "  <table style=\"width:100%; border-collapse:collapse; margin-bottom:10px;\">\n",
    "    <thead>\n",
    "      <tr style=\"border-bottom:2px solid #f6f7fb;\">\n",
    "        <th>n</th>\n",
    "        <th>Algorithm P</th>\n",
    "        <th>Algorithm Q</th>\n",
    "        <th>Algorithm R</th>\n",
    "      </tr>\n",
    "    </thead>\n",
    "    <tbody>\n",
    "      <tr><td>1</td><td>1</td><td>1</td><td>2</td></tr>\n",
    "      <tr><td>2</td><td>2</td><td>4</td><td>4</td></tr>\n",
    "      <tr><td>3</td><td>3</td><td>9</td><td>8</td></tr>\n",
    "      <tr><td>4</td><td>4</td><td>16</td><td>16</td></tr>\n",
    "      <tr><td>5</td><td>5</td><td>25</td><td>32</td></tr>\n",
    "    </tbody>\n",
    "  </table>\n",
    "\n"
   ]
  },
  {
   "cell_type": "code",
   "execution_count": null,
   "id": "6c039c88",
   "metadata": {
    "vscode": {
     "languageId": "plaintext"
    }
   },
   "outputs": [],
   "source": [
    "Rank each algorithm from most -> least efficent below:\n",
    "\n"
   ]
  }
 ],
 "metadata": {
  "language_info": {
   "name": "python"
  }
 },
 "nbformat": 4,
 "nbformat_minor": 5
}

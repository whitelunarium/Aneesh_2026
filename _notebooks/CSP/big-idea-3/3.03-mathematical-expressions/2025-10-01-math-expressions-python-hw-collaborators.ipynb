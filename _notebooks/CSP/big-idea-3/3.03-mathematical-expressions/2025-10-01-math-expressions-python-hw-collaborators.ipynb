{
 "cells": [
  {
   "cell_type": "markdown",
   "id": "1f551ab0",
   "metadata": {},
   "source": [
    "# 📝 3.3 Homework: Math Expressions & Algorithms in Python\n",
    "\n",
    "## Learning Objectives\n",
    "1. Write a Python program that follows a **step-by-step algorithm**.  \n",
    "2. Use **sequencing** correctly in Python.  \n",
    "3. Use **arithmetic operators** and **variables** to calculate results.  \n",
    "\n",
    "---\n",
    "\n",
    "## Part 1: Sequencing & Variables\n",
    "\n",
    "Write a Python program that performs the following steps **in order**:  \n",
    "\n",
    "1. Create a variable `grade1` and assign it a value of `90`.  \n",
    "2. Create a variable `grade2` and assign it a value of `75`.  \n",
    "3. Calculate the average of `grade1` and `grade2` and store it in a variable called `averageGrade`.  \n",
    "4. Display the value of `averageGrade`.  \n",
    "\n",
    "> **Example Output:**  \n",
    "> `The average grade is 82.5`  "
   ]
  },
  {
   "cell_type": "code",
   "execution_count": null,
   "id": "85f74d07",
   "metadata": {},
   "outputs": [],
   "source": [
    "grade1 = 90\n",
    "grade2 = 75\n",
    "\n",
    "averageGrade = (grade1 + grade2) / 2\n",
    "\n",
    "print(\"The average grade is\", averageGrade)"
   ]
  },
  {
   "cell_type": "markdown",
   "id": "3f621832",
   "metadata": {},
   "source": [
    "\n",
    "\n",
    "## Part 2: Arithmetic Expressions\n",
    "\n",
    "Calculate the following in Python using **variables and arithmetic operators**:  \n",
    "\n",
    "1. `num1 ← 10`  \n",
    "2. `num2 ← 5`  \n",
    "3. `num3 ← num1 + num2 * 2`  \n",
    "4. `num4 ← (num1 + num2) * 2`  \n",
    "5. `num5 ← num3 / 3 + num4`  \n",
    "6. Display the values of `num3`, `num4`, and `num5`.  \n",
    "\n",
    "> Hint: Use `+`, `-`, `*`, `/`, and parentheses to control order of operations.  \n"
   ]
  },
  {
   "cell_type": "code",
   "execution_count": null,
   "id": "51dc5fd2",
   "metadata": {},
   "outputs": [],
   "source": [
    "num1 = 10\n",
    "num2 = 5\n",
    "\n",
    "num3 = num1 + num2 * 2    \n",
    "num4 = (num1 + num2) * 2 \n",
    "num5 = num3 / 3 + num4\n",
    "\n",
    "print(\"num3 =\", num3)\n",
    "print(\"num4 =\", num4)\n",
    "print(\"num5 =\", num5)"
   ]
  },
  {
   "cell_type": "markdown",
   "id": "eaf603f9",
   "metadata": {},
   "source": [
    "\n",
    "\n",
    "## Part 3: Step-by-Step Algorithm Practice\n",
    "\n",
    "Write Python code for this algorithm **without using loops or if statements**:  \n",
    "\n",
    "**Algorithm:**  \n",
    "\n",
    "1. Set `item` to `7`  \n",
    "2. Create three variables: `num1 = 3`, `num2 = 7`, `num3 = 9`  \n",
    "3. Check each variable **manually** to see if it equals `item` (just write it as a sequence of assignments and displays)  \n",
    "4. Display `\"Item found\"` if a variable matches `item`  \n",
    "5. At the end, display `\"Item not found\"` if none match  \n",
    "\n",
    "> Hint: Since you haven’t learned `if` statements, just **write a sequence that shows the comparisons step by step** with comments.  \n",
    "\n",
    "\n"
   ]
  },
  {
   "cell_type": "code",
   "execution_count": null,
   "id": "655902ff",
   "metadata": {},
   "outputs": [],
   "source": [
    "item = 7\n",
    "num1 = 3\n",
    "num2 = 7\n",
    "num3 = 9\n",
    "\n",
    "print(\"Checking num1:\", num1 == item) \n",
    "print(\"Checking num2:\", num2 == item) \n",
    "print(\"Checking num3:\", num3 == item) \n",
    "\n",
    "print(\"Item found\")   \n",
    "print(\"Item not found\")  "
   ]
  },
  {
   "cell_type": "markdown",
   "id": "f75175f4",
   "metadata": {},
   "source": [
    "\n",
    "## Part 4: Mixed Expressions\n",
    "\n",
    "Write a Python program that:  \n",
    "\n",
    "1. Create three variables: `a = 8`, `b = 4`, `c = 10`  \n",
    "2. Calculate:  \n",
    "   - `result1 = a + b * c`  \n",
    "   - `result2 = (a + b) * c`  \n",
    "   - `result3 = a + (b / c)`  \n",
    "3. Display all three results.  \n",
    "\n",
    "> This will help you practice **order of operations** and arithmetic in Python."
   ]
  },
  {
   "cell_type": "code",
   "execution_count": null,
   "id": "0909c3ea",
   "metadata": {},
   "outputs": [],
   "source": [
    "a = 8\n",
    "b = 4\n",
    "c = 10\n",
    "\n",
    "result1 = a + b * c\n",
    "result2 = (a + b) * c\n",
    "result3 = a + (b / c)\n",
    "\n",
    "print(\"Result 1:\", result1)\n",
    "print(\"Result 2:\", result2)\n",
    "print(\"Result 3:\", result3)"
   ]
  }
 ],
 "metadata": {
  "language_info": {
   "name": "python"
  }
 },
 "nbformat": 4,
 "nbformat_minor": 5
}

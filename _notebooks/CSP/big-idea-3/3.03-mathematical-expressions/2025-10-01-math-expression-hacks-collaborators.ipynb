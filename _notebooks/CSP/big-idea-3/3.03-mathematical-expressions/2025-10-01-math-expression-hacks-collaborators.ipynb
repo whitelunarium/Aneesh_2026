{
 "cells": [
  {
   "cell_type": "markdown",
   "id": "03b7e146",
   "metadata": {},
   "source": [
    "# 3.3 Hacks (Math Expressions using Pseudocode)"
   ]
  },
  {
   "cell_type": "markdown",
   "id": "19cdca56",
   "metadata": {},
   "source": [
    "# 💡 Hack 1: Identify Sequencing, Selection, and Iteration\n",
    "\n",
    "## Instructions\n",
    "Analyze the following algorithm. Identify **which steps demonstrate sequencing, selection, and iteration**.  \n",
    "\n",
    "- **Sequencing:** Steps that happen one after another in order.  \n",
    "- **Selection:** A decision is made that can lead to different outcomes.  \n",
    "- **Iteration:** A step or set of steps repeats based on a condition.  \n",
    "\n",
    "---\n",
    "\n",
    "### Algorithm\n",
    "1. Set item to the number to search for\n",
    "2. Get next number in the list\n",
    "3. If number = item, display “item found”\n",
    "4. If there are more numbers in the list, go back to Step 2\n",
    "5. Display “item not found”\n"
   ]
  },
  {
   "cell_type": "code",
   "execution_count": null,
   "id": "f0636d18",
   "metadata": {
    "vscode": {
     "languageId": "plaintext"
    }
   },
   "outputs": [],
   "source": [
    "type your answers here: \n",
    "Sequencing: 1, 2, (then 5 when done)\n",
    "Selection: 3 and 4\n",
    "Iteration: Step 4 causes repeating of Steps 2–3"
   ]
  },
  {
   "cell_type": "markdown",
   "id": "5b2f89d0",
   "metadata": {},
   "source": [
    "# 💡 Hack 2: Predict the Output\n",
    "\n",
    "## Instructions\n",
    "Analyze the following code segment. **Predict what is displayed** when it runs.  \n",
    "\n",
    "- Track how each variable changes after every line.  \n",
    "- Apply arithmetic operations carefully and in order.  \n",
    "- Remember that assignment updates the variable immediately.  \n",
    "\n",
    "---\n",
    "\n",
    "### Code Segment\n",
    "```pseudo\n",
    "- num1 ← 2\n",
    "- num2 ← 4\n",
    "- num3 ← 5\n",
    "- num1 ← num2 + num3\n",
    "- num3 ← num1 + 5\n",
    "- num2 ← (num1 + num3) / 5\n",
    "- DISPLAY(num1)\n",
    "- DISPLAY(num2)\n",
    "- DISPLAY(num3)"
   ]
  },
  {
   "cell_type": "code",
   "execution_count": null,
   "id": "e0ccebeb",
   "metadata": {
    "vscode": {
     "languageId": "plaintext"
    }
   },
   "outputs": [],
   "source": [
    "Replace the ? with your answers\n",
    "# Step-by-step tracking\n",
    "num1 = 2\n",
    "num2 = 4\n",
    "num3 = 5\n",
    "# after num1 ← num2 + num3\n",
    "num1 = 9\n",
    "# after num3 ← num1 + 5\n",
    "num3 = 14\n",
    "# after num2 ← (num1 + num3)/5\n",
    "num2 = (9 + 14)/5 = 23/5 = 4.6\n",
    "\n",
    "# Predicted Output\n",
    "DISPLAY(num1) → 9\n",
    "DISPLAY(num2) → 4.6\n",
    "DISPLAY(num3) → 14"
   ]
  },
  {
   "cell_type": "markdown",
   "id": "d402a50d",
   "metadata": {},
   "source": [
    "# 💡 Hack 3: Practice\n",
    "\n",
    "**Instructions:** Predict the value of `result` after executing the following code. Show your thought process and write your answer below. You can type and test this in [VS Code.dev](https://vscode.dev) if you want.  \n",
    "\n",
    "```pseudo\n",
    "num1 ← 40\n",
    "num2 ← num1 / 2\n",
    "num3 ← 5 * num2 + 3\n",
    "result ← num2 MOD 3 * num1 + 4 - num3 / 2\n",
    "DISPLAY(result)"
   ]
  },
  {
   "cell_type": "code",
   "execution_count": null,
   "id": "b77fd5ab",
   "metadata": {
    "vscode": {
     "languageId": "plaintext"
    }
   },
   "outputs": [],
   "source": [
    "Write Your Answer Here\n",
    "result = 32.5"
   ]
  }
 ],
 "metadata": {
  "language_info": {
   "name": "python"
  }
 },
 "nbformat": 4,
 "nbformat_minor": 5
}

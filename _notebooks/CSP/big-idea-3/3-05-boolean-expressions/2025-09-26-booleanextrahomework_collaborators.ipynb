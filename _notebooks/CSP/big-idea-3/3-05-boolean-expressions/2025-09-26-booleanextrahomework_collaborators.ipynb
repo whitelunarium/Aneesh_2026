{
 "cells": [
  {
   "cell_type": "markdown",
   "id": "9f52e62c",
   "metadata": {},
   "source": [
    "---\n",
    "layout: post\n",
    "title: Boolean Expressions and Logic Homework\n",
    "description: Quick practice with Boolean Expressions and Logic\n",
    "permalink: /csp/python/booleanexpressionsjavascript/collaborators/extrahomework\n",
    "authors: Virginia Z, Vivian Z\n",
    "category: Aneesh (Individual Homeworks)\n",
    "---"
   ]
  },
  {
   "cell_type": "markdown",
   "id": "44307be2",
   "metadata": {},
   "source": [
    "## Booleans Extra Homework\n",
    "\n",
    "---\n",
    "\n",
    "### 1. Movie Night Decision"
   ]
  },
  {
   "cell_type": "code",
   "execution_count": 1,
   "id": "46cf0009",
   "metadata": {},
   "outputs": [
    {
     "name": "stdout",
     "output_type": "stream",
     "text": [
      "You can go to the movies!\n"
     ]
    }
   ],
   "source": [
    "is_raining = False\n",
    "homework_done = True\n",
    "\n",
    "if not is_raining and homework_done:\n",
    "    print(\"You can go to the movies!\")\n",
    "else:\n",
    "    print(\"Stay home tonight.\")"
   ]
  },
  {
   "cell_type": "markdown",
   "id": "a31019bd",
   "metadata": {},
   "source": [
    "### 2. Discount Eligibility"
   ]
  },
  {
   "cell_type": "code",
   "execution_count": 2,
   "id": "78f2f51e",
   "metadata": {},
   "outputs": [
    {
     "name": "stdout",
     "output_type": "stream",
     "text": [
      "You get a student discount!\n"
     ]
    }
   ],
   "source": [
    "is_student = False\n",
    "age = 16\n",
    "\n",
    "if is_student or age < 18:\n",
    "    print(\"You get a student discount!\")\n",
    "else:\n",
    "    print(\"Sorry, no discount.\")"
   ]
  },
  {
   "cell_type": "markdown",
   "id": "adca6511",
   "metadata": {},
   "source": [
    "### 3. Secure Login"
   ]
  },
  {
   "cell_type": "code",
   "execution_count": null,
   "id": "10deb540",
   "metadata": {
    "vscode": {
     "languageId": "javascript"
    }
   },
   "outputs": [],
   "source": [
    "%%js\n",
    "\n",
    "let username = \"admin\";\n",
    "let password = \"1234\";\n",
    "\n",
    "if (username === \"admin\" && password === \"1234\") {\n",
    "    console.log(\"Login successful!\");\n",
    "} else {\n",
    "    console.log(\"Access denied.\");\n",
    "}"
   ]
  },
  {
   "cell_type": "markdown",
   "id": "7bb26be2",
   "metadata": {},
   "source": [
    "### 4. Battery and Power Check"
   ]
  },
  {
   "cell_type": "code",
   "execution_count": null,
   "id": "402ae935",
   "metadata": {
    "vscode": {
     "languageId": "javascript"
    }
   },
   "outputs": [],
   "source": [
    "%%js\n",
    "\n",
    "let pluggedIn = false;\n",
    "let batteryPercent = 65;\n",
    "\n",
    "if (pluggedIn || batteryPercent >= 50) {\n",
    "    console.log(\"You can play the game!\");\n",
    "} else {\n",
    "    console.log(\"Charge your device first.\");\n",
    "}"
   ]
  }
 ],
 "metadata": {
  "kernelspec": {
   "display_name": "venv (3.12.3)",
   "language": "python",
   "name": "python3"
  },
  "language_info": {
   "codemirror_mode": {
    "name": "ipython",
    "version": 3
   },
   "file_extension": ".py",
   "mimetype": "text/x-python",
   "name": "python",
   "nbconvert_exporter": "python",
   "pygments_lexer": "ipython3",
   "version": "3.12.3"
  }
 },
 "nbformat": 4,
 "nbformat_minor": 5
}

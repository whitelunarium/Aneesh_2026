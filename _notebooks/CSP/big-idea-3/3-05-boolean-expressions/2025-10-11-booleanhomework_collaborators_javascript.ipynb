{
 "cells": [
  {
   "cell_type": "markdown",
   "id": "752599c8",
   "metadata": {},
   "source": [
    "---\n",
    "layout: post\n",
    "title: Boolean Expressions and Logic Homework\n",
    "description: Quick practice with Boolean Expressions and Logic\n",
    "permalink: /csp/python/booleanexpressionsjavascript/collaborators/homework\n",
    "authors: Virginia Z, Vivian Z\n",
    "---"
   ]
  },
  {
   "cell_type": "markdown",
   "id": "24ec0689",
   "metadata": {},
   "source": [
    "## 📘 AP CSP Unit 3.5 Boolean Expressions Homework (JavaScript)\n",
    "### Part A: Write Boolean Expressions\n",
    "Write Boolean expressions for the following situations. Use && (and), || (or), and ! (not).\n",
    "1. You can watch a movie if you finished your homework and your age is at least 13.\n",
    "2. You can get dessert if you ordered dinner or your parent says yes.\n",
    "3. You can go outside if it is not raining and the temperature is greater than 60.\n",
    "4. A student is eligible for a discount if they are a student and their age is less than 18."
   ]
  },
  {
   "cell_type": "code",
   "execution_count": null,
   "id": "d2255033",
   "metadata": {
    "vscode": {
     "languageId": "plaintext"
    }
   },
   "outputs": [],
   "source": [
    "Type the appropriate answers to the questions here:\n",
    "1.\n",
    "2.\n",
    "3.\n",
    "4."
   ]
  },
  {
   "cell_type": "markdown",
   "id": "d83cb905",
   "metadata": {},
   "source": [
    "### Part B: Predict the Output\n",
    "What will each of these expressions evaluate to in JavaScript? (true or false)\n",
    "```javascript\n",
    "1. (5 > 3) && (10 < 20)\n",
    "2. (7 === 7) || (4 > 10)\n",
    "3. !(false) && (3 <= 3)\n",
    "4. (true || false) && !(5 === \"5\")\n",
    "5. (12 % 2 === 0) && (15 % 2 === 1)\n",
    "```\n"
   ]
  },
  {
   "cell_type": "code",
   "execution_count": null,
   "id": "95b39e09",
   "metadata": {
    "vscode": {
     "languageId": "plaintext"
    }
   },
   "outputs": [],
   "source": [
    "Type the appropriate answers to the questions here:\n",
    "1.\n",
    "2.\n",
    "3.\n",
    "4."
   ]
  },
  {
   "cell_type": "markdown",
   "id": "c2ddca01",
   "metadata": {},
   "source": [
    "### Part C: Debugging\n",
    "Some students wrote Boolean expressions but made mistakes. Fix the errors.\n",
    "1. if (x > 10 and y < 5)\n",
    "2. if (not isOnline)\n",
    "3. if (age => 16 || hasLicense)"
   ]
  },
  {
   "cell_type": "code",
   "execution_count": null,
   "id": "d7bc6e65",
   "metadata": {
    "vscode": {
     "languageId": "plaintext"
    }
   },
   "outputs": [],
   "source": [
    "Type the appropriate answers to the questions here:\n",
    "1.\n",
    "2.\n",
    "3."
   ]
  }
 ],
 "metadata": {
  "language_info": {
   "name": "python"
  }
 },
 "nbformat": 4,
 "nbformat_minor": 5
}

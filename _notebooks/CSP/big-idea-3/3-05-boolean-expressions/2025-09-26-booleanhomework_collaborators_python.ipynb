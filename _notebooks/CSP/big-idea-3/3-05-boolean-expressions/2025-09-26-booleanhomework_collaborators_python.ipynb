{
 "cells": [
  {
   "cell_type": "raw",
   "id": "254357fb",
   "metadata": {
    "vscode": {
     "languageId": "raw"
    }
   },
   "source": [
    "---\n",
    "layout: post\n",
    "title: Boolean Expressions and Logic Homework\n",
    "description: Quick practice with Boolean Expressions and Logic\n",
    "permalink: /csp/python/booleanexpressions/collaborators/homework\n",
    "authors: Virginia Z, Vivian Z\n",
    "---"
   ]
  },
  {
   "cell_type": "markdown",
   "id": "2424c921",
   "metadata": {},
   "source": [
    "# AP CSP – 10 Minute Problem Set\n",
    "## Big Idea 3.5: Boolean Expressions and Logic\n",
    "\n",
    "### 1. Boolean Basics (1 min)\n",
    "Circle True or False:  \n",
    "a) A Boolean value can only be `True` or `False`.  \n",
    "b) The expression `7 == 8` evaluates to `True`.  \n",
    "c) The expression `5 < 10` evaluates to `True`.  \n",
    "\n",
    "\n"
   ]
  },
  {
   "cell_type": "raw",
   "id": "d94dc5e2",
   "metadata": {
    "vscode": {
     "languageId": "raw"
    }
   },
   "source": [
    "Type the appropriate answer for each question above\n",
    "a) \n",
    "b)\n",
    "c)"
   ]
  },
  {
   "cell_type": "markdown",
   "id": "75722bfd",
   "metadata": {},
   "source": [
    "---\n",
    "\n",
    "### 2. Relational Operators (1 min)\n",
    "Fill in the blank with the correct relational operator (`==, !=, >, <, >=, <=`):  \n",
    "a) `8 ___ 8` → True  \n",
    "b) `12 ___ 15` → True  \n",
    "c) `5 ___ 2` → False  \n",
    "\n"
   ]
  },
  {
   "cell_type": "raw",
   "id": "d0212079",
   "metadata": {
    "vscode": {
     "languageId": "raw"
    }
   },
   "source": [
    "Type the appropriate answer for each question above\n",
    "a) \n",
    "b)\n",
    "c)"
   ]
  },
  {
   "cell_type": "markdown",
   "id": "7c8f8c50",
   "metadata": {},
   "source": [
    "---\n",
    "\n",
    "### 3. Modulo Operator (1 min)\n",
    "Write a Boolean expression that checks if a variable `num` is **even**.\n",
    "\n"
   ]
  },
  {
   "cell_type": "raw",
   "id": "c57812c5",
   "metadata": {
    "vscode": {
     "languageId": "raw"
    }
   },
   "source": [
    "Type the answer to the question below"
   ]
  },
  {
   "cell_type": "markdown",
   "id": "fcf22caa",
   "metadata": {},
   "source": [
    "---\n",
    "\n",
    "### 4. Logical Operators (2 min)\n",
    "Determine if each expression is True or False when `x = 12` and `y = 5`.  \n",
    "\n",
    "a) `(x > 10) and (y > 10)` → ______  \n",
    "b) `(x < 20) or (y > 10)` → ______  \n",
    "c) `not (y < 7)` → ______  \n",
    "\n"
   ]
  },
  {
   "cell_type": "raw",
   "id": "a42a11ed",
   "metadata": {
    "vscode": {
     "languageId": "raw"
    }
   },
   "source": [
    "Type the appropriate answer for each question above\n",
    "a) \n",
    "b)\n",
    "c)"
   ]
  },
  {
   "cell_type": "markdown",
   "id": "2e91adf5",
   "metadata": {},
   "source": [
    "---\n",
    "\n",
    "### 5. Scenario Practice (2 min)\n",
    "Write Boolean expressions for the following:  \n",
    "\n",
    "a) You can go out if you finished your homework **and** your test score is at least 80.  \n",
    "\n",
    "b) You can leave your umbrella at home if it is **not** cloudy **and** the temperature is greater than 75.  \n",
    "\n"
   ]
  },
  {
   "cell_type": "raw",
   "id": "ec3f2396",
   "metadata": {
    "vscode": {
     "languageId": "raw"
    }
   },
   "source": [
    "Type the appropriate answer for each question above\n",
    "a) \n",
    "b)"
   ]
  },
  {
   "cell_type": "markdown",
   "id": "1b548c21",
   "metadata": {},
   "source": [
    "---\n",
    "\n",
    "### 6. AP-Style Question (3 min)\n",
    "In a country, a person must be at least 16 years old to drive a car and at least 18 years old to vote.  \n",
    "The variable `age` represents a person’s age.  \n",
    "\n",
    "A. Which of the following expressions correctly evaluates to `True` if the person is old enough to drive but **not** old enough to vote?  \n",
    "\n",
    "I. `(age >= 16) and (age <= 18)`  \n",
    "II. `(age >= 16) and (not (age >= 18))`  \n",
    "III. `(age < 18) and (not (age < 16))`  \n",
    "\n",
    "- Circle all correct answers.  \n",
    "- Explain briefly why.  \n",
    "\n",
    "---"
   ]
  },
  {
   "cell_type": "raw",
   "id": "42a67a36",
   "metadata": {
    "vscode": {
     "languageId": "raw"
    }
   },
   "source": [
    "A. Type whether I, II, III, mulitple, or none of the above is correct\n",
    "B. Explain why you made your choice in question A"
   ]
  }
 ],
 "metadata": {
  "language_info": {
   "name": "python"
  }
 },
 "nbformat": 4,
 "nbformat_minor": 5
}

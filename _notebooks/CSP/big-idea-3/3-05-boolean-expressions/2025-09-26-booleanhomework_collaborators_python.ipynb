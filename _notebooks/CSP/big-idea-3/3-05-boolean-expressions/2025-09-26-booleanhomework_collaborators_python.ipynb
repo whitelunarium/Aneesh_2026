{
 "cells": [
  {
   "cell_type": "raw",
   "id": "254357fb",
   "metadata": {
    "vscode": {
     "languageId": "raw"
    }
   },
   "source": [
    "---\n",
    "layout: post\n",
    "title: Boolean Expressions and Logic Homework\n",
    "description: Quick practice with Boolean Expressions and Logic\n",
    "permalink: /csp/python/booleanexpressions/collaborators/homework\n",
    "authors: Virginia Z, Vivian Z\n",
    "---"
   ]
  },
  {
   "cell_type": "markdown",
   "id": "2424c921",
   "metadata": {},
   "source": [
    "# AP CSP – 10 Minute Problem Set\n",
    "## Big Idea 3.5: Boolean Expressions and Logic\n",
    "\n",
    "### 1. Boolean Basics (1 min)\n",
    "Circle True or False:  \n",
    "a) A Boolean value can only be `True` or `False`.  \n",
    "b) The expression `7 == 8` evaluates to `True`.  \n",
    "c) The expression `5 < 10` evaluates to `True`.  \n",
    "\n",
    "\n"
   ]
  },
  {
   "cell_type": "raw",
   "id": "d94dc5e2",
   "metadata": {
    "vscode": {
     "languageId": "raw"
    }
   },
   "source": [
    "Type the appropriate answer for each question above\n",
    "a) True\n",
    "b) False\n",
    "c) True"
   ]
  },
  {
   "cell_type": "markdown",
   "id": "75722bfd",
   "metadata": {},
   "source": [
    "---\n",
    "\n",
    "### 2. Relational Operators (1 min)\n",
    "Fill in the blank with the correct relational operator (`==, !=, >, <, >=, <=`):  \n",
    "a) `8 ___ 8` → True  \n",
    "b) `12 ___ 15` → True  \n",
    "c) `5 ___ 2` → False  \n",
    "\n"
   ]
  },
  {
   "cell_type": "raw",
   "id": "d0212079",
   "metadata": {
    "vscode": {
     "languageId": "raw"
    }
   },
   "source": [
    "Type the appropriate answer for each question above\n",
    "a) 8 == 8 → True  \n",
    "b) 12 < 15 → True  \n",
    "c) 5 == 2 → False  "
   ]
  },
  {
   "cell_type": "markdown",
   "id": "7c8f8c50",
   "metadata": {},
   "source": [
    "---\n",
    "\n",
    "### 3. Modulo Operator (1 min)\n",
    "Write a Boolean expression that checks if a variable `num` is **even**.\n",
    "\n"
   ]
  },
  {
   "cell_type": "raw",
   "id": "c57812c5",
   "metadata": {
    "vscode": {
     "languageId": "raw"
    }
   },
   "source": [
    "Type the answer to the question below"
   ]
  },
  {
   "cell_type": "code",
   "execution_count": null,
   "id": "3259b2d7",
   "metadata": {},
   "outputs": [
    {
     "name": "stdout",
     "output_type": "stream",
     "text": [
      "True\n"
     ]
    }
   ],
   "source": [
    "num = 10\n",
    "print(num % 2 == 0)"
   ]
  },
  {
   "cell_type": "markdown",
   "id": "fcf22caa",
   "metadata": {},
   "source": [
    "---\n",
    "\n",
    "### 4. Logical Operators (2 min)\n",
    "Determine if each expression is True or False when `x = 12` and `y = 5`.  \n",
    "\n",
    "a) `(x > 10) and (y > 10)` → ______  \n",
    "b) `(x < 20) or (y > 10)` → ______  \n",
    "c) `not (y < 7)` → ______  \n",
    "\n"
   ]
  },
  {
   "cell_type": "raw",
   "id": "a42a11ed",
   "metadata": {
    "vscode": {
     "languageId": "raw"
    }
   },
   "source": [
    "Type the appropriate answer for each question above\n",
    "a) False\n",
    "b) True\n",
    "c) False"
   ]
  },
  {
   "cell_type": "markdown",
   "id": "2e91adf5",
   "metadata": {},
   "source": [
    "---\n",
    "\n",
    "### 5. Scenario Practice (2 min)\n",
    "Write Boolean expressions for the following:  \n",
    "\n",
    "a) You can go out if you finished your homework **and** your test score is at least 80.  \n",
    "\n",
    "b) You can leave your umbrella at home if it is **not** cloudy **and** the temperature is greater than 75.  \n",
    "\n"
   ]
  },
  {
   "cell_type": "raw",
   "id": "ec3f2396",
   "metadata": {
    "vscode": {
     "languageId": "raw"
    }
   },
   "source": [
    "Type the appropriate answer for each question above\n",
    "a) "
   ]
  },
  {
   "cell_type": "code",
   "execution_count": 2,
   "id": "13492b0c",
   "metadata": {},
   "outputs": [
    {
     "name": "stdout",
     "output_type": "stream",
     "text": [
      "True\n"
     ]
    }
   ],
   "source": [
    "finished_homework = True\n",
    "test_score = 85\n",
    "can_go_out = finished_homework and test_score >= 80\n",
    "print(can_go_out)"
   ]
  },
  {
   "cell_type": "raw",
   "id": "17d6cdf6",
   "metadata": {
    "vscode": {
     "languageId": "raw"
    }
   },
   "source": [
    "b)"
   ]
  },
  {
   "cell_type": "code",
   "execution_count": 3,
   "id": "3e238964",
   "metadata": {},
   "outputs": [
    {
     "name": "stdout",
     "output_type": "stream",
     "text": [
      "True\n"
     ]
    }
   ],
   "source": [
    "is_cloudy = False\n",
    "temperature = 80\n",
    "leave_umbrella = not is_cloudy and temperature > 75\n",
    "print(leave_umbrella)"
   ]
  },
  {
   "cell_type": "markdown",
   "id": "1b548c21",
   "metadata": {},
   "source": [
    "---\n",
    "\n",
    "### 6. AP-Style Question (3 min)\n",
    "In a country, a person must be at least 16 years old to drive a car and at least 18 years old to vote.  \n",
    "The variable `age` represents a person’s age.  \n",
    "\n",
    "A. Which of the following expressions correctly evaluates to `True` if the person is old enough to drive but **not** old enough to vote?  \n",
    "\n",
    "I. `(age >= 16) and (age <= 18)`  \n",
    "II. `(age >= 16) and (not (age >= 18))`  \n",
    "III. `(age < 18) and (not (age < 16))`  \n",
    "\n",
    "- Circle all correct answers.  \n",
    "- Explain briefly why.  \n",
    "\n",
    "---"
   ]
  },
  {
   "cell_type": "raw",
   "id": "42a67a36",
   "metadata": {
    "vscode": {
     "languageId": "raw"
    }
   },
   "source": [
    "A. Type whether I, II, III, mulitple, or none of the above is correct\n",
    "\n",
    "II & III\n",
    "\n",
    "B. Explain why you made your choice in question A\n",
    "\n",
    "Expressions II and III both capture that range (16 ≤ age < 18)."
   ]
  }
 ],
 "metadata": {
  "kernelspec": {
   "display_name": "venv (3.12.3)",
   "language": "python",
   "name": "python3"
  },
  "language_info": {
   "codemirror_mode": {
    "name": "ipython",
    "version": 3
   },
   "file_extension": ".py",
   "mimetype": "text/x-python",
   "name": "python",
   "nbconvert_exporter": "python",
   "pygments_lexer": "ipython3",
   "version": "3.12.3"
  }
 },
 "nbformat": 4,
 "nbformat_minor": 5
}

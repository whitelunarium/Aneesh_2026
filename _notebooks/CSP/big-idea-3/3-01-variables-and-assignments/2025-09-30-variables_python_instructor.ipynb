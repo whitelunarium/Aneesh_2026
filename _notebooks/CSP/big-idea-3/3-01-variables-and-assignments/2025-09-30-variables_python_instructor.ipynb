{
 "cells": [
  {
   "cell_type": "raw",
   "metadata": {
    "vscode": {
     "languageId": "raw"
    }
   },
   "source": [
    "---\n",
    "comments: true\n",
    "layout: post\n",
    "title: Python Variables and Assignments\n",
    "description: Learn about the different variables assignments and data types in Python.  Explore Debugger and understand nature of variables.\n",
    "categories: [Python]\n",
    "courses: { csp: {week: 7} }\n",
    "permalink: /python/variables\n",
    "type: lesson \n",
    "author: John Mortensen\n",
    "---"
   ]
  },
  {
   "cell_type": "markdown",
   "metadata": {},
   "source": [
    "## Python Variables: From APIs to Database Storage (with JavaScript Connections)\n",
    "\n",
    "Welcome! In this lesson, you'll learn about Python variables and assignments, building on your experience with JavaScript. We'll compare how both languages handle variables, data types, and objects, so you can transfer your coding skills and spot similarities and differences.\n",
    "\n",
    "**Lesson Goal:**\n",
    "- Understand how Python variables and assignments work, and how they compare to JavaScript.\n",
    "- Work with and understand how to initialize and assign data to Python objects, just like you did with JavaScript objects.\n",
    "- See how Python's approach to variables, types, and objects is similar to and different from JavaScript.\n",
    "\n",
    "---\n",
    "\n",
    "**Why connect JavaScript and Python?**\n",
    "If you already know JavaScript, learning Python is easier when you see the parallels. Both languages use variables, data types, and objects, but the syntax and some behaviors are different. This lesson will help you bridge your knowledge and become a more versatile programmer."
   ]
  },
  {
   "cell_type": "markdown",
   "metadata": {},
   "source": [
    "## Primitive and Reference Data Types: Python vs JavaScript\n",
    "\n",
    "Just like JavaScript, Python has two main categories of data types: **primitive types** (which store simple values directly) and **reference types** (which store references to more complex data).\n",
    "\n",
    "### Primitive Data Types\n",
    "\n",
    "**In JavaScript:** You learned about `Number`, `String`, `Boolean`, `Undefined`, `Null`, `Symbol`, and `BigInt` as primitive types.\n",
    "\n",
    "**In Python:** The most common primitive types are:\n",
    "- `int` (integer numbers, like `42`)\n",
    "- `float` (decimal numbers, like `3.14`)\n",
    "- `str` (strings, like `'hello'`)\n",
    "- `bool` (Boolean values: `True` or `False`)\n",
    "- `NoneType` (the special value `None`, similar to JavaScript's `null`)\n",
    "\n",
    "Python does not have `undefined`, `symbol`, or `bigint` types, but the core idea is the same: these types hold simple, single values.\n",
    "\n",
    "### Reference Data Types\n",
    "\n",
    "**In JavaScript:** You used `Object`, `Array`, and `Function` as reference types. These store references (links) to more complex data structures.\n",
    "\n",
    "**In Python:** The most common reference types are:\n",
    "- `list` (like JavaScript arrays: `[1, 2, 3]`)\n",
    "- `dict` (like JavaScript objects: `{'name': 'Mario', 'score': 0}`)\n",
    "- `set` (a collection of unique values: `{'apple', 'banana'}`)\n",
    "- `function` (functions are also objects in Python)\n",
    "\n",
    "When you assign a reference type in Python, you are assigning a reference (a link) to the object, not a copy of the object—just like in JavaScript.\n",
    "\n",
    "---\n",
    "\n",
    "**Why does this matter?**\n",
    "Understanding the difference between primitive and reference types helps you predict how variables behave when you assign, copy, or modify them. This is a key skill for debugging and writing reliable code in both Python and JavaScript."
   ]
  },
  {
   "cell_type": "code",
   "execution_count": null,
   "metadata": {},
   "outputs": [],
   "source": [
    "# Python Variables and Assignments Example\n",
    "\n",
    "# --- Primitive Types ---\n",
    "user_id = 101            # int: unique user ID\n",
    "user_name = 'Alice'      # str: user name\n",
    "user_email = 'alice@example.com' # str: user email\n",
    "is_active = True         # bool: is the user active?\n",
    "last_login = None        # NoneType: no login yet\n",
    "\n",
    "print('user_id:', user_id, '| type:', type(user_id))\n",
    "print('user_name:', user_name, '| type:', type(user_name))\n",
    "print('user_email:', user_email, '| type:', type(user_email))\n",
    "print('is_active:', is_active, '| type:', type(is_active))\n",
    "print('last_login:', last_login, '| type:', type(last_login))\n",
    "\n",
    "# --- Reference Types ---\n",
    "user_profile = { # dict: user profile as a dictionary\n",
    "    'id': user_id,\n",
    "    'name': user_name,\n",
    "    'email': user_email,\n",
    "    'active': is_active,\n",
    "    'scores': [0.91, 0.87, 0.76, 0.55, 0.92], # reference to a list of float: user scores\n",
    "    'roles': ['student', 'scrummer'], # reference to a list of str: user roles\n",
    "    'last_login': last_login\n",
    "}  # dict: user profile as a dictionary\n",
    "\n",
    "print('user_profile:', user_profile, '| type:', type(user_profile))\n",
    "\n",
    "# list: login history (empty to start)\n",
    "login_history = []\n",
    "print('login_history:', login_history, '| type:', type(login_history))\n",
    "\n",
    "# set: unique permissions\n",
    "permissions = set(['read', 'write', 'delete'])\n",
    "print('permissions:', permissions, '| type:', type(permissions))\n",
    "\n",
    "# function: a simple function to greet the user\n",
    "def greet(user):\n",
    "    print(f\"Hello, {user['name']}!\")\n",
    "\n",
    "print('greet:', greet, '| type:', type(greet))\n",
    "greet(user_profile)"
   ]
  },
  {
   "cell_type": "markdown",
   "metadata": {},
   "source": [
    "## Hack: Python Dictionary \n",
    "\n",
    "**Why?**\n",
    "\n",
    "Defining user properties is key to most computer systems. Think about something you would want to track in a user profile (for example, a user's favorite color, login count, or last activity).\n",
    "\n",
    "**Task:**\n",
    "\n",
    "Peform Key-Value Homework Hack \n"
   ]
  },
  {
   "cell_type": "markdown",
   "metadata": {},
   "source": [
    "## Python Classes and Objects\n",
    "\n",
    "### Classes\n",
    "To better define users, you can create a class and instantiate multiple objects (instances) from it. This is how the `User` class can work with API or database code:\n",
    "\n",
    "```python\n",
    "# Define a User class to represent a user profile\n",
    "# __init__ is the constructor; self refers to the instance\n",
    "class User:\n",
    "    # Constructor to initialize user properties in the object\n",
    "    def __init__(self, user_id, name, email, active, scores, roles, last_login):\n",
    "        self.id = user_id\n",
    "        self.name = name\n",
    "        self.email = email\n",
    "        self.active = active\n",
    "        self.scores = scores\n",
    "        self.roles = roles\n",
    "        self.last_login = last_login\n",
    "\n",
    "    # String representation of the User object  \n",
    "    def __repr__(self):\n",
    "        return (f'User(id={self.id}, name={self.name}, email={self.email}, active={self.active}, '\n",
    "                f'scores={self.scores}, roles={self.roles}, last_login={self.last_login})')\n",
    "```\n",
    "\n",
    "### Make an Object\n",
    "\n",
    "```python\n",
    "alice = User(101, 'Alice', 'alice@example.com', True, [0.91, 0.87, 0.76, 0.55, 0.92], ['student', 'scrummer'], None)\n",
    "```\n",
    "\n",
    "### Dot Notation\n",
    "You use dot notation to access or change properties and methods of an object:\n",
    "- `object.property` to get or set a value\n",
    "\n",
    "```python\n",
    "print(alice)\n",
    "pring(alice.name)\n",
    "```"
   ]
  },
  {
   "cell_type": "markdown",
   "metadata": {},
   "source": [
    "## Hack: Python Dictionary \n",
    "\n",
    "**Why?**  \n",
    "\n",
    "Defining user properties is key to most computer systems. Think about something you would want to track in a user profile (for example, a user's favorite color, login count, or last activity).\n",
    "\n",
    "**Task:**  \n",
    "Peform Add-Dictionary Homework\n"
   ]
  },
  {
   "cell_type": "code",
   "execution_count": 16,
   "metadata": {},
   "outputs": [
    {
     "name": "stdout",
     "output_type": "stream",
     "text": [
      "User(id=101, name=Alice, email=alice@example.com, active=True, scores=[0.91, 0.87, 0.76, 0.55, 0.92], roles=['student', 'scrummer'], last_login=None)\n",
      "Alice 0.8 [0.91, 0.87, 0.76, 0.55, 0.92]\n",
      "Alice Smith 0.83 [0.91, 0.87, 0.76, 0.55, 0.92, 0.95]\n",
      "User(id=102, name=John, email=john@example.com, active=True, scores=[0.85, 0.8, 0.78, 0.9, 0.88], roles=['student'], last_login=None)\n",
      "John 0.84 [0.85, 0.8, 0.78, 0.9, 0.88]\n"
     ]
    }
   ],
   "source": [
    "'''\n",
    "# --- Object Type ---\n",
    "# Define a User class to encapsulate user data and behavior\n",
    "'''\n",
    "class User:\n",
    "    # Constructor to initialize user properties in the object\n",
    "    def __init__(self, user_id, name, email, active, scores, roles, last_login):\n",
    "        self.id = user_id\n",
    "        self.name = name\n",
    "        self.email = email\n",
    "        self.active = active\n",
    "        self.scores = scores\n",
    "        self.roles = roles\n",
    "        self.last_login = last_login\n",
    "\n",
    "    # String representation of the User object  \n",
    "    def __repr__(self): \n",
    "        return (\n",
    "            f'User(id={self.id}, name={self.name}, email={self.email}, active={self.active}, ' f'scores={self.scores}, roles={self.roles}, last_login={self.last_login})'\n",
    "        )\n",
    "        \n",
    "    def add_score(self, score):\n",
    "        self.scores.append(score)\n",
    "        \n",
    "    def average_score(self):\n",
    "        return sum(self.scores) / len(self.scores) if self.scores else 0\n",
    "\n",
    "alice = User(101, 'Alice', 'alice@example.com', True, [0.91, 0.87, 0.76, 0.55, 0.92], ['student', 'scrummer'], None)\n",
    "john = User(102, 'John', 'john@example.com', True, [0.85, 0.80, 0.78, 0.90, 0.88], ['student'], None) \n",
    "print(alice)\n",
    "print(alice.name, round(alice.average_score(), 2), alice.scores)\n",
    "alice.name = 'Alice Smith'\n",
    "alice.add_score(0.95)\n",
    "print(alice.name, round(alice.average_score(), 2), alice.scores)\n",
    "print(john)\n",
    "print(john.name, round(john.average_score(), 2), john.scores)"
   ]
  },
  {
   "cell_type": "markdown",
   "metadata": {},
   "source": [
    "## Hack: Python Class \n",
    "\n",
    "**Why?**\n",
    "\n",
    "Working with Python classes is key to keeping related data and actions together. In real-world applications, information collected from users (on the frontend) is often stored in backend objects created from classes. This helps organize your code and makes it easier to manage user data and behaviors.\n",
    "\n",
    "**Task:**\n",
    "\n",
    "Peform Add-Behavior Homework\n"
   ]
  }
 ],
 "metadata": {
  "kernelspec": {
   "display_name": "venv (3.13.7)",
   "language": "python",
   "name": "python3"
  },
  "language_info": {
   "codemirror_mode": {
    "name": "ipython",
    "version": 3
   },
   "file_extension": ".py",
   "mimetype": "text/x-python",
   "name": "python",
   "nbconvert_exporter": "python",
   "pygments_lexer": "ipython3",
   "version": "3.13.7"
  }
 },
 "nbformat": 4,
 "nbformat_minor": 2
}

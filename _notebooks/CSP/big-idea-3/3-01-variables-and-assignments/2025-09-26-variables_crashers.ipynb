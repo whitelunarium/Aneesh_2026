{
 "cells": [
  {
   "cell_type": "raw",
   "id": "cc426576",
   "metadata": {
    "vscode": {
     "languageId": "raw"
    }
   },
   "source": [
    "---\n",
    "layout: post\n",
    "title: \"3.1 Variables and Assignments - Python vs JavaScript\"\n",
    "categories: [Programming Fundamentals, Tutorial]\n",
    "tags: [python, javascript, variables, assignment, beginner]\n",
    "description: Learn variables and assignments through the Peppa Pig Maze game\n",
    "author: Anishka Sanghvi, Akshara Shankar, Ruchika Kench\n",
    "permalink: /csp/variables/crashers\n",
    "---"
   ]
  },
  {
   "cell_type": "markdown",
   "id": "28ef350e",
   "metadata": {},
   "source": [
    "# 3.1 Variables & Data Types: Peppa's Maze Adventure\n",
    "\n",
    "## What Are Variables?\n",
    "\n",
    "Variables are **named storage locations** that hold data your program needs. Think of them as labeled boxes where you can store information and retrieve it later.\n",
    "\n",
    "In the Peppa Pig Maze game, variables remember important information:\n",
    "- Where Peppa is standing in the maze\n",
    "- How many moves she has left\n",
    "- Whether it's Peppa's turn or George's turn\n",
    "- What score each player has\n",
    "\n",
    "**Why we need variables:**\n",
    "Without variables, the game would forget Peppa's position every time she moves! Variables let programs remember and update information as the game runs."
   ]
  },
  {
   "cell_type": "markdown",
   "id": "62c8525f",
   "metadata": {},
   "source": [
    "## Creating Variables\n",
    "\n",
    "### Python - Simple Assignment\n",
    "\n",
    "Python creates variables by just assigning a value:"
   ]
  },
  {
   "cell_type": "code",
   "execution_count": null,
   "id": "9d04951a",
   "metadata": {},
   "outputs": [],
   "source": [
    "# No special keyword needed\n",
    "peppa_x = 0\n",
    "peppa_y = 0\n",
    "player_name = \"Peppa\"\n",
    "is_moving = False\n",
    "dice_roll = 4\n",
    "\n",
    "# Print the variables to see their values\n",
    "print(f\"Peppa's X position: {peppa_x}\")\n",
    "print(f\"Peppa's Y position: {peppa_y}\")\n",
    "print(f\"Player name: {player_name}\")\n",
    "print(f\"Is moving: {is_moving}\")\n",
    "print(f\"Dice roll: {dice_roll}\")"
   ]
  },
  {
   "cell_type": "markdown",
   "id": "d056248e",
   "metadata": {},
   "source": [
    "**Variable anatomy:**\n",
    "- `peppa_x` = variable name\n",
    "- `=` = assignment operator (means \"store this value\")\n",
    "- `0` = the value to store\n",
    "\n",
    "### JavaScript - Use let or const\n",
    "\n",
    "JavaScript requires a keyword when creating variables:"
   ]
  },
  {
   "cell_type": "code",
   "execution_count": null,
   "id": "a0fac3d5",
   "metadata": {
    "vscode": {
     "languageId": "javascript"
    }
   },
   "outputs": [],
   "source": [
    "// Use let for values that change\n",
    "let peppaX = 0;\n",
    "let movesLeft = 5;\n",
    "let animating = false;\n",
    "\n",
    "// Use const for values that stay the same\n",
    "const CELL_SIZE = 60;\n",
    "const peppaName = \"Peppa\";\n",
    "const MAZE_WIDTH = 10;\n",
    "\n",
    "// Display the variables\n",
    "console.log(\"Peppa's X position:\", peppaX);\n",
    "console.log(\"Moves left:\", movesLeft);\n",
    "console.log(\"Animating:\", animating);\n",
    "console.log(\"Cell size:\", CELL_SIZE);\n",
    "console.log(\"Peppa's name:\", peppaName);\n",
    "console.log(\"Maze width:\", MAZE_WIDTH);"
   ]
  },
  {
   "cell_type": "markdown",
   "id": "345a11d4",
   "metadata": {},
   "source": [
    "**When to use each:**\n",
    "- `let` - the variable's value will change during the game\n",
    "- `const` - the variable's value stays constant throughout\n",
    "\n",
    "---\n",
    "\n",
    "## Naming Conventions\n",
    "\n",
    "Different languages have different naming styles. The Peppa Maze uses both!\n",
    "\n",
    "### Python: snake_case\n",
    "\n",
    "Python variables use **lowercase with underscores**:"
   ]
  },
  {
   "cell_type": "code",
   "execution_count": null,
   "id": "9d0b4d62",
   "metadata": {},
   "outputs": [],
   "source": [
    "peppa_position = 0\n",
    "current_player = 1\n",
    "moves_remaining = 5\n",
    "waiting_for_answer = False\n",
    "cell_size = 60\n",
    "\n",
    "print(\"Python snake_case variables:\")\n",
    "print(f\"peppa_position = {peppa_position}\")\n",
    "print(f\"current_player = {current_player}\")\n",
    "print(f\"moves_remaining = {moves_remaining}\")\n",
    "print(f\"waiting_for_answer = {waiting_for_answer}\")\n",
    "print(f\"cell_size = {cell_size}\")"
   ]
  },
  {
   "cell_type": "markdown",
   "id": "d0c5d0c6",
   "metadata": {},
   "source": [
    "**Rules:**\n",
    "- All lowercase letters\n",
    "- Use underscores between words\n",
    "- Descriptive names (not just `x` or `p`)\n",
    "\n",
    "### JavaScript: camelCase\n",
    "\n",
    "JavaScript variables use **no spaces with capital letters for new words**:"
   ]
  },
  {
   "cell_type": "code",
   "execution_count": null,
   "id": "0cec2065",
   "metadata": {
    "vscode": {
     "languageId": "javascript"
    }
   },
   "outputs": [],
   "source": [
    "let peppaPosition = 0;\n",
    "let currentPlayer = 1;\n",
    "let movesRemaining = 5;\n",
    "let waitingForAnswer = false;\n",
    "const cellSize = 60;\n",
    "\n",
    "console.log(\"JavaScript camelCase variables:\");\n",
    "console.log(\"peppaPosition =\", peppaPosition);\n",
    "console.log(\"currentPlayer =\", currentPlayer);\n",
    "console.log(\"movesRemaining =\", movesRemaining);\n",
    "console.log(\"waitingForAnswer =\", waitingForAnswer);\n",
    "console.log(\"cellSize =\", cellSize);"
   ]
  },
  {
   "cell_type": "markdown",
   "id": "3c10d9bf",
   "metadata": {},
   "source": [
    "**Rules:**\n",
    "- First word lowercase\n",
    "- Capitalize the first letter of each new word\n",
    "- No underscores between words\n",
    "- Descriptive names\n",
    "\n",
    "### Side-by-Side Comparison\n",
    "\n",
    "| Python | JavaScript | What it stores |\n",
    "|--------|------------|----------------|\n",
    "| `peppa_x` | `peppaX` | Peppa's X position |\n",
    "| `moves_left` | `movesLeft` | Remaining moves |\n",
    "| `current_player` | `currentPlayer` | Whose turn it is |\n",
    "| `waiting_for_answer` | `waitingForAnswer` | Quiz state |\n",
    "\n",
    "### Why naming matters\n",
    "\n",
    "Good names make code readable:"
   ]
  },
  {
   "cell_type": "code",
   "execution_count": null,
   "id": "74e92b66",
   "metadata": {
    "vscode": {
     "languageId": "javascript"
    }
   },
   "outputs": [],
   "source": [
    "// Bad - unclear\n",
    "let x = 5;\n",
    "let p = 1;\n",
    "let m = \"Hi\";\n",
    "\n",
    "console.log(\"Bad naming:\");\n",
    "console.log(\"x =\", x, \"(what is this?)\");\n",
    "console.log(\"p =\", p, \"(what does p mean?)\");\n",
    "console.log(\"m =\", m, \"(unclear purpose)\");\n",
    "\n",
    "console.log(\"\\n\" + \"=\".repeat(30) + \"\\n\");\n",
    "\n",
    "// Good - clear meaning\n",
    "let movesLeft = 5;\n",
    "let currentPlayer = 1;\n",
    "let message = \"Hi\";\n",
    "\n",
    "console.log(\"Good naming:\");\n",
    "console.log(\"movesLeft =\", movesLeft, \"(clearly remaining moves)\");\n",
    "console.log(\"currentPlayer =\", currentPlayer, \"(clearly the active player)\");\n",
    "console.log(\"message =\", message, \"(clearly a message to display)\");"
   ]
  },
  {
   "cell_type": "markdown",
   "id": "9376e515",
   "metadata": {},
   "source": [
    "---\n",
    "\n",
    "## Updating Variables\n",
    "\n",
    "Variables are called \"variable\" because their values can **vary** - they can change!\n",
    "\n",
    "### Changing Number Values\n",
    "\n",
    "The maze constantly updates variables as the game runs:"
   ]
  },
  {
   "cell_type": "code",
   "execution_count": null,
   "id": "5686c80a",
   "metadata": {},
   "outputs": [],
   "source": [
    "# Python - Peppa moves right\n",
    "peppa_x = 2          # Peppa starts at x = 2\n",
    "print(f\"Peppa starts at x = {peppa_x}\")\n",
    "\n",
    "peppa_x = peppa_x + 1  # Add 1 to current value\n",
    "print(f\"After moving right: peppa_x = {peppa_x}\")\n",
    "\n",
    "# Show the process step by step\n",
    "print(\"\\nStep by step:\")\n",
    "print(\"1. Read current value from peppa_x:\", 2)\n",
    "print(\"2. Calculate new value: 2 + 1 =\", 2 + 1)\n",
    "print(\"3. Store new value back in peppa_x:\", peppa_x)"
   ]
  },
  {
   "cell_type": "code",
   "execution_count": null,
   "id": "1df01e52",
   "metadata": {
    "vscode": {
     "languageId": "javascript"
    }
   },
   "outputs": [],
   "source": [
    "// JavaScript - same logic\n",
    "let peppaX = 2;\n",
    "console.log(\"Peppa starts at x =\", peppaX);\n",
    "\n",
    "peppaX = peppaX + 1;  // Take old value, add 1, store result\n",
    "console.log(\"After moving right: peppaX =\", peppaX);\n",
    "\n",
    "console.log(\"\\nHow it works:\");\n",
    "console.log(\"1. Read current value from the variable (2)\");\n",
    "console.log(\"2. Calculate new value (2 + 1 = 3)\");\n",
    "console.log(\"3. Store new value back in the variable\");"
   ]
  },
  {
   "cell_type": "markdown",
   "id": "275defb3",
   "metadata": {},
   "source": [
    "### Updating After Dice Roll"
   ]
  },
  {
   "cell_type": "code",
   "execution_count": null,
   "id": "955e2ca3",
   "metadata": {
    "vscode": {
     "languageId": "javascript"
    }
   },
   "outputs": [],
   "source": [
    "let moves = 0;           // Start with no moves\n",
    "const diceRoll = 4;      // Roll the dice\n",
    "console.log(\"Starting moves:\", moves);\n",
    "console.log(\"Dice roll:\", diceRoll);\n",
    "\n",
    "moves = diceRoll;        // Store the roll\n",
    "console.log(\"After dice roll: moves =\", moves);\n",
    "\n",
    "// Each time Peppa moves:\n",
    "console.log(\"\\nPeppa moves once:\");\n",
    "moves = moves - 1;  // Subtract 1\n",
    "console.log(\"Moves remaining:\", moves);\n",
    "\n",
    "console.log(\"Peppa moves again:\");\n",
    "moves = moves - 1;\n",
    "console.log(\"Moves remaining:\", moves);"
   ]
  },
  {
   "cell_type": "markdown",
   "id": "fba5f90d",
   "metadata": {},
   "source": [
    "### Updating Booleans\n",
    "\n",
    "Booleans flip between true and false:"
   ]
  },
  {
   "cell_type": "code",
   "execution_count": null,
   "id": "9c08a4c4",
   "metadata": {
    "vscode": {
     "languageId": "javascript"
    }
   },
   "outputs": [],
   "source": [
    "let animating = false;   // Not moving\n",
    "console.log(\"Initially animating:\", animating);\n",
    "\n",
    "// Player presses a key\n",
    "animating = true;        // Start moving\n",
    "console.log(\"Player presses key - animating:\", animating);\n",
    "\n",
    "// Movement finishes\n",
    "animating = false;       // Done moving\n",
    "console.log(\"Movement finished - animating:\", animating);"
   ]
  },
  {
   "cell_type": "markdown",
   "id": "e6d0d332",
   "metadata": {},
   "source": [
    "### Updating Strings\n",
    "\n",
    "You can change strings too:"
   ]
  },
  {
   "cell_type": "code",
   "execution_count": null,
   "id": "4d13180d",
   "metadata": {
    "vscode": {
     "languageId": "javascript"
    }
   },
   "outputs": [],
   "source": [
    "let currentMessage = \"Roll the dice\";\n",
    "console.log(\"Initial message:\", currentMessage);\n",
    "\n",
    "currentMessage = \"Peppa's turn!\";  // Changed the message\n",
    "console.log(\"Updated message:\", currentMessage);\n",
    "\n",
    "currentMessage = \"George's turn!\"; // Changed again\n",
    "console.log(\"Final message:\", currentMessage);"
   ]
  },
  {
   "cell_type": "markdown",
   "id": "34fbd8e3",
   "metadata": {},
   "source": [
    "---\n",
    "\n",
    "## Variables Working Together\n",
    "\n",
    "The maze uses multiple variables to track complete game state:"
   ]
  },
  {
   "cell_type": "code",
   "execution_count": null,
   "id": "5467916b",
   "metadata": {
    "vscode": {
     "languageId": "javascript"
    }
   },
   "outputs": [],
   "source": [
    "// Position variables\n",
    "let peppaX = 0;\n",
    "let peppaY = 0;\n",
    "\n",
    "// Game state variables\n",
    "let movesLeft = 0;\n",
    "let currentPlayer = 1;\n",
    "let animating = false;\n",
    "\n",
    "// Display variables\n",
    "let turnMessage = \"Peppa's Turn!\";\n",
    "const playerName = \"Peppa\";\n",
    "\n",
    "console.log(\"=== Initial Game State ===\");\n",
    "console.log(\"Position: (\" + peppaX + \", \" + peppaY + \")\");\n",
    "console.log(\"Moves left:\", movesLeft);\n",
    "console.log(\"Current player:\", currentPlayer);\n",
    "console.log(\"Animating:\", animating);\n",
    "console.log(\"Turn message:\", turnMessage);\n",
    "console.log(\"Player name:\", playerName);"
   ]
  },
  {
   "cell_type": "markdown",
   "id": "51684af9",
   "metadata": {},
   "source": [
    "**During a turn, these update:**\n",
    "\n",
    "1. Dice roll: `movesLeft = 4`\n",
    "2. Player moves: `peppaX = peppaX + 1`, `movesLeft = movesLeft - 1`\n",
    "3. Animation starts: `animating = true`\n",
    "4. Animation ends: `animating = false`\n",
    "5. Turn switches: `currentPlayer = 2`, `turnMessage = \"George's Turn!\"`\n",
    "\n",
    "Let's simulate a complete turn:"
   ]
  },
  {
   "cell_type": "code",
   "execution_count": null,
   "id": "8eebaafa",
   "metadata": {
    "vscode": {
     "languageId": "javascript"
    }
   },
   "outputs": [],
   "source": [
    "// Starting state\n",
    "let peppaX = 0;\n",
    "let movesLeft = 0;\n",
    "let currentPlayer = 1;\n",
    "let animating = false;\n",
    "let turnMessage = \"Peppa's Turn!\";\n",
    "\n",
    "console.log(\"=== COMPLETE TURN SIMULATION ===\");\n",
    "console.log(\"Starting state:\");\n",
    "console.log(\"peppaX:\", peppaX, \"| movesLeft:\", movesLeft, \"| animating:\", animating);\n",
    "\n",
    "// 1. Dice roll\n",
    "movesLeft = 4;\n",
    "console.log(\"\\n1. Dice roll - movesLeft =\", movesLeft);\n",
    "\n",
    "// 2. Player moves\n",
    "peppaX = peppaX + 1;\n",
    "movesLeft = movesLeft - 1;\n",
    "console.log(\"2. Player moves - peppaX =\", peppaX, \"| movesLeft =\", movesLeft);\n",
    "\n",
    "// 3. Animation starts\n",
    "animating = true;\n",
    "console.log(\"3. Animation starts - animating =\", animating);\n",
    "\n",
    "// 4. Animation ends\n",
    "animating = false;\n",
    "console.log(\"4. Animation ends - animating =\", animating);\n",
    "\n",
    "// 5. Turn switches\n",
    "currentPlayer = 2;\n",
    "turnMessage = \"George's Turn!\";\n",
    "console.log(\"5. Turn switches - currentPlayer =\", currentPlayer, \"| turnMessage =\", turnMessage);\n",
    "\n",
    "console.log(\"\\nAll variables updated to reflect what's happening in the game!\");"
   ]
  },
  {
   "cell_type": "markdown",
   "id": "15354307",
   "metadata": {},
   "source": [
    "---\n",
    "\n",
    "## Common Mistakes\n",
    "\n",
    "### Wrong naming convention"
   ]
  },
  {
   "cell_type": "code",
   "execution_count": null,
   "id": "bab6733b",
   "metadata": {},
   "outputs": [],
   "source": [
    "# Bad in Python (JavaScript style)\n",
    "print(\"❌ Bad in Python:\")\n",
    "try:\n",
    "    peppaPosition = 0  # This works but violates Python convention\n",
    "    movesLeft = 5      # This works but violates Python convention\n",
    "    print(\"peppaPosition =\", peppaPosition, \"(works but wrong style)\")\n",
    "    print(\"movesLeft =\", movesLeft, \"(works but wrong style)\")\n",
    "except Exception as e:\n",
    "    print(\"Error:\", e)\n",
    "\n",
    "print(\"\\n✅ Good in Python:\")\n",
    "peppa_position = 0  # Correct Python naming\n",
    "moves_left = 5      # Correct Python naming\n",
    "print(\"peppa_position =\", peppa_position, \"(correct snake_case)\")\n",
    "print(\"moves_left =\", moves_left, \"(correct snake_case)\")"
   ]
  },
  {
   "cell_type": "code",
   "execution_count": null,
   "id": "a0665686",
   "metadata": {
    "vscode": {
     "languageId": "javascript"
    }
   },
   "outputs": [],
   "source": [
    "// Bad in JavaScript (Python style)\n",
    "console.log(\"❌ Bad in JavaScript:\");\n",
    "// let peppa_position = 0;  // This works but violates JavaScript convention\n",
    "// let moves_left = 5;      // This works but violates JavaScript convention\n",
    "console.log(\"peppa_position and moves_left work but violate JavaScript conventions\");\n",
    "\n",
    "console.log(\"\\n✅ Good in JavaScript:\");\n",
    "let peppaPosition = 0;  // Correct JavaScript naming\n",
    "let movesLeft = 5;      // Correct JavaScript naming\n",
    "console.log(\"peppaPosition =\", peppaPosition, \"(correct camelCase)\");\n",
    "console.log(\"movesLeft =\", movesLeft, \"(correct camelCase)\");"
   ]
  },
  {
   "cell_type": "markdown",
   "id": "b3523812",
   "metadata": {},
   "source": [
    "### Using variable before creating it"
   ]
  },
  {
   "cell_type": "code",
   "execution_count": null,
   "id": "c01a2f63",
   "metadata": {
    "vscode": {
     "languageId": "javascript"
    }
   },
   "outputs": [],
   "source": [
    "console.log(\"❌ Bad - trying to use before creating:\");\n",
    "try {\n",
    "    // This will cause an error because movesLeft doesn't exist yet\n",
    "    // movesLeft = movesLeft + 5;  // ERROR! movesLeft doesn't exist yet\n",
    "    console.log(\"Can't use movesLeft before creating it - would cause ReferenceError\");\n",
    "} catch (error) {\n",
    "    console.log(\"Error:\", error.message);\n",
    "}\n",
    "\n",
    "console.log(\"\\n✅ Good - create it first:\");\n",
    "let movesLeft = 0;          // Create the variable first\n",
    "movesLeft = movesLeft + 5;  // Now it works\n",
    "console.log(\"movesLeft =\", movesLeft, \"(created first, then used)\");"
   ]
  },
  {
   "cell_type": "markdown",
   "id": "903ad60c",
   "metadata": {},
   "source": [
    "### Forgetting quotes for strings"
   ]
  },
  {
   "cell_type": "code",
   "execution_count": null,
   "id": "8310942f",
   "metadata": {
    "vscode": {
     "languageId": "javascript"
    }
   },
   "outputs": [],
   "source": [
    "console.log(\"❌ Bad - no quotes:\");\n",
    "try {\n",
    "    // let name = Peppa;  // ERROR! Thinks Peppa is a variable\n",
    "    console.log(\"'let name = Peppa;' would cause ReferenceError - thinks Peppa is a variable\");\n",
    "} catch (error) {\n",
    "    console.log(\"Error:\", error.message);\n",
    "}\n",
    "\n",
    "console.log(\"\\n✅ Good - use quotes:\");\n",
    "let name = \"Peppa\";  // Correctly stores text\n",
    "console.log(\"name =\", name, \"(correctly stores text in quotes)\");"
   ]
  },
  {
   "cell_type": "markdown",
   "id": "27bfa827",
   "metadata": {},
   "source": [
    "---\n",
    "\n",
    "## Key Takeaways\n",
    "\n",
    "**What are variables?**\n",
    "- Named storage locations for data\n",
    "- Remember information while program runs\n",
    "- Can be read and updated as needed\n",
    "\n",
    "**Creating variables:**\n",
    "- **Python**: Just assign: `name = \"Peppa\"`\n",
    "- **JavaScript**: Use `let` or `const`: `let name = \"Peppa\";`\n",
    "\n",
    "**Naming:**\n",
    "- **Python**: `snake_case` (underscores)\n",
    "- **JavaScript**: `camelCase` (capital letters for new words)\n",
    "- Always use descriptive names\n",
    "\n",
    "**Updating:**\n",
    "- Variables can change: `x = x + 1`\n",
    "- Strings, numbers, and booleans can all be updated\n",
    "- Updates happen constantly as the game runs\n",
    "\n",
    "Now you understand how variables store and track information in the Peppa Maze game!"
   ]
  }
 ],
 "metadata": {
  "language_info": {
   "name": "python"
  }
 },
 "nbformat": 4,
 "nbformat_minor": 5
}

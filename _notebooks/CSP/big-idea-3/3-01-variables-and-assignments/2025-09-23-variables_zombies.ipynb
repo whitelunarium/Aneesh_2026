{
 "cells": [
  {
   "cell_type": "raw",
   "id": "121b9910",
   "metadata": {
    "vscode": {
     "languageId": "raw"
    }
   },
   "source": [
    "---\n",
    "layout: post\n",
    "title: Variables & Assignments\n",
    "description: This page will teach you about variables and assignments in programming.\n",
    "permalink: /csp/variables/zombies\n",
    "breadcrumb: True\n",
    "Author: Ethan Patel, Tanay Paranjpe, Neil Manjrekar\n",
    "---"
   ]
  },
  {
   "cell_type": "markdown",
   "id": "32b2b5d6",
   "metadata": {},
   "source": [
    "## Variables & Assignments\n",
    "---\n",
    "1. Introduction:\n",
    "- Variables are ways to **store values** inside a game or code for later use. It can be numerical or strings(letters and words). It is like a box that has a name but the contents inside cannot be changed. Make sure you name your variables with descriptive, but not long words.\n"
   ]
  },
  {
   "cell_type": "markdown",
   "id": "3102400e",
   "metadata": {},
   "source": [
    "2. Key concepts:\n",
    "- **Variable**: A container that stores information and values\n",
    "- **Assignment**: The value being assigned to the variable\n",
    "- **Value**: The data inside a variable"
   ]
  },
  {
   "cell_type": "markdown",
   "id": "5189853e",
   "metadata": {},
   "source": [
    "### 3. Python:"
   ]
  },
  {
   "cell_type": "code",
   "execution_count": null,
   "id": "dd8f250c",
   "metadata": {},
   "outputs": [],
   "source": [
    "\n",
    "age = 15 # Stores \"age\" as 15, INTEGER\n",
    "weight = 135 # Stores \"weight\" as 135, INTEGER\n",
    "name = \"Mike\" # Stores \"name\" as Mike, STRING\n"
   ]
  },
  {
   "cell_type": "markdown",
   "id": "52153d39",
   "metadata": {},
   "source": [
    "### JavaScript\n",
    "(Similar to python)"
   ]
  },
  {
   "cell_type": "code",
   "execution_count": 3,
   "id": "22b41571",
   "metadata": {
    "vscode": {
     "languageId": "javascript"
    }
   },
   "outputs": [
    {
     "data": {
      "application/javascript": "\nlet age = 15 // Stores \"age\" as 15 as well, but add let in front\nlet weight = 135 // Stores \"weight\" as 135\nlet name = \"Mike\" // Stores \"name\" as Mike\n",
      "text/plain": [
       "<IPython.core.display.Javascript object>"
      ]
     },
     "metadata": {},
     "output_type": "display_data"
    }
   ],
   "source": [
    "%%javascript // This line is needed to run JavaScript in a Jupyter notebook cell\n",
    "\n",
    "let age = 15 // Stores \"age\" as 15 as well, but add let in front\n",
    "let weight = 135 // Stores \"weight\" as 135\n",
    "let name = \"Mike\" // Stores \"name\" as Mike"
   ]
  },
  {
   "cell_type": "markdown",
   "id": "1805e722",
   "metadata": {},
   "source": [
    "### WARNING! Avoid doing the follwing:"
   ]
  },
  {
   "cell_type": "code",
   "execution_count": null,
   "id": "e9341e85",
   "metadata": {
    "vscode": {
     "languageId": "javascript"
    }
   },
   "outputs": [],
   "source": [
    "%%javascript // This line is needed to run JavaScript in a Jupyter notebook cell\n",
    "\n",
    "// bad examples\n",
    "let age == 14 // Incorrect as \"==\" is for comparing values\n",
    "age = 14 // does not create a variable in JavaScript \n"
   ]
  },
  {
   "cell_type": "markdown",
   "id": "f5ccf020",
   "metadata": {},
   "source": [
    "## Popcorn Hack 1\n",
    "---"
   ]
  },
  {
   "cell_type": "code",
   "execution_count": null,
   "id": "1b1346df",
   "metadata": {},
   "outputs": [
    {
     "name": "stdout",
     "output_type": "stream",
     "text": [
      "The snake is 3 inches long and it's green.\n"
     ]
    }
   ],
   "source": [
    "# Finish the code \n",
    "# Example: snakeSize = 10\n",
    "snakeSize = 3   # <-- Add the size of the snake\n",
    "snakeColor = \"green\"  # <-- Add the color of the snake\n",
    "\n",
    "# Print greeting\n",
    "print(\"The snake is \" + str(snakeSize) + \" inches long and it's \" + snakeColor + \".\")\n"
   ]
  },
  {
   "cell_type": "markdown",
   "id": "f5fa0951",
   "metadata": {},
   "source": [
    "## Popcorn Hack 2\n",
    "---"
   ]
  },
  {
   "cell_type": "code",
   "execution_count": null,
   "id": "4ebf316b",
   "metadata": {},
   "outputs": [],
   "source": [
    "# # Finish the code \n",
    "# Define the win/lose messages first\n",
    "messageWin = \"You win!\" # <-- Change this to \"You win!\"\n",
    "messageLose = \"You lose!\" # <-- Change this to \"You lose!\"\n",
    "\n",
    "# Choose outcome\n",
    "winOrLose = \"win\" or \"lose\"  # <-- Change this to either \"win\" or \"lose\"\n",
    "\n",
    "# Print result\n",
    "if winOrLose == \"win\":\n",
    "    print(messageWin)\n",
    "else:\n",
    "    print(messageLose)\n"
   ]
  },
  {
   "cell_type": "markdown",
   "id": "b83d1d22",
   "metadata": {},
   "source": [
    "### Which one do you think is a better variable name?\n",
    "1. highScore vs highestScoreInTheGame\n",
    "2. firstName vs 1stName\n",
    "3. ID vs studentID"
   ]
  },
  {
   "cell_type": "markdown",
   "id": "cbd6d835",
   "metadata": {},
   "source": [
    "---"
   ]
  },
  {
   "cell_type": "markdown",
   "id": "dd03e973",
   "metadata": {},
   "source": [
    "## Multiple Choice!\n",
    "Compete as teams and try to win!"
   ]
  },
  {
   "cell_type": "markdown",
   "id": "b9b48635",
   "metadata": {},
   "source": [
    "[Click to run MCQ](https://whitelunarium.github.io/Aneesh_2026/mcq)"
   ]
  }
 ],
 "metadata": {
  "kernelspec": {
   "display_name": "venv (3.13.7)",
   "language": "python",
   "name": "python3"
  },
  "language_info": {
   "codemirror_mode": {
    "name": "ipython",
    "version": 3
   },
   "file_extension": ".py",
   "mimetype": "text/x-python",
   "name": "python",
   "nbconvert_exporter": "python",
   "pygments_lexer": "ipython3",
   "version": "3.13.7"
  }
 },
 "nbformat": 4,
 "nbformat_minor": 5
}

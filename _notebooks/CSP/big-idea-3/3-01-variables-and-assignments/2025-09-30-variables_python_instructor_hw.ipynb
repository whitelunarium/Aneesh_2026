{
 "cells": [
  {
   "cell_type": "raw",
   "metadata": {
    "vscode": {
     "languageId": "raw"
    }
   },
   "source": [
    "---\n",
    "layout: post\n",
    "title: Python Variables and assignments homework\n",
    "description: Assign variables and examine in Debugger using this notebook.\n",
    "permalink: /python/variables/homework\n",
    "author: John Mortensen\n",
    "---"
   ]
  },
  {
   "cell_type": "markdown",
   "metadata": {},
   "source": [
    "## Python Variables: Homework Notbook`\n",
    "\n",
    "Use this Notbook to perform Python Variable Homework Hacks.\n",
    "\n",
    "---"
   ]
  },
  {
   "cell_type": "code",
   "execution_count": null,
   "metadata": {},
   "outputs": [
    {
     "name": "stdout",
     "output_type": "stream",
     "text": [
      "Alice\n",
      "user_profile: {'id': 101, 'name': 'Alice', 'email': 'alice@example.com', 'active': True, 'scores': [0.91, 0.87, 0.76, 0.55, 0.92], 'roles': ['student', 'scrummer'], 'last_login': None} | type: <class 'dict'>\n",
      "user_profile[\"name\"]: Alice | type: <class 'str'>\n"
     ]
    }
   ],
   "source": [
    "'''\n",
    "Add-Dictionary Homework Instructions:\n",
    "- Add multi-line comment to describe purpose of primitive types, replace existing single line comment\n",
    "- Add multi-line comment to describe purpose of dictionary type, replace existing single line comment \n",
    "- Add dictionary inside the user_profile dictionary, a favorites dictionary as dictionary in user_profile \n",
    "- Print the user_profile.favorites dictionary \n",
    "'''\n",
    "\n",
    "# --- Primitive Types ---\n",
    "user_id = 101            # int: unique user ID\n",
    "user_name = 'Alice'      # str: user name\n",
    "user_email = 'alice@example.com' # str: user email\n",
    "is_active = True         # bool: is the user active?\n",
    "last_login = None        # NoneType: no login yet\n",
    "\n",
    "# --- Reference Types ---\n",
    "user_profile = { # dict: user profile as a dictionary\n",
    "    'id': user_id,\n",
    "    'name': user_name,\n",
    "    'email': user_email,\n",
    "    'active': is_active,\n",
    "    'scores': [0.91, 0.87, 0.76, 0.55, 0.92], # reference to a list of float: user scores\n",
    "    'roles': ['student', 'scrummer'], # reference to a list of str: user roles\n",
    "    'last_login': last_login\n",
    "}  # dict: user profile as a dictionary\n",
    "\n",
    "print(user_profile['name'])\n",
    "print('user_profile:', user_profile, '| type:', type(user_profile))\n",
    "print('user_profile[\"name\"]:', user_profile['name'], '| type:', type(user_profile['name']))\n"
   ]
  },
  {
   "cell_type": "code",
   "execution_count": 2,
   "metadata": {},
   "outputs": [
    {
     "name": "stdout",
     "output_type": "stream",
     "text": [
      "User(id=101, name=Alice, email=alice@example.com, active=True, scores=[0.91, 0.87, 0.76, 0.55, 0.92], roles=['student', 'scrummer'], last_login=None)\n",
      "User(id=102, name=John, email=john@example.com, active=True, scores=[0.85, 0.8, 0.78, 0.9, 0.88], roles=['student'], last_login=None)\n"
     ]
    }
   ],
   "source": [
    "'''\n",
    "Add-Behavior Homework Instructions:\n",
    "- Comment the code for class\n",
    "- Comment the code for objects and dot notation usage\n",
    "- Add new tracking item, for instance the favorites dictionary created in Add-Dictionary Homework\n",
    "- Add behavior using the method to the class that uses the new tracking item\n",
    "'''\n",
    "\n",
    "class User:\n",
    "    def __init__(self, user_id, name, email, active, scores, roles, last_login):\n",
    "        self.id = user_id\n",
    "        self.name = name\n",
    "        self.email = email\n",
    "        self.active = active\n",
    "        self.scores = scores\n",
    "        self.roles = roles\n",
    "        self.last_login = last_login\n",
    "\n",
    "    def __repr__(self):\n",
    "        return (\n",
    "            f'User(id={self.id}, name={self.name}, email={self.email}, active={self.active}, ' f'scores={self.scores}, roles={self.roles}, last_login={self.last_login})'\n",
    "        )\n",
    "        \n",
    "    def add_score(self, score):\n",
    "        self.scores.append(score)\n",
    "        \n",
    "    def average_score(self):\n",
    "        return sum(self.scores) / len(self.scores) if self.scores else 0\n",
    "\n",
    "alice = User(101, 'Alice', 'alice@example.com', True, [0.91, 0.87, 0.76, 0.55, 0.92], ['student', 'scrummer'], None)\n",
    "john = User(102, 'John', 'john@example.com', True, [0.85, 0.80, 0.78, 0.90, 0.88], ['student'], None) \n",
    "print(alice)\n",
    "print(john)"
   ]
  }
 ],
 "metadata": {
  "kernelspec": {
   "display_name": "venv (3.13.7)",
   "language": "python",
   "name": "python3"
  },
  "language_info": {
   "codemirror_mode": {
    "name": "ipython",
    "version": 3
   },
   "file_extension": ".py",
   "mimetype": "text/x-python",
   "name": "python",
   "nbconvert_exporter": "python",
   "pygments_lexer": "ipython3",
   "version": "3.13.7"
  }
 },
 "nbformat": 4,
 "nbformat_minor": 2
}

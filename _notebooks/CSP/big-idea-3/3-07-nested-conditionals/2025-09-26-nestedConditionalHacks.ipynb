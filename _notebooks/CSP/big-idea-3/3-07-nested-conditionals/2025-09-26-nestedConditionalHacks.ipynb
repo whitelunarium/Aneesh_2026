{
 "cells": [
  {
   "cell_type": "raw",
   "id": "6290bcd2",
   "metadata": {
    "vscode": {
     "languageId": "raw"
    }
   },
   "source": [
    "---\n",
    "title: \"Nested Conditionals in Javascript and Python - Hacks\"\n",
    "description: \"Apply your skills of multilayered conditionals and combine all you've learned so far.\"\n",
    "layout: post\n",
    "permalink: /csp/big-idea-3/nested-conditionals/p4/hacks\n",
    "---"
   ]
  }
 ],
 "metadata": {
  "language_info": {
   "name": "python"
  }
 },
 "nbformat": 4,
 "nbformat_minor": 5
}

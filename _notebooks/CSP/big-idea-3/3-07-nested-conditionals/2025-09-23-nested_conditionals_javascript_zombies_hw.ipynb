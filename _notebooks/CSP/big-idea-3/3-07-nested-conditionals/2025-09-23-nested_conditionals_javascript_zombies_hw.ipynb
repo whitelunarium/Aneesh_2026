{
 "cells": [
  {
   "cell_type": "raw",
   "id": "859de763",
   "metadata": {
    "vscode": {
     "languageId": "raw"
    }
   },
   "source": [
    "---\n",
    "layout: post\n",
    "title: Conditionals in Javascript by Ctrl-Zombies\n",
    "description: Conditionals homework in Javascript\n",
    "permalink: /javascript/nested_conditionals/zombies/hw\n",
    "Author: Aneesh Deevi, Moiz Lukmani, Perry Say\n",
    "---"
   ]
  }
 ],
 "metadata": {
  "language_info": {
   "name": "python"
  }
 },
 "nbformat": 4,
 "nbformat_minor": 5
}

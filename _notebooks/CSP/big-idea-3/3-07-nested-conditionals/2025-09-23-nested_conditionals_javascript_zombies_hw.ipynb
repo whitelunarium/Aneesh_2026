{
 "cells": [
  {
   "cell_type": "raw",
   "id": "859de763",
   "metadata": {
    "vscode": {
     "languageId": "raw"
    }
   },
   "source": [
    "---\n",
    "layout: post\n",
    "title: Conditionals in Javascript by Ctrl-Zombies\n",
    "description: Conditionals homework in Javascript\n",
    "permalink: /javascript/nested_conditionals/zombies/hw\n",
    "Author: Aneesh Deevi, Moiz Lukmani, Perry Say\n",
    "---"
   ]
  },
  {
   "cell_type": "markdown",
   "id": "eee8a8e6",
   "metadata": {},
   "source": [
    "# Nested Conditionals Javascript Homework"
   ]
  },
  {
   "cell_type": "markdown",
   "id": "ed97f2dd",
   "metadata": {},
   "source": [
    "## Practice Problems:"
   ]
  },
  {
   "cell_type": "markdown",
   "id": "c335a5d9",
   "metadata": {},
   "source": [
    "## Problem 1: Age and Movie Rating\n",
    "Write a program that asks for a person's age. If they are **under 13**, print *\"You can watch G or PG movies.\"* \n",
    "- If they are **13–17**, print *\"You can watch PG-13 movies.\"* \n",
    "- If they are **18 or older**, print *\"You can watch R-rated movies.\"*"
   ]
  },
  {
   "cell_type": "code",
   "execution_count": null,
   "id": "4a19f878",
   "metadata": {
    "vscode": {
     "languageId": "javascript"
    }
   },
   "outputs": [],
   "source": [
    "let age = parseInt(prompt(\"Enter age:\"));\n",
    "\n",
    "// TODO: Write nested conditionals here\n",
    "if (age < __) {\n",
    "  console.log(\"Text\");\n",
    "} else {\n",
    "  if (age < __) {\n",
    "    console.log(\"Text\");\n",
    "  } else {\n",
    "    console.log(\"Text\");\n",
    "  }\n",
    "}"
   ]
  },
  {
   "cell_type": "markdown",
   "id": "35f58f57",
   "metadata": {},
   "source": [
    "## Problem 2: Grade Categorizer\n",
    "Ask the user for a grade percentage (0–100).\n",
    "- If the grade is 90 or higher, log \"A\".\n",
    "- Else if it is 80–89, log \"B\".\n",
    "- Else if it is 70–79, log \"C\".\n",
    "- Else if it is 60–69, log \"D\".\n",
    "- Otherwise, log \"F\""
   ]
  },
  {
   "cell_type": "code",
   "execution_count": null,
   "id": "1e900dfd",
   "metadata": {
    "vscode": {
     "languageId": "javascript"
    }
   },
   "outputs": [],
   "source": [
    "let grade = parseInt(prompt(\"Enter grade percentage:\"));\n",
    "\n",
    "// TODO: Write your nested conditionals here\n",
    "if (grade >= __) {\n",
    "  console.log(\"letter\");\n",
    "} else {\n",
    "  if (grade >= __) {\n",
    "    console.log(\"letter\");\n",
    "  } else {\n",
    "    if (grade >= __) {\n",
    "      console.log(\"letter\");\n",
    "    } else {\n",
    "      if (grade >= __) {\n",
    "        console.log(\"letter\");\n",
    "      } else {\n",
    "        console.log(\"letter\");\n",
    "      }\n",
    "    }\n",
    "  }\n",
    "}"
   ]
  }
 ],
 "metadata": {
  "language_info": {
   "name": "python"
  }
 },
 "nbformat": 4,
 "nbformat_minor": 5
}

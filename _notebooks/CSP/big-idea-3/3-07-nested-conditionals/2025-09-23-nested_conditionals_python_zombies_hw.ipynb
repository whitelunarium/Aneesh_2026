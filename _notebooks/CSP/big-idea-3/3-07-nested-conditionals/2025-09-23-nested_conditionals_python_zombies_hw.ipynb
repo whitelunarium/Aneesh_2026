{
 "cells": [
  {
   "cell_type": "raw",
   "id": "5d506f39",
   "metadata": {
    "vscode": {
     "languageId": "raw"
    }
   },
   "source": [
    "---\n",
    "layout: post\n",
    "title: Conditionals in Python by Ctrl-Zombies\n",
    "description: Conditionals homework in Python\n",
    "permalink: /python/nested_conditionals/zombies/hw\n",
    "Author: Aneesh Deevi, Moiz Lukmani, Perry Say\n",
    "---"
   ]
  },
  {
   "cell_type": "markdown",
   "id": "3a5fd5c2",
   "metadata": {},
   "source": [
    "# Nested Conditionals Python Homework\n",
    "---\n",
    "## Python Popcorn Hack"
   ]
  },
  {
   "cell_type": "code",
   "execution_count": null,
   "id": "f8d935d2",
   "metadata": {},
   "outputs": [],
   "source": [
    "weather = \"rainy\"\n",
    "temperature = 50\n",
    "\n",
    "# Fill in the blanks!\n",
    "if weather == \"sunny\":\n",
    "    if temperature ___ 70:  # fill in missing operator\n",
    "        print(\"\") # fill in missing string\n",
    "    else:\n",
    "        print(\"Could be a bit chilly, wear a jacket!\")\n",
    "else:\n",
    "    if ______ == \"rainy\":   # fill in missing word\n",
    "        print(\"☔ Don't forget your umbrella!\")\n",
    "    else:\n",
    "        print(\"\") # fill in missing string"
   ]
  },
  {
   "cell_type": "markdown",
   "id": "ae4e9520",
   "metadata": {},
   "source": [
    "### Part A: Python Practice\n",
    "Write a code cell that helps decide what type of transportation someone should take.\n",
    "\n",
    "- If the **weather** is `\"rainy\"`:  \n",
    "  - If they have an umbrella -> print `\"Take the bus!\"`  \n",
    "  - If they don’t -> print `\"Call an Uber!\"`  \n",
    "- If the **weather** is `\"sunny\"`:  \n",
    "  - If they have a bike -> print `\"Bike!\"`  \n",
    "  - If they don’t -> print `\"Walk!\"`  \n",
    "\n",
    "---\n",
    "\n",
    "### Example Starter Code "
   ]
  },
  {
   "cell_type": "code",
   "execution_count": null,
   "id": "23a860e1",
   "metadata": {},
   "outputs": [],
   "source": [
    "weather = \"sunny\"\n",
    "has_umbrella = False\n",
    "has_bike = True\n"
   ]
  },
  {
   "cell_type": "code",
   "execution_count": null,
   "id": "3dea2a33",
   "metadata": {},
   "outputs": [],
   "source": [
    "# Write your nested conditionals here!"
   ]
  }
 ],
 "metadata": {
  "language_info": {
   "name": "python"
  }
 },
 "nbformat": 4,
 "nbformat_minor": 5
}

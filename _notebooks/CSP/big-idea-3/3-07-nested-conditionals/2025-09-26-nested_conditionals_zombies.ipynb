{
 "cells": [
  {
   "cell_type": "raw",
   "id": "2546234a",
   "metadata": {
    "vscode": {
     "languageId": "raw"
    }
   },
   "source": [
    "---\n",
    "layout: post\n",
    "title: Nested Conditionals\n",
    "description: This page will teach you about nested conditionals in programming.\n",
    "permalink: /csp/big-idea-3/nested-conditionals/p3/introduction\n",
    "breadcrumb: True\n",
    "---"
   ]
  },
  {
   "cell_type": "markdown",
   "id": "a15b80fc",
   "metadata": {},
   "source": [
    "# Lesson: Nested Conditionals \n",
    "---"
   ]
  },
  {
   "cell_type": "markdown",
   "id": "ea72918d",
   "metadata": {},
   "source": [
    "\n",
    "## What are Nested Conditionals?\n",
    "A **nested conditional** is a conditional statement inside another conditional statement, or an if statement within an if statement.  \n",
    "This allows us to check multiple conditions in a structured way, which is useful when decisions depend on more than one factor\n",
    "\n",
    "For example:\n",
    "- First, check if a main condition is true.\n",
    "- Then, only if it’s true, check an additional condition inside it.\n",
    "\n",
    "The examples below uses if and else statments to form a nested conditional in both Python and Java.\n"
   ]
  },
  {
   "cell_type": "code",
   "execution_count": null,
   "id": "569a24d0",
   "metadata": {},
   "outputs": [],
   "source": [
    "\n",
    "# Example of a nested conditional in Python\n",
    "\n",
    "age = 18 ##Sets age variable\n",
    "has_id = True ##Sets has_id variable\n",
    "\n",
    "if age >= 18: ##Checks if age is 18 or older\n",
    "    if has_id: ##Checks if the person has an ID\n",
    "        print(\"You are allowed to enter.\") \n",
    "    else: ##If the person does not have an ID\n",
    "        print(\"You need an ID to enter.\")\n",
    "else: ##If the person is younger than 18\n",
    "    print(\"You are too young to enter.\")\n"
   ]
  },
  {
   "cell_type": "code",
   "execution_count": null,
   "id": "0f39866a",
   "metadata": {
    "vscode": {
     "languageId": "javascript"
    }
   },
   "outputs": [],
   "source": [
    "\n",
    "// Example of a nested conditional in JavaScript\n",
    "\n",
    "let age = 18;\n",
    "let hasID = true;\n",
    "\n",
    "if (age >= 18) {\n",
    "    if (hasID) {\n",
    "        console.log(\"You are allowed to enter.\");\n",
    "    } else {\n",
    "        console.log(\"You need an ID to enter.\");\n",
    "    }\n",
    "} else {\n",
    "    console.log(\"You are too young to enter.\");\n",
    "}\n"
   ]
  },
  {
   "cell_type": "markdown",
   "id": "a15104dc",
   "metadata": {},
   "source": [
    "\n",
    "### How the example works:\n",
    "1. The program first checks if `age >= 18`.\n",
    "2. If **False**, it immediately goes to the `else` branch.\n",
    "3. If **True**, it goes inside and checks the **nested condition** `if has_id`.\n",
    "4. Depending on if the **if statement** is true or false, a different final result is printed.\n",
    "\n",
    "---\n"
   ]
  },
  {
   "cell_type": "markdown",
   "id": "a9d2ee15",
   "metadata": {},
   "source": [
    "### Snake Game Example\n",
    "Heres an example of a nested conditional in our Snake Game Hack. In this example, the nested conditional is used to check whether or not the snake hits a wall, losing a life if they do."
   ]
  },
  {
   "cell_type": "code",
   "execution_count": null,
   "id": "5ac37a23",
   "metadata": {
    "vscode": {
     "languageId": "javascript"
    }
   },
   "outputs": [],
   "source": [
    "// Wall Checker\n",
    "            if(wall === 1){\n",
    "                // Wall on, Game over test\n",
    "                if (snake[0].x < 0 || snake[0].x === canvas.width / BLOCK || snake[0].y < 0 || snake[0].y === canvas.height / BLOCK){\n",
    "                    loseLife();\n",
    "                    return;\n",
    "                }\n",
    "            }else{\n",
    "                // Wall Off, Circle around\n",
    "                for(let i = 0, x = snake.length; i < x; i++){\n",
    "                    if(snake[i].x < 0){\n",
    "                        snake[i].x = snake[i].x + (canvas.width / BLOCK);\n",
    "                    }\n",
    "                    if(snake[i].x === canvas.width / BLOCK){\n",
    "                        snake[i].x = snake[i].x - (canvas.width / BLOCK);\n",
    "                    }\n",
    "                    if(snake[i].y < 0){\n",
    "                        snake[i].y = snake[i].y + (canvas.height / BLOCK);\n",
    "                    }\n",
    "                    if(snake[i].y === canvas.height / BLOCK){\n",
    "                        snake[i].y = snake[i].y - (canvas.height / BLOCK);\n",
    "                    }\n",
    "                }\n",
    "            }\n"
   ]
  },
  {
   "cell_type": "markdown",
   "id": "8eb10e92",
   "metadata": {},
   "source": [
    "### Calculator Example\n",
    "Heres another example of a nested conditional, this time in our calculator hack. In this example, multiple nested conditionals are used to do multiple things:\n",
    "1. Distinguishing between digits and decimal points \n",
    "2. Overwrting the display when inputing new numbers\n",
    "3. prevent leading zeros\n",
    "4. Allowing only 1 decimal per number"
   ]
  },
  {
   "cell_type": "code",
   "execution_count": null,
   "id": "655b78bb",
   "metadata": {
    "vscode": {
     "languageId": "javascript"
    }
   },
   "outputs": [],
   "source": [
    "// Number action\n",
    "function number (value) { // function to input numbers into the calculator\n",
    "    if (value != \".\") {\n",
    "        if (nextReady == true) { // nextReady is used to tell the computer when the user is going to input a completely new number\n",
    "            output.innerHTML = value;\n",
    "            if (value != \"0\") { // if statement to ensure that there are no multiple leading zeroes\n",
    "                nextReady = false;\n",
    "            }\n",
    "        } else {\n",
    "            output.innerHTML = output.innerHTML + value; // concatenation is used to add the numbers to the end of the input\n",
    "        }\n",
    "    } else { // special case for adding a decimal; can't have two decimals\n",
    "        if (output.innerHTML.indexOf(\".\") == -1) {\n",
    "            output.innerHTML = output.innerHTML + value;\n",
    "            nextReady = false;\n",
    "        }\n",
    "    }\n",
    "}"
   ]
  },
  {
   "cell_type": "markdown",
   "id": "b53f612f",
   "metadata": {},
   "source": [
    "\n",
    "## Practice\n",
    "Try writing your own nested conditionals in either Python, Javascript, or both.\n",
    "Here are some ideas:\n",
    "- **Easy:** Check if a number is positive, and if it’s even or odd.  \n",
    "- **Medium:** Ask if someone is a student, and if yes, check their grade level.  \n",
    "- **Hard:** Create a login system that first checks if a username exists, and then checks if the password is correct. \n",
    "\n",
    "---\n"
   ]
  }
 ],
 "metadata": {
  "language_info": {
   "name": "python"
  }
 },
 "nbformat": 4,
 "nbformat_minor": 5
}

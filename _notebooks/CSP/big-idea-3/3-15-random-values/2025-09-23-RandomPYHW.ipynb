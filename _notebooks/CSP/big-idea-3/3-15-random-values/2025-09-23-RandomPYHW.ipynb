{
 "cells": [
  {
   "cell_type": "markdown",
   "id": "d61cf37c",
   "metadata": {},
   "source": [
    "---\n",
    "layout: post\n",
    "title: Sprint 2 - Random Numbers! (Python)\n",
    "description:  Homework in Random Numbers in Python \n",
    "toc: true\n",
    "authors: Rudra Joshi, Samarth Vaka\n",
    "breadcrumbs: True\n",
    "permalink: /csp/big-idea-3/RandomPY/p3/homework\n",
    "---"
   ]
  },
  {
   "cell_type": "markdown",
   "id": "b8fb4e37",
   "metadata": {},
   "source": [
    "##  Homeworks & Creative Tasks (Python)\n",
    "\n",
    "### Task 1: Simple Loot Box\n",
    "\n",
    "Create a basic program that opens 10 loot boxes\n",
    "Use a slider to change the chance of getting rare items (10% to 90%)\n",
    "Count how many common vs rare items you get\n",
    "Display the results in a simple list\n",
    "\n",
    "### Task 2: Dice Rolling Counter\n",
    "\n",
    "Roll a 6-sided die 20 times\n",
    "Keep track of how many times each number (1-6) appears\n",
    "Show the counts in a simple chart or list\n",
    "Students can see if numbers appear evenly or not\n",
    "\n",
    "### Task 3: Random Story Generator\n",
    "\n",
    "Pick random words from simple lists (character, place, action)\n",
    "Example: \"The [knight/wizard/dragon] went to the [castle/forest/cave] and [fought/slept/ate]\"\n",
    "Generate 5 random stories with one button click\n",
    "Show all stories in a list\n",
    "\n",
    "### Task 4: Basic Fairness Test\n",
    "\n",
    "Roll a die 100 times\n",
    "Count how many times each number appears\n",
    "Check if each number appears around 16-17 times (100 ÷ 6 ≈ 16.67)\n",
    "Display results: \"Fair!\" if numbers are close to 16-17, \"Maybe unfair?\" if very different\n",
    "\n",
    "All tasks should use simple JavaScript with Math.random() and basic HTML buttons and displays. No complex statistics or advanced libraries are needed."
   ]
  }
 ],
 "metadata": {
  "language_info": {
   "name": "python"
  }
 },
 "nbformat": 4,
 "nbformat_minor": 5
}

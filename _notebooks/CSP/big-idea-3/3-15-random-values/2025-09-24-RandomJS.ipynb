{
 "cells": [
  {
   "cell_type": "markdown",
   "metadata": {},
   "source": [
    "---\n",
    "title: Random Values JS Lesson\n",
    "description: Learning about random values\n",
    "comments: false\n",
    "layout: post\n",
    "toc: true\n",
    "authors: Shayan B, Akhil K.\n",
    "permalink: /csp/big-idea-3/RandomJS/p3/Lesson\n",
    "---"
   ]
  },
  {
   "cell_type": "markdown",
   "metadata": {},
   "source": [
    "# 3.15 Random Values 🎲\n",
    "\n",
    "**Random Values** = unpredictable numbers (like rolling dice!)\n",
    "\n",
    "---\n",
    "\n",
    "## 🔥 The Magic Formula\n",
    "\n",
    "### Random number from 1 to 6 (like a dice)\n",
    "```javascript\n",
    "Math.floor(Math.random() * 6) + 1\n",
    "```\n",
    "\n",
    "**How it works:**\n",
    "- `Math.random()` gives a decimal like 0.4827\n",
    "- `* 6` makes it bigger: 2.8962\n",
    "- `Math.floor()` chops off decimals: 2\n",
    "- `+ 1` shifts it up: 3 ✅\n",
    "\n",
    "**Want different numbers? Change the 6!**\n",
    "- `Math.floor(Math.random() * 10) + 1` → 1 to 10\n",
    "- `Math.floor(Math.random() * 100) + 1` → 1 to 100"
   ]
  },
  {
   "cell_type": "code",
   "execution_count": null,
   "metadata": {
    "vscode": {
     "languageId": "javascript"
    }
   },
   "outputs": [],
   "source": [
    "%%javascript\n",
    "// 🎲 Roll a dice! Run this cell multiple times!\n",
    "\n",
    "const diceRoll = Math.floor(Math.random() * 6) + 1;\n",
    "console.log(`You rolled: ${diceRoll}`);"
   ]
  },
  {
   "cell_type": "markdown",
   "metadata": {},
   "source": [
    "---"
   ]
  },
  {
   "cell_type": "code",
   "execution_count": null,
   "metadata": {
    "vscode": {
     "languageId": "javascript"
    }
   },
   "outputs": [],
   "source": [
    "%%javascript\n",
    "// 🎯 Try it yourself! Change the numbers\n",
    "\n",
    "// Random number 1-10\n",
    "const random10 = Math.floor(Math.random() * 10) + 1;\n",
    "console.log(`Random 1-10: ${random10}`);\n",
    "\n",
    "// Random number 1-100\n",
    "const random100 = Math.floor(Math.random() * 100) + 1;\n",
    "console.log(`Random 1-100: ${random100}`);"
   ]
  },
  {
   "cell_type": "markdown",
   "metadata": {},
   "source": [
    "---\n",
    "\n",
    "## 🎮 Random Choice from a List\n",
    "\n",
    "Pick one random item from an array:\n",
    "\n",
    "```javascript\n",
    "const colors = [\"red\", \"blue\", \"green\"];\n",
    "const randomColor = colors[Math.floor(Math.random() * colors.length)];\n",
    "```\n",
    "\n",
    "**The trick:** `colors.length` tells you how many items (3), so you get 0, 1, or 2!"
   ]
  },
  {
   "cell_type": "code",
   "execution_count": null,
   "metadata": {
    "vscode": {
     "languageId": "javascript"
    }
   },
   "outputs": [],
   "source": [
    "%%js\n",
    "\n",
    "// 🎨 Pick a random color!\n",
    "\n",
    "const colors = [\"🔴 Red\", \"🔵 Blue\", \"🟢 Green\", \"🟡 Yellow\"];\n",
    "const randomColor = colors[Math.floor(Math.random() * colors.length)];\n",
    "console.log(`You got: ${randomColor}`);\n",
    "\n",
    "// Run multiple times to see different colors!"
   ]
  },
  {
   "cell_type": "markdown",
   "metadata": {},
   "source": [
    "---\n",
    "\n",
    "## 🎯 50/50 Chance (Coin Flip)\n",
    "\n",
    "```javascript\n",
    "if (Math.random() < 0.5) {\n",
    "    console.log(\"Heads\");  // 50% chance\n",
    "} else {\n",
    "    console.log(\"Tails\");  // 50% chance\n",
    "}\n",
    "```\n",
    "\n",
    "**Why 0.5?** `Math.random()` gives 0 to 0.999..., so half the time it's less than 0.5!"
   ]
  },
  {
   "cell_type": "code",
   "execution_count": null,
   "metadata": {
    "vscode": {
     "languageId": "javascript"
    }
   },
   "outputs": [],
   "source": [
    "%%js\n",
    "\n",
    "// 🪙 Flip a coin!\n",
    "\n",
    "if (Math.random() < 0.5) {\n",
    "    console.log(\"🪙 Heads!\");\n",
    "} else {\n",
    "    console.log(\"🪙 Tails!\");\n",
    "}\n",
    "\n",
    "// Run it 10 times - you'll get about 5 heads and 5 tails!"
   ]
  },
  {
   "cell_type": "markdown",
   "metadata": {},
   "source": [
    "---\n",
    "\n",
    "## 🎁 Challenge: Loot Box!\n",
    "\n",
    "Use random to make a simple game where you have different chances:\n",
    "- 70% chance = Common\n",
    "- 25% chance = Rare  \n",
    "- 5% chance = Legendary"
   ]
  },
  {
   "cell_type": "code",
   "execution_count": 42,
   "metadata": {
    "vscode": {
     "languageId": "javascript"
    }
   },
   "outputs": [
    {
     "data": {
      "application/javascript": "// 🎁 Open a loot box!\n\nconst chance = Math.random();  // Get random number 0 to 0.999...\n\nif (chance < 0.70) {\n    console.log(\"⚪ Common Item\");  // 0 to 0.70 = 70%\n} else if (chance < 0.95) {\n    console.log(\"🔵 Rare Item\");   // 0.70 to 0.95 = 25%\n} else {\n    console.log(\"🟡 Legendary!\");  // 0.95 to 1 = 5%\n}\n\n// Run this many times - legendary is rare!\n",
      "text/plain": [
       "<IPython.core.display.Javascript object>"
      ]
     },
     "metadata": {},
     "output_type": "display_data"
    }
   ],
   "source": [
    "%%javascript\n",
    "// 🎁 Open a loot box!\n",
    "\n",
    "const chance = Math.random();  // Get random number 0 to 0.999...\n",
    "\n",
    "if (chance < 0.70) {\n",
    "    console.log(\"⚪ Common Item\");  // 0 to 0.70 = 70%\n",
    "} else if (chance < 0.95) {\n",
    "    console.log(\"🔵 Rare Item\");   // 0.70 to 0.95 = 25%\n",
    "} else {\n",
    "    console.log(\"🟡 Legendary!\");  // 0.95 to 1 = 5%\n",
    "}\n",
    "\n",
    "// Run this many times - legendary is rare!"
   ]
  }
 ],
 "metadata": {
  "kernelspec": {
   "display_name": "Python 3",
   "language": "python",
   "name": "python3"
  },
  "language_info": {
   "codemirror_mode": {
    "name": "ipython",
    "version": 3
   },
   "file_extension": ".py",
   "mimetype": "text/x-python",
   "name": "python",
   "nbconvert_exporter": "python",
   "pygments_lexer": "ipython3",
   "version": "3.13.1"
  }
 },
 "nbformat": 4,
 "nbformat_minor": 2
}

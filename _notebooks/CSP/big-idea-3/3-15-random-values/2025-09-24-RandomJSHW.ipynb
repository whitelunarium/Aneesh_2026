{
 "cells": [
  {
   "cell_type": "markdown",
   "id": "91855f93",
   "metadata": {},
   "source": [
    "---\n",
    "layout: post\n",
    "title: Sprint 2 - Random Numbers (Javascript)\n",
    "description:  Homework for Random Numbers in Javascript\n",
    "toc: true\n",
    "authors: Shayan B, Akhil K.\n",
    "breadcrumbs: True\n",
    "permalink: /csp/big-idea-3/RandomJS/p3/homework\n",
    "---"
   ]
  },
  {
   "cell_type": "markdown",
   "id": "9ad890a4",
   "metadata": {},
   "source": [
    "### Optional Hacks (ONLY 1 is REQUIRED TO BE COMPLETED!)\n",
    "Hack 1: Random Color Generator\n",
    "\n",
    "Generate random RGB colors with one click\n",
    "Format: rgb(random, random, random) where each is 0-255\n",
    "Change the background color of a box to show the color\n",
    "Display the color code so users can copy it\n",
    "\n",
    "Hack 2: Random Password Maker\n",
    "\n",
    "Create passwords with random letters and numbers\n",
    "Let users choose password length (6-20 characters)\n",
    "Use arrays: ['a','b','c'...'z','0','1'...'9']\n",
    "One button generates a new password each time\n",
    "\n",
    "Hack 3: Coin Flip Streak Tracker\n",
    "\n",
    "Flip a coin (Heads or Tails) with random 50/50 chance\n",
    "Track the longest streak of same results in a row\n",
    "Example: \"Heads, Heads, Heads = 3 streak!\"\n",
    "Show current flip and best streak ever\n",
    "\n",
    "Hack 4: Random Compliment Generator\n",
    "\n",
    "Pick random compliments from a list of 10-15 nice phrases\n",
    "\"You're awesome!\", \"Great job today!\", \"You're very smart!\"\n",
    "Click button to get a new random compliment\n",
    "Simple mood booster app\n",
    "\n",
    "Hack 5: Number Guessing Game\n",
    "\n",
    "Computer picks random number 1-50\n",
    "User tries to guess it\n",
    "Show \"Too high!\" or \"Too low!\" hints\n",
    "Count how many guesses it takes to win\n",
    "\n",
    "Hack 6: Random Team Maker\n",
    "\n",
    "Enter 6-10 names in a text box\n",
    "Randomly split them into 2 equal teams\n",
    "Use array shuffling with random numbers\n",
    "Display Team A and Team B lists\n",
    "\n",
    "All use basic Math.random(), Math.floor(), arrays, and simple HTML buttons/displays!"
   ]
  }
 ],
 "metadata": {
  "language_info": {
   "name": "python"
  }
 },
 "nbformat": 4,
 "nbformat_minor": 5
}

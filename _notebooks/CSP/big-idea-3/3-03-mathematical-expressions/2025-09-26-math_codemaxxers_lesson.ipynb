{
 "cells": [
  {
   "cell_type": "raw",
   "id": "6290bcd2",
   "metadata": {
    "vscode": {
     "languageId": "raw"
    }
   },
   "source": [
    "---\n",
    "title: \"Mathematical Operations in Javascript and Python - Lesson\"\n",
    "description: \"Learn how your computer can become a powerful calculator using mathematical operations in both Javascript and Python programming languages.\"\n",
    "layout: post\n",
    "permalink: /csp/codemaxxers/mathematical-operations-lesson\n",
    "---"
   ]
  },
  {
   "cell_type": "markdown",
   "id": "574d4fff",
   "metadata": {},
   "source": [
    "# 3.3 Mathematical Expressions"
   ]
  },
  {
   "cell_type": "markdown",
   "id": "c989ca1b",
   "metadata": {},
   "source": [
    "### Basics of mathematical expressions in Python\n",
    "\n",
    "Addition : a + b\n",
    "\n",
    "Subtraction: a - b\n",
    "\n",
    "Multiplication: a * b \n",
    "\n",
    "Division: a / b\n",
    "\n",
    "Modulus: a % b\n",
    " - Modulus is like a remainder\n",
    "    - 9 % 2 = 1\n",
    "\n",
    "Exponents: a ** b "
   ]
  },
  {
   "cell_type": "markdown",
   "id": "fdaf3617",
   "metadata": {},
   "source": [
    "### Basics of mathematical expressions in JavaScript\n",
    "\n",
    "Addition: a + b\n",
    "\n",
    "Subtraction: a - b\n",
    "\n",
    "Multiplication: a * b\n",
    "\n",
    "Division: a / b\n",
    "\n",
    "Modulus/remainder: a % b \n",
    "\n",
    "exponents: a ** b"
   ]
  },
  {
   "cell_type": "markdown",
   "id": "6edc00a5",
   "metadata": {},
   "source": [
    "## Algorithms \n",
    "\n",
    "*\"An Algorithm is a finite set of instructions used to accomplish a task\"*\n",
    "\n",
    "### What does an algorithm consist of?\n",
    "\n",
    "## Building an Algorithm: !"
   ]
  },
  {
   "cell_type": "markdown",
   "id": "69f4ccc2",
   "metadata": {},
   "source": [
    "### Sequencing\n",
    " \n",
    "Sequencing is a method used to ensure that all tasks are completed in a specific order which instructions/commands/code is provided in.\n",
    "\n",
    "Examples:\n"
   ]
  },
  {
   "cell_type": "code",
   "execution_count": 3,
   "id": "95de7940",
   "metadata": {},
   "outputs": [
    {
     "name": "stdout",
     "output_type": "stream",
     "text": [
      "10.0\n"
     ]
    }
   ],
   "source": [
    "grade1 = 10\n",
    "grade2 = grade1\n",
    "averageGrade = (grade1 + grade2) / 2\n",
    "print(averageGrade)"
   ]
  },
  {
   "cell_type": "markdown",
   "id": "b508238b",
   "metadata": {},
   "source": [
    "### Selection\n",
    "\n",
    "Selections provide choices between separate, specific outcomes which are executed depending on conditions. \n",
    "\n",
    "Examples:\n",
    "\n",
    "Check if it is raining.\n",
    "If it is raining, grab an umbrella.\n",
    "If it is not raining, leave umbrella at home."
   ]
  },
  {
   "cell_type": "markdown",
   "id": "212c4aa4",
   "metadata": {},
   "source": [
    "### Iterations\n",
    "\n",
    "Iterations describes the process of creating a loop which continues to repeat as long as some condition stands to be true. This condition stops once it is false or doesn't apply anymore.\n",
    "\n",
    "Example:\n",
    "\n",
    "Tweaking a recipe until all requirements like taste and texture are satisfied.\n",
    "\n"
   ]
  },
  {
   "cell_type": "markdown",
   "id": "82592240",
   "metadata": {},
   "source": [
    "<img src=\"{{ site.baseurl }}/images/about/3.3diagram.png\" style=\"max-width:300px; margin:10px;\">"
   ]
  },
  {
   "cell_type": "markdown",
   "id": "c4fcaca2",
   "metadata": {},
   "source": [
    "## Flowcharts\n",
    "\n",
    "Flowcharts are effective ways to represent an algorithm. On a flowchart, you can represent sequencing, selection, and iteration. \n",
    "\n",
    "The example demonstrates sequencing by following a specific pattern for each step, not bouncing from one step to the next. \n",
    "\n",
    "Selection is shown when the user is able to make a choice between either adding another number and operation OR ending the calculation.\n",
    "\n",
    "Iteration is shown when the user is able to add as many numbers and operations as they want to the calculation."
   ]
  },
  {
   "cell_type": "markdown",
   "id": "f7633959",
   "metadata": {},
   "source": [
    "## Pseudocode\n",
    "\n",
    "Pseudocode is a way to represent code that is easy to follow for even those who do not code. \n",
    "\n",
    "ex: \n",
    "\n",
    "grade = 82\n",
    "\n",
    "avg(1, 7, 24) = 10 2/3\n",
    "\n"
   ]
  }
 ],
 "metadata": {
  "kernelspec": {
   "display_name": "venv",
   "language": "python",
   "name": "python3"
  },
  "language_info": {
   "codemirror_mode": {
    "name": "ipython",
    "version": 3
   },
   "file_extension": ".py",
   "mimetype": "text/x-python",
   "name": "python",
   "nbconvert_exporter": "python",
   "pygments_lexer": "ipython3",
   "version": "3.12.3"
  }
 },
 "nbformat": 4,
 "nbformat_minor": 5
}

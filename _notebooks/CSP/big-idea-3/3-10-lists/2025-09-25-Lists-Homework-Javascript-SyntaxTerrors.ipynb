{
 "cells": [
  {
   "cell_type": "code",
   "execution_count": null,
   "id": "cdcf93f8",
   "metadata": {},
   "outputs": [],
   "source": [
    "---\n",
    "layout: post\n",
    "title: Coding Concept - Lists\n",
    "description: Understanding Lists in Python and JavaScript\n",
    "permalink: /csp/big-idea-three/lists/javascript/hw/p3/syntaxterrors\n",
    "author: Meryl C\n",
    "---"
   ]
  },
  {
   "cell_type": "markdown",
   "id": "7782d012",
   "metadata": {
    "vscode": {
     "languageId": "javascript"
    }
   },
   "source": [
    "<div align=\"center\" style=\"margin-bottom: 2em;\">\n",
    "  <a href=\"{{ site.baseurl }}/csp/big-idea-three/lists/lesson/p3/syntaxterrors\"\n",
    "     style=\"\n",
    "      display: inline-block;\n",
    "      background: linear-gradient(90deg, #2563eb 0%, #1e40af 100%);\n",
    "      color: white;\n",
    "      padding: 0.85em 2.2em;\n",
    "      border-radius: 0.6em;\n",
    "      font-weight: bold;\n",
    "      text-decoration: none;\n",
    "      font-size: 1.15em;\n",
    "      box-shadow: 0 4px 16px rgba(30,64,175,0.18), 0 1.5px 4px rgba(0,0,0,0.10);\n",
    "      transition: \n",
    "        background 0.2s,\n",
    "        transform 0.15s,\n",
    "        box-shadow 0.2s;\n",
    "    \"\n",
    "    onmouseover=\"this.style.transform='scale(1.045)'; this.style.boxShadow='0 8px 24px rgba(30,64,175,0.22), 0 2px 8px rgba(0,0,0,0.13)';\"\n",
    "    onmouseout=\"this.style.transform='scale(1)'; this.style.boxShadow='0 4px 16px rgba(30,64,175,0.18), 0 1.5px 4px rgba(0,0,0,0.10)';\"\n",
    "  >\n",
    "    Lists Lesson\n",
    "  </a>\n",
    "</div>"
   ]
  },
  {
   "cell_type": "code",
   "execution_count": 6,
   "id": "099dbffe",
   "metadata": {
    "vscode": {
     "languageId": "javascript"
    }
   },
   "outputs": [
    {
     "data": {
      "application/javascript": "\n// Popcorn Hack 1: Initialize Snake\n// ===============================\n// TODO: Make an array called snake with:\n//  - 1 head (\"H\")\n//  - 3 body segments (\"B\")\n//  - 1 tail (\"T\")\n// Hint: arrays in JavaScript use [ ... ] with commas.\n\nlet snake = [\"H\", \"B\", \"B\", \"B\", \"T\"];  // <-- fill this in\n\nconsole.log(\"Starting snake:\", snake);\n\n\n// ===============================\n// Popcorn Hack 2: Growing the Snake\n// ===============================\n//  - Add 2 tails (\"T\") to the END of the array\n//  - Use push() twice\n// Example: snake.push(\"T\")\n\n// Your code here\n\nsnake.push(\"T\");\nsnake.push(\"T\");\n\nconsole.log(\"Snake after eating:\", snake);\n\n\n// ===============================\n// Popcorn Hack 3: Snake Loses a Tail\n// ===============================\n// TODO: The snake moves forward, tail disappears\n//  - Remove the LAST 2 elements\n//  - Use pop() twice\n// Example: snake.pop()\n\n// Your code here\n\nsnake.pop();\nsnake.pop();\n\nconsole.log(\"Snake after losing tails:\", snake);\n\n\n// ===============================\n// Popcorn Hack 4: Combining It All\n// ===============================\n// TODO:\n//  Step 1: Add 2 new heads (\"H\") to the START of the array\n//  Step 2: Remove 1 head from the START of the array\n//  Step 3: Print the new snake and its first head\n\n// Your code here\n\nsnake.unshift(\"H\");\nsnake.unshift(\"H\");\n\nsnake.shift();\n\nconsole.log(\"Snake after moving:\", snake);\nconsole.log(\"New first head is:\", snake[0]);\n\n\n// ===============================\n// Check Your Understanding\n// ===============================\n// Start fresh with a new snake\n\n\n// Your code here\n\nsnake = [\"H\", \"B\", \"B\", \"T\"];\n\nsnake.unshift(\"H\");\n\nsnake.push(\"T\");\n\nsnake.splice(2, 1);\n\nconsole.log(\"Final snake:\", snake);\nconsole.log(\"First head:\", snake[0]);\nconsole.log(\"Last element:\", snake[snake.length - 1]);\n",
      "text/plain": [
       "<IPython.core.display.Javascript object>"
      ]
     },
     "metadata": {},
     "output_type": "display_data"
    }
   ],
   "source": [
    "%%js \n",
    "\n",
    "// Popcorn Hack 1: Initialize Snake\n",
    "// ===============================\n",
    "// TODO: Make an array called snake with:\n",
    "//  - 1 head (\"H\")\n",
    "//  - 3 body segments (\"B\")\n",
    "//  - 1 tail (\"T\")\n",
    "// Hint: arrays in JavaScript use [ ... ] with commas.\n",
    "\n",
    "let snake = [\"H\", \"B\", \"B\", \"B\", \"T\"];  // <-- fill this in\n",
    "\n",
    "console.log(\"Starting snake:\", snake);\n",
    "\n",
    "\n",
    "// ===============================\n",
    "// Popcorn Hack 2: Growing the Snake\n",
    "// ===============================\n",
    "//  - Add 2 tails (\"T\") to the END of the array\n",
    "//  - Use push() twice\n",
    "// Example: snake.push(\"T\")\n",
    "\n",
    "// Your code here\n",
    "\n",
    "snake.push(\"T\");\n",
    "snake.push(\"T\");\n",
    "\n",
    "console.log(\"Snake after eating:\", snake);\n",
    "\n",
    "\n",
    "// ===============================\n",
    "// Popcorn Hack 3: Snake Loses a Tail\n",
    "// ===============================\n",
    "// TODO: The snake moves forward, tail disappears\n",
    "//  - Remove the LAST 2 elements\n",
    "//  - Use pop() twice\n",
    "// Example: snake.pop()\n",
    "\n",
    "// Your code here\n",
    "\n",
    "snake.pop();\n",
    "snake.pop();\n",
    "\n",
    "console.log(\"Snake after losing tails:\", snake);\n",
    "\n",
    "\n",
    "// ===============================\n",
    "// Popcorn Hack 4: Combining It All\n",
    "// ===============================\n",
    "// TODO:\n",
    "//  Step 1: Add 2 new heads (\"H\") to the START of the array\n",
    "//  Step 2: Remove 1 head from the START of the array\n",
    "//  Step 3: Print the new snake and its first head\n",
    "\n",
    "// Your code here\n",
    "\n",
    "snake.unshift(\"H\");\n",
    "snake.unshift(\"H\");\n",
    "\n",
    "snake.shift();\n",
    "\n",
    "console.log(\"Snake after moving:\", snake);\n",
    "console.log(\"New first head is:\", snake[0]);\n",
    "\n",
    "\n",
    "// ===============================\n",
    "// Check Your Understanding\n",
    "// ===============================\n",
    "// Start fresh with a new snake\n",
    "\n",
    "\n",
    "// Your code here\n",
    "\n",
    "snake = [\"H\", \"B\", \"B\", \"T\"];\n",
    "\n",
    "snake.unshift(\"H\");\n",
    "\n",
    "snake.push(\"T\");\n",
    "\n",
    "snake.splice(2, 1);\n",
    "\n",
    "console.log(\"Final snake:\", snake);\n",
    "console.log(\"First head:\", snake[0]);\n",
    "console.log(\"Last element:\", snake[snake.length - 1]);\n"
   ]
  }
 ],
 "metadata": {
  "kernelspec": {
   "display_name": "venv (3.12.3)",
   "language": "python",
   "name": "python3"
  },
  "language_info": {
   "codemirror_mode": {
    "name": "ipython",
    "version": 3
   },
   "file_extension": ".py",
   "mimetype": "text/x-python",
   "name": "python",
   "nbconvert_exporter": "python",
   "pygments_lexer": "ipython3",
   "version": "3.12.3"
  }
 },
 "nbformat": 4,
 "nbformat_minor": 5
}

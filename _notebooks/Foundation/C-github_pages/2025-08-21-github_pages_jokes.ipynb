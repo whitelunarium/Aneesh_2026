{
 "cells": [
  {
   "cell_type": "raw",
   "id": "2eddaec8",
   "metadata": {},
   "source": [
    "---\n",
    "layout: post\n",
    "toc: True\n",
    "breadcrumb: True\n",
    "title: GitHub Pages Jokes \n",
    "description: These Programming topics are focused on Jupyter Notebooks, and Managing Files.\n",
    "permalink: /github/pages/jokes\n",
    "author: John Mortensen\n",
    "---\n"
   ]
  },
  {
   "cell_type": "markdown",
   "id": "17699de9",
   "metadata": {},
   "source": [
    "## Running Jupyter Notebooks\n",
    "\n",
    "Let's have a laugh while we test out JavaScript in Jupyter Notebooks.\n",
    "\n",
    "- In VSCode, go to **Help->Toggle Developer Tools**\n",
    "- Click on **Console** in the newly opened Window\n",
    "- Clear screen by pressing **Clear Console** (circle with line)\n",
    "- Then press **Play button** to left of cells below\n",
    "- Observe random output in the Console\n"
   ]
  },
  {
   "cell_type": "markdown",
   "id": "f4304db8",
   "metadata": {},
   "source": [
    "### Programmer Jokes\n",
    "\n",
    "An array of key-value pairs (JavaScript objects). Each joke has a \"complexity\" rating—if you understand the ones rated \"3,\" your teacher will be impressed!"
   ]
  },
  {
   "cell_type": "code",
   "execution_count": 15,
   "id": "c5ab8476",
   "metadata": {
    "vscode": {
     "languageId": "javascript"
    }
   },
   "outputs": [
    {
     "data": {
      "application/javascript": "\nvar compsci_joke_list = [\n    { joke: \"Why do programmers prefer dark mode? Because light attracts bugs.\", complexity: \"1\" },\n    { joke: \"Why do Java developers wear glasses? Because they don't see sharp.\", complexity: \"2\" },\n    { joke: \"How many programmers does it take to change a light bulb? None, that's a hardware problem.\", complexity: \"1\" },\n    { joke: \"Why do Python programmers prefer snake_case? Because they can't C.\", complexity: \"2\" },\n    { joke: \"Why was the JavaScript developer sad? Because he didn't know how to 'null' his feelings.\", complexity: \"3\" },\n    { joke: \"Why do programmers always mix up Christmas and Halloween? Because Oct 31 == Dec 25.\", complexity: \"3\" },\n    { joke: \"Why did the programmer quit his job? Because he didn't get arrays.\", complexity: \"O(n)\" },\n    { joke: \"Why do Linux programmers prefer using the terminal? Because they don't like Windows.\", complexity: \"1\" },\n];\nvar randomIndex = Math.floor(Math.random() * compsci_joke_list.length);\nvar selectedJoke = compsci_joke_list[randomIndex];\nconsole.log(\"Joke #\" + (randomIndex + 1) + \": \" + selectedJoke.joke + \" (Complexity: \" + selectedJoke.complexity + \")\");\n",
      "text/plain": [
       "<IPython.core.display.Javascript object>"
      ]
     },
     "metadata": {},
     "output_type": "display_data"
    }
   ],
   "source": [
    "%%javascript\n",
    "\n",
    "var compsci_joke_list = [\n",
    "    { joke: \"Why do programmers prefer dark mode? Because light attracts bugs.\", complexity: \"1\" },\n",
    "    { joke: \"Why do Java developers wear glasses? Because they don't see sharp.\", complexity: \"2\" },\n",
    "    { joke: \"How many programmers does it take to change a light bulb? None, that's a hardware problem.\", complexity: \"1\" },\n",
    "    { joke: \"Why do Python programmers prefer snake_case? Because they can't C.\", complexity: \"2\" },\n",
    "    { joke: \"Why was the JavaScript developer sad? Because he didn't know how to 'null' his feelings.\", complexity: \"3\" },\n",
    "    { joke: \"Why do programmers always mix up Christmas and Halloween? Because Oct 31 == Dec 25.\", complexity: \"3\" },\n",
    "    { joke: \"Why did the programmer quit his job? Because he didn't get arrays.\", complexity: \"O(n)\" },\n",
    "    { joke: \"Why do Linux programmers prefer using the terminal? Because they don't like Windows.\", complexity: \"1\" },\n",
    "];\n",
    "var randomIndex = Math.floor(Math.random() * compsci_joke_list.length);\n",
    "var selectedJoke = compsci_joke_list[randomIndex];\n",
    "console.log(\"Joke #\" + (randomIndex + 1) + \": \" + selectedJoke.joke + \" (Complexity: \" + selectedJoke.complexity + \")\");"
   ]
  },
  {
   "cell_type": "markdown",
   "id": "e4813d34",
   "metadata": {},
   "source": [
    "### Accountant Jokes\n",
    "\n",
    "A simpler array of strings—these jokes are just plain text, not JavaScript objects."
   ]
  },
  {
   "cell_type": "code",
   "execution_count": 16,
   "id": "47a6b112",
   "metadata": {
    "vscode": {
     "languageId": "javascript"
    }
   },
   "outputs": [
    {
     "data": {
      "application/javascript": "\nvar accounting_joke_list = [\n    \"Why did the accountant cross the road? To bore the people on the other side.\",\n    \"What do accountants do when they're constipated? They work it out with a pencil.\",\n    \"How does an accountant stay out of debt? He learns to act his wage.\",\n    \"Why did the accountant stare at his glass of orange juice for three hours? Because on the box it said 'concentrate'.\",\n    \"Why did the accountant get promoted? Because he knew how to balance his work and play.\",\n    \"Why did the accountant go broke? Because he lost his balance.\",\n    \"Why did the accountant get a job at the bakery? Because he was good at making dough.\",\n    \"Why did the accountant get a job at the zoo? Because he was good with cheetahs.\",\n    \"Why did the accountant get a job at the library? Because he was good at keeping books.\",\n    \"Why did the accountant get a job at the circus? Because he was good at juggling numbers.\",\n    \"Why did the accountant get a job at the gym? Because he was good at working out the numbers.\",\n    \"Why did the accountant get a job at the farm? Because he was good at counting the chickens before they hatched.\"\n]\nvar randomIndex = Math.floor(Math.random() * accounting_joke_list.length);\nconsole.log(\"Joke #\" + (randomIndex + 1) + \": \" + accounting_joke_list[randomIndex]);\n",
      "text/plain": [
       "<IPython.core.display.Javascript object>"
      ]
     },
     "metadata": {},
     "output_type": "display_data"
    }
   ],
   "source": [
    "%%javascript\n",
    "\n",
    "var accounting_joke_list = [\n",
    "    \"Why did the accountant cross the road? To bore the people on the other side.\",\n",
    "    \"What do accountants do when they're constipated? They work it out with a pencil.\",\n",
    "    \"How does an accountant stay out of debt? He learns to act his wage.\",\n",
    "    \"Why did the accountant stare at his glass of orange juice for three hours? Because on the box it said 'concentrate'.\",\n",
    "    \"Why did the accountant get promoted? Because he knew how to balance his work and play.\",\n",
    "    \"Why did the accountant go broke? Because he lost his balance.\",\n",
    "    \"Why did the accountant get a job at the bakery? Because he was good at making dough.\",\n",
    "    \"Why did the accountant get a job at the zoo? Because he was good with cheetahs.\",\n",
    "    \"Why did the accountant get a job at the library? Because he was good at keeping books.\",\n",
    "    \"Why did the accountant get a job at the circus? Because he was good at juggling numbers.\",\n",
    "    \"Why did the accountant get a job at the gym? Because he was good at working out the numbers.\",\n",
    "    \"Why did the accountant get a job at the farm? Because he was good at counting the chickens before they hatched.\"\n",
    "]\n",
    "var randomIndex = Math.floor(Math.random() * accounting_joke_list.length);\n",
    "console.log(\"Joke #\" + (randomIndex + 1) + \": \" + accounting_joke_list[randomIndex]);"
   ]
  },
  {
   "cell_type": "markdown",
   "id": "7265cf18",
   "metadata": {},
   "source": [
    "## Check out Tools for Jupyter Notebooks\n",
    "\n",
    "Here are some diagnostics if notebooks above are not working."
   ]
  },
  {
   "cell_type": "code",
   "execution_count": 17,
   "id": "403c2f70",
   "metadata": {
    "vscode": {
     "languageId": "shellscript"
    }
   },
   "outputs": [
    {
     "name": "stdout",
     "output_type": "stream",
     "text": [
      "### Command: python --version\n",
      "Python 3.12.5\n",
      "### Command: jupyter --version\n",
      "Selected Jupyter core packages...\n",
      "IPython          : 9.2.0\n",
      "ipykernel        : 6.29.5\n",
      "ipywidgets       : not installed\n",
      "jupyter_client   : 8.6.3\n",
      "jupyter_core     : 5.7.2\n",
      "jupyter_server   : 2.16.0\n",
      "jupyterlab       : 4.4.2\n",
      "nbclient         : 0.10.2\n",
      "nbconvert        : 7.16.6\n",
      "nbformat         : 5.10.4\n",
      "notebook         : 7.4.2\n",
      "qtconsole        : not installed\n",
      "traitlets        : 5.14.3\n",
      "### Command: jupyter kernelspec list\n",
      "Available kernels:\n",
      "  java           /Users/johnmortensen/Library/Jupyter/kernels/java\n",
      "  jbang-ijava    /Users/johnmortensen/Library/Jupyter/kernels/jbang-ijava\n",
      "  python3        /Users/johnmortensen/open/pages/venv/share/jupyter/kernels/python3\n"
     ]
    }
   ],
   "source": [
    "%%script bash\n",
    "\n",
    "# Define an array of commands\n",
    "commands=(\"python --version\" \"jupyter --version\" \"jupyter kernelspec list\")\n",
    "\n",
    "for cmd in \"${commands[@]}\"; do\n",
    "  echo \"### Command: $cmd\"\n",
    "  bash -c \"$cmd\"\n",
    "done"
   ]
  },
  {
   "cell_type": "markdown",
   "id": "604d1ad1",
   "metadata": {},
   "source": [
    "## Hack \n",
    "\n",
    "If you love these jokes, you’ll probably want to have them in your own repository. Learning how to manage files in GitHub Pages is a key skill. This class will continually share files and offer challenges using GitHub Pages and Jupyter Notebooks.\n",
    "\n",
    "\n",
    "- How to copy files between two GitHub repositories\n",
    "  - **git clone** pages repository to your machine\n",
    "  - **git pull** if you already have it, un git pull to make sure your repository is up to date\n",
    "  - **code .** in directory of the project directory where you cloned the repo \n",
    "  - **drag and drop** files between repositories, be sure to put them in the right type of folder \n",
    "\n",
    "### Tip\n",
    "\n",
    "- The **_notebooks** directory is the default location to place all **.ipynb** files.  \n",
    "  - To get started, you can copy **_notebooks/Foundation/C-github_pages** to your project.\n",
    "  - Then, rename or modify these files as part of the hack.\n",
    "\n",
    "- The **_notebooks/Foundations/C-github_pages** contains the files that use an InfoGraph for a menu\n",
    "  - In **frontmatter** of each file you will find data that describes its prooperties. \n",
    "    - **permalink: /github/pages/intro** \n",
    "    - [Describe some other properties]\n",
    "\n",
    "- Create a new cell with your own (PG-13 rated) jokes\n",
    "  - Pick your own topic\n",
    "  - Jokes could be a great warmup at next live review"
   ]
  }
 ],
 "metadata": {
  "kernelspec": {
   "display_name": "venv (3.12.5)",
   "language": "python",
   "name": "python3"
  },
  "language_info": {
   "codemirror_mode": {
    "name": "ipython",
    "version": 3
   },
   "file_extension": ".py",
   "mimetype": "text/x-python",
   "name": "python",
   "nbconvert_exporter": "python",
   "pygments_lexer": "ipython3",
   "version": "3.12.5"
  }
 },
 "nbformat": 4,
 "nbformat_minor": 5
}

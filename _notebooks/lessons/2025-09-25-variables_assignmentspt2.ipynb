{
 "cells": [
  {
   "cell_type": "raw",
   "id": "6d62ad69",
   "metadata": {
    "vscode": {
     "languageId": "raw"
    }
   },
   "source": [
    "---\n",
    "layout: post\n",
    "title: Variables & Assignments\n",
    "description: This page will provide homework for the variables and assigmnets lesson.\n",
    "permalink: /lessons/variables_assignments/homework/\n",
    "breadcrumb: True\n",
    "Author: Ethan Patel, Tanay Paranjpe, Neil Manjrekar\n",
    "---"
   ]
  },
  {
   "cell_type": "markdown",
   "id": "2b9da6aa",
   "metadata": {},
   "source": [
    "## Variables & Assignments Hacks Homework\n",
    "---\n",
    "Description:\n",
    "- In this homework hack, you will practice creating and using variables. You’ll define variables to store your name and age, reassign values, and answer interactive questions to test your understanding. This activity will help you master the basics of variables and how they work in programming."
   ]
  },
  {
   "cell_type": "markdown",
   "id": "352d458b",
   "metadata": {
    "vscode": {
     "languageId": "plaintext"
    }
   },
   "source": [
    "# 🏠 Strings Quest Homework\n",
    "\n",
    "**Objective:** Practice creating, manipulating, and combining strings in Python.\n",
    "\n",
    "---\n",
    "\n",
    "## Instructions\n",
    "\n",
    "Complete each challenge by **filling in the missing code**. Use the examples as a guide, but make sure to write your own values or logic.\n"
   ]
  },
  {
   "cell_type": "raw",
   "id": "39715e07",
   "metadata": {
    "vscode": {
     "languageId": "raw"
    }
   },
   "source": [
    "## Challenge 1: Creating a Life Profile with Variables"
   ]
  },
  {
   "cell_type": "markdown",
   "id": "13c521a9",
   "metadata": {},
   "source": [
    "# Part 1\n",
    "## Personal info\n",
    "my_name = ___           # Fill in your name\n",
    "my_age = ___            # Fill in your age\n",
    "my_city = ___           # Fill in the city where you live\n"
   ]
  },
  {
   "cell_type": "markdown",
   "id": "8d0ddb16",
   "metadata": {},
   "source": [
    "# Part 2\n",
    "## Preferences\n",
    "favorite_color = ___    # Your favorite color\n",
    "favorite_food = ___     # Your favorite food\n",
    "favorite_movie = ___    # Your favorite movie\n",
    "favorite_song = ___     # Your favorite song\n"
   ]
  },
  {
   "cell_type": "markdown",
   "id": "c4ed9a7e",
   "metadata": {
    "vscode": {
     "languageId": "raw"
    }
   },
   "source": [
    "# Part 3\n",
    "# Reassign some variables\n",
    "favorite_food = ___\n",
    "my_city = ___\n",
    "has_pet = ___"
   ]
  },
  {
   "cell_type": "markdown",
   "id": "5089502d",
   "metadata": {},
   "source": [
    "# Part 5: Print Your Life Profile\n",
    "Print all your variables so your “Life Profile” is displayed:\n",
    "\n",
    "print(\"Name:\", my_name)\n",
    "print(\"Age:\", my_age)\n",
    "print(\"City:\", my_city)\n",
    "print(\"Favorite color:\", favorite_color)\n",
    "print(\"Favorite food:\", favorite_food)\n",
    "print(\"Favorite movie:\", favorite_movie)\n",
    "print(\"Favorite song:\", favorite_song)\n",
    "print(\"Student?\", is_student)\n",
    "print(\"Has pet?\", has_pet)\n",
    "print(\"Online?\", is_online)\n",
    "print(\"Likes music?\", likes_music)\n"
   ]
  },
  {
   "cell_type": "markdown",
   "id": "d75a4417",
   "metadata": {},
   "source": [
    "## Submission Guide\n",
    "\n",
    "**How to submit your homework:**\n",
    "\n",
    "1. **Create a new Jupyter Notebook file** for this assignment.  \n",
    "\n",
    "2. **Complete all challenges** (Variables Quest and Strings Quest) in this new notebook.  \n",
    "   - Make sure each challenge is clearly labeled with Markdown headings.  \n",
    "   - Include your code and the output from running your cells.\n",
    "\n",
    "3. **Check your work**:  \n",
    "   - Run all cells to ensure there are no errors.  \n",
    "   - Make sure all printed messages show your inputs and outputs.\n",
    "\n",
    "4. **Save your notebook** with a clear name, e.g.:  \n"
   ]
  }
 ],
 "metadata": {
  "language_info": {
   "name": "python"
  }
 },
 "nbformat": 4,
 "nbformat_minor": 5
}

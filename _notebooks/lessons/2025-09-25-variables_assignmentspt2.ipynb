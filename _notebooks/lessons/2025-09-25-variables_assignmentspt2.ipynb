{
 "cells": [
  {
   "cell_type": "raw",
   "id": "6d62ad69",
   "metadata": {
    "vscode": {
     "languageId": "raw"
    }
   },
   "source": [
    "---\n",
    "layout: post\n",
    "title: Variables & Assignments\n",
    "description: This page will provide homework for the variables and assigmnets lesson.\n",
    "permalink: /lessons/variables_assignments/homework/\n",
    "breadcrumb: True\n",
    "Author: Ethan Patel, Tanay Paranjpe, Neil Manjrekar\n",
    "---"
   ]
  },
  {
   "cell_type": "markdown",
   "id": "2b9da6aa",
   "metadata": {},
   "source": [
    "## Variables & Assignments Hacks Homework\n",
    "---\n",
    "Description:\n",
    "- In this homework hack, you will practice creating and using variables. You’ll define variables to store your name and age, reassign values, and answer interactive questions to test your understanding. This activity will help you master the basics of variables and how they work in programming."
   ]
  },
  {
   "cell_type": "markdown",
   "id": "352d458b",
   "metadata": {
    "vscode": {
     "languageId": "plaintext"
    }
   },
   "source": [
    "# 🏠 Strings Quest Homework\n",
    "\n",
    "**Objective:** Practice creating, manipulating, and combining strings in Python.\n",
    "\n",
    "---\n",
    "\n",
    "## Instructions\n",
    "\n",
    "Complete each challenge by **filling in the missing code**. Use the examples as a guide, but make sure to write your own values or logic.\n",
    "\n",
    "---\n",
    "\n",
    "## Challenge 1 – Store a String\n",
    "\n",
    "**Task:**  \n",
    "Create a variable called `favorite_food` and assign it your favorite food. Then print a message using your variable.\n",
    "\n",
    "```python\n",
    "# Example: my_favorite_food = \"Pizza\"\n",
    "favorite_food = \"\"  # <-- Add your favorite food here\n",
    "\n",
    "# Print a message\n",
    "print(\"My favorite food is \" + favorite_food)\n"
   ]
  },
  {
   "cell_type": "markdown",
   "id": "a5f65415",
   "metadata": {
    "vscode": {
     "languageId": "plaintext"
    }
   },
   "source": [
    "## Challenge 2"
   ]
  },
  {
   "cell_type": "code",
   "execution_count": null,
   "id": "16827e7f",
   "metadata": {},
   "outputs": [],
   "source": [
    "# Example: first_name = \"Tanay\", last_name = \"Paranjpe\"\n",
    "first_name = \"\"  # <-- Add your first name\n",
    "last_name = \"\"   # <-- Add your last name\n",
    "\n",
    "# Combine names\n",
    "full_name = \"\"  # <-- Combine first_name and last_name\n",
    "\n",
    "# Print greeting\n",
    "print(\"Hello, my full name is \" + full_name)\n"
   ]
  },
  {
   "cell_type": "markdown",
   "id": "0fae2bd2",
   "metadata": {},
   "source": [
    "## Challenge 3"
   ]
  },
  {
   "cell_type": "code",
   "execution_count": null,
   "id": "80c770e6",
   "metadata": {},
   "outputs": [],
   "source": [
    "# Convert to uppercase\n",
    "favorite_food_upper = \"\"  # <-- Add code here\n",
    "print(\"My favorite food in uppercase: \" + favorite_food_upper)\n",
    "\n",
    "# Combine into a new message\n",
    "message = \"\"  # <-- Combine full_name and favorite_food in a sentence\n",
    "print(message)\n"
   ]
  },
  {
   "cell_type": "markdown",
   "id": "7e7c4f28",
   "metadata": {
    "vscode": {
     "languageId": "plaintext"
    }
   },
   "source": [
    "## Final Challenge"
   ]
  },
  {
   "cell_type": "markdown",
   "id": "cbb06e15",
   "metadata": {},
   "source": [
    "## Final Challenge – Your Own String Adventure\n",
    "\n",
    "**Task:**  \n",
    "Create a short “mini-adventure” or message using strings. You should:\n",
    "\n",
    "1. Define at least **three string variables** (e.g., a character name, a place, a favorite item).  \n",
    "2. Write at least **two sentences** using these variables. Be creative!  \n",
    "3. Use **at least one string operation** (concatenation, uppercase, lowercase, or indexing).  \n",
    "4. Print your sentences so they form a short story or fun message.  \n",
    "\n",
    "**Example Idea:**  \n",
    "- Variables: hero_name, treasure, location  \n",
    "- Output: `\"Hero_name went to location to find the treasure!\"`  \n",
    "- Operations: capitalize hero_name, make treasure uppercase  \n",
    "\n",
    "```python\n",
    "# Step 1: Define your variables\n",
    "hero_name = \"\"     # <-- your character or name\n",
    "location = \"\"      # <-- a place\n",
    "favorite_item = \"\" # <-- an item\n",
    "\n",
    "# Step 2: Create your own sentences using the variables\n",
    "# Be creative! Combine, modify, or manipulate strings in fun ways.\n",
    "sentence1 = \"\"  # <-- write your first sentence here\n",
    "sentence2 = \"\"  # <-- write your second sentence here\n",
    "\n",
    "# Step 3: Print your story or message\n",
    "print(sentence1)\n",
    "print(sentence2)\n"
   ]
  },
  {
   "cell_type": "markdown",
   "id": "d75a4417",
   "metadata": {},
   "source": [
    "## Submission Guide\n",
    "\n",
    "**How to submit your homework:**\n",
    "\n",
    "1. **Create a new Jupyter Notebook file** for this assignment.  \n",
    "\n",
    "2. **Complete all challenges** (Variables Quest and Strings Quest) in this new notebook.  \n",
    "   - Make sure each challenge is clearly labeled with Markdown headings.  \n",
    "   - Include your code and the output from running your cells.\n",
    "\n",
    "3. **Check your work**:  \n",
    "   - Run all cells to ensure there are no errors.  \n",
    "   - Make sure all printed messages show your inputs and outputs.\n",
    "\n",
    "4. **Save your notebook** with a clear name, e.g.:  \n"
   ]
  }
 ],
 "metadata": {
  "language_info": {
   "name": "python"
  }
 },
 "nbformat": 4,
 "nbformat_minor": 5
}

{
 "cells": [
  {
   "cell_type": "raw",
   "id": "121b9910",
   "metadata": {
    "vscode": {
     "languageId": "raw"
    }
   },
   "source": [
    "---\n",
    "layout: post\n",
    "title: Variables & Assignments\n",
    "description: This page will teach you about variables and assignments in programming.\n",
    "permalink: /lessons/variables_assignments/\n",
    "breadcrumb: True\n",
    "Author: Ethan Patel, Tanay Paranjpe, Neil Manjrekar\n",
    "---"
   ]
  },
  {
   "cell_type": "markdown",
   "id": "32b2b5d6",
   "metadata": {},
   "source": [
    "## Variables & Assignments\n",
    "---\n",
    "1. Introduction:\n",
    "- Variables are ways to store values inside a game or code for later use. It can be numerical or strings(letters and words). It is like a box that has a name but the contents inside cannot be changed. Make sure you name your variables with descriptive, but not long words.\n"
   ]
  },
  {
   "cell_type": "markdown",
   "id": "5189853e",
   "metadata": {},
   "source": [
    "## Python:"
   ]
  },
  {
   "cell_type": "code",
   "execution_count": null,
   "id": "dd8f250c",
   "metadata": {},
   "outputs": [],
   "source": [
    "\n",
    "age = 15 # Stores \"age\" as 15, INTEGER\n",
    "weight = 135 # Stores \"weight\" as 135, INTEGER\n",
    "name = \"Mike\" # Stores \"name\" as Mike, STRING\n"
   ]
  },
  {
   "cell_type": "markdown",
   "id": "52153d39",
   "metadata": {},
   "source": [
    "## JavaScript\n",
    "(Similar to python)"
   ]
  },
  {
   "cell_type": "code",
   "execution_count": null,
   "id": "22b41571",
   "metadata": {
    "vscode": {
     "languageId": "javascript"
    }
   },
   "outputs": [],
   "source": [
    "\n",
    "\n",
    "let age = 15 // Stores \"age\" as 15 as well, but add let in front\n",
    "let weight = 135 // Stores \"weight\" as 135\n",
    "let name = \"Mike\" // Stores \"name\" as Mike\n"
   ]
  },
  {
   "cell_type": "markdown",
   "id": "1805e722",
   "metadata": {},
   "source": [
    "## WARNING: Avoid doing the follwing:"
   ]
  },
  {
   "cell_type": "code",
   "execution_count": null,
   "id": "e9341e85",
   "metadata": {
    "vscode": {
     "languageId": "javascript"
    }
   },
   "outputs": [],
   "source": [
    "let age == 14 // Incorrect as \"==\" is for comparing values\n",
    "age = 14 // does not create a variable in JavaScript \n"
   ]
  },
  {
   "cell_type": "markdown",
   "id": "b83d1d22",
   "metadata": {},
   "source": [
    "## Which one do you think is a better variable name?\n",
    "1. highScore vs highestScoreInTheGame\n",
    "2. firstName vs 1stName\n",
    "3. ID vs studentID"
   ]
  },
  {
   "cell_type": "markdown",
   "id": "cbd6d835",
   "metadata": {},
   "source": [
    "---"
   ]
  }
 ],
 "metadata": {
  "language_info": {
   "name": "python"
  }
 },
 "nbformat": 4,
 "nbformat_minor": 5
}

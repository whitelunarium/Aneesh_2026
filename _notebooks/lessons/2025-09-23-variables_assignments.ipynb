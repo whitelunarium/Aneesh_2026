{
 "cells": [
  {
   "cell_type": "raw",
   "id": "121b9910",
   "metadata": {
    "vscode": {
     "languageId": "raw"
    }
   },
   "source": [
    "---\n",
    "layout: post\n",
    "title: Variables & Assignments\n",
    "description: This page will teach you about variables and assignments in programming.\n",
    "permalink: /lessons/variables_assignments/\n",
    "breadcrumb: True\n",
    "Author: Ethan Patel, Tanay Paranjpe, Neil Manjrekar\n",
    "---"
   ]
  },
  {
   "cell_type": "markdown",
   "id": "32b2b5d6",
   "metadata": {},
   "source": [
    "## Variables & Assignments\n",
    "---\n",
    "1. Introduction:\n",
    "- Variables are ways to store information inside a game or code for later use. It can be numerical or strings(letters and words). It is like a box that has a name but the contents inside cannot be changed.\n"
   ]
  },
  {
   "cell_type": "markdown",
   "id": "5189853e",
   "metadata": {},
   "source": [
    "## Python:"
   ]
  },
  {
   "cell_type": "code",
   "execution_count": null,
   "id": "dd8f250c",
   "metadata": {},
   "outputs": [],
   "source": [
    "\n",
    "age = 15 # Stores \"age\" as 15\n",
    "weight = 135 # Stores \"weight\" as 135\n",
    "name = \"Mike\" # Stores \"name\" as Mike\n"
   ]
  },
  {
   "cell_type": "markdown",
   "id": "52153d39",
   "metadata": {},
   "source": [
    "## JavaScript\n",
    "(Similar to python)"
   ]
  },
  {
   "cell_type": "code",
   "execution_count": null,
   "id": "22b41571",
   "metadata": {
    "vscode": {
     "languageId": "javascript"
    }
   },
   "outputs": [],
   "source": [
    "%% js\n",
    "\n",
    "let age = 15 // Stores \"age\" as 15 as well, but add let in front\n",
    "let weight = 135 // Stores \"weight\" as 135\n",
    "let name = \"Mike\" // Stores \"name\" as Mike\n"
   ]
  },
  {
   "cell_type": "markdown",
   "id": "1805e722",
   "metadata": {},
   "source": [
    "---"
   ]
  }
 ],
 "metadata": {
  "language_info": {
   "name": "python"
  }
 },
 "nbformat": 4,
 "nbformat_minor": 5
}

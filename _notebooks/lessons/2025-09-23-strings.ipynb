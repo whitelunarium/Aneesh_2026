{
 "cells": [
  {
   "cell_type": "raw",
   "id": "04a948d2",
   "metadata": {
    "vscode": {
     "languageId": "raw"
    }
   },
   "source": [
    "---\n",
    "layout: post\n",
    "title: Strings\n",
    "description: This page will teach you about strings in programming.\n",
    "permalink: /csp/big-idea-3/strings/p3/lesson\n",
    "breadcrumb: True\n",
    "Author: Ethan Patel, Tanay Paranjpe, Neil Manjrekar\n",
    "---"
   ]
  },
  {
   "cell_type": "markdown",
   "id": "05381efb",
   "metadata": {},
   "source": [
    "## Strings\n",
    "---\n",
    "### What are Strings?\n",
    "- Strings are a data type.\n",
    "- It is a sequence of characters (letters, numbers, symbols, spaces) enclosed in quotes.\n",
    "#### Examples:"
   ]
  },
  {
   "cell_type": "code",
   "execution_count": 41,
   "id": "023d768d",
   "metadata": {},
   "outputs": [
    {
     "name": "stdout",
     "output_type": "stream",
     "text": [
      "Aneesh is a str data type.\n"
     ]
    }
   ],
   "source": [
    "myName = \"Aneesh\"\n",
    "myNameType = type(myName).__name__\n",
    "\n",
    "print(f\"{myName} is a {myNameType} data type.\")"
   ]
  },
  {
   "cell_type": "code",
   "execution_count": null,
   "id": "9a6cd55e",
   "metadata": {},
   "outputs": [
    {
     "name": "stdout",
     "output_type": "stream",
     "text": [
      "hello\n",
      "Python is fun!\n",
      "This is \n",
      "a multi-line\n",
      "string.\n"
     ]
    }
   ],
   "source": [
    "word = \"hello\" # <-- Here, we use double quotes instead of single quotes\n",
    "sentence = 'Python is fun!' # <-- Here, we use single quotes instead of double quotes\n",
    "# Both are valid ways to define strings in Python\n",
    "multiline = \"\"\"This is \n",
    "a multi-line\n",
    "string.\"\"\" # <-- Triple quotes allow for multi-line strings\n",
    "print(word)\n",
    "print(sentence)\n",
    "print(multiline)"
   ]
  },
  {
   "cell_type": "markdown",
   "id": "eee53a2b",
   "metadata": {},
   "source": [
    "## Common String Operations\n",
    "---"
   ]
  },
  {
   "cell_type": "code",
   "execution_count": 43,
   "id": "34ee3698",
   "metadata": {},
   "outputs": [
    {
     "name": "stdout",
     "output_type": "stream",
     "text": [
      "ANEESH\n",
      "aneesh\n",
      "6\n",
      "A\n",
      "h\n",
      "ne\n"
     ]
    }
   ],
   "source": [
    "name = \"Aneesh\"\n",
    "\n",
    "print(name.upper())     # \"ANEESH\"\n",
    "print(name.lower())     # \"aneesh\"\n",
    "print(len(name))        # 6\n",
    "print(name[0])          # \"A\" (first character)\n",
    "print(name[-1])         # \"h\" (last character)\n",
    "print(name[1:3])        # \"ne\" (slice)"
   ]
  },
  {
   "cell_type": "markdown",
   "id": "63349ac0",
   "metadata": {},
   "source": [
    "### JavaScript\n",
    "---"
   ]
  },
  {
   "cell_type": "code",
   "execution_count": null,
   "id": "485c9741",
   "metadata": {
    "vscode": {
     "languageId": "javascript"
    }
   },
   "outputs": [
    {
     "data": {
      "application/javascript": "\nlet firstName = \"Ethan\";\nlet lastName = \"Patel\";\n\nconsole.log(firstName.concat(\" \", lastName)); // concat combines strings\n\nlet fullName = \"Moiz Lukmani\";\n\nconsole.log(fullName.substring(0,4)); //substring chooses the letter defined by the index\n",
      "text/plain": [
       "<IPython.core.display.Javascript object>"
      ]
     },
     "metadata": {},
     "output_type": "display_data"
    }
   ],
   "source": [
    "%%js\n",
    "\n",
    "let firstName = \"Ethan\"; // define variables\n",
    "let lastName = \"Patel\"; // define variables\n",
    "\n",
    "console.log(firstName.concat(\" \", lastName)); // concat is used in JavaScript to combine strings\n",
    "\n",
    "let fullName = \"Moiz Lukmani\"; // define variables\n",
    "\n",
    "console.log(fullName.substring(0,4)); //substring in JavaScript chooses the letter defined by the index"
   ]
  },
  {
   "cell_type": "markdown",
   "id": "5b06d34b",
   "metadata": {},
   "source": [
    "## Combining Strings\n",
    "---"
   ]
  },
  {
   "cell_type": "code",
   "execution_count": 2,
   "id": "54972c95",
   "metadata": {},
   "outputs": [
    {
     "name": "stdout",
     "output_type": "stream",
     "text": [
      "Hello World\n",
      "Hello, World!\n",
      "Hello World\n",
      "Hello, World!\n"
     ]
    }
   ],
   "source": [
    "first = \"Hello\"\n",
    "second = \"World\"\n",
    "\n",
    "print(first + \" \" + second)        # \"Hello World\"\n",
    "print(first + \", \" + second + \"!\") # \"Hello, World!\"\n",
    "print(\"{} {}\".format(first, second))       # \"Hello World\" (str.format)\n",
    "print(f\"{first}, {second}!\")       # \"Hello, World!\" (f-string) "
   ]
  },
  {
   "cell_type": "markdown",
   "id": "6c31f48d",
   "metadata": {},
   "source": [
    "## Popcorn Hacks 1\n",
    "--- "
   ]
  },
  {
   "cell_type": "code",
   "execution_count": null,
   "id": "8f4bfac3",
   "metadata": {},
   "outputs": [],
   "source": [
    "playerName = \"Neil Manjrekar\"   # <-- Add your own name\n",
    "# <-- Add a variable called \"welcomeMessage\" and set the variable equal to \"Welcome to the game!\"\n",
    "\n",
    "# Print welcome message\n",
    "print(welcomeMessage + \", \" + playerName + \"!\")"
   ]
  },
  {
   "cell_type": "markdown",
   "id": "e5327bce",
   "metadata": {},
   "source": [
    "## Popcorn Hacks 2\n",
    "--- "
   ]
  },
  {
   "cell_type": "code",
   "execution_count": null,
   "id": "86c9104a",
   "metadata": {},
   "outputs": [],
   "source": [
    "# Create a game title\n",
    "gameTitle = \"\"   # <-- Add your favorite game title (ex: \"Tic Tac Toe\")\n",
    "\n",
    "# Print the title in uppercase\n",
    "print(gameTitle.upper())   # <-- What will this display?\n",
    "\n",
    "# Get the length of the title\n",
    "titleLength = len(gameTitle)\n",
    "print(\"Your game title has \" + str(titleLength) + \" characters.\")"
   ]
  },
  {
   "cell_type": "markdown",
   "id": "53bb96fb",
   "metadata": {},
   "source": [
    "## Popcorn Hack 3\n",
    "--- "
   ]
  },
  {
   "cell_type": "code",
   "execution_count": 23,
   "id": "2db882a6",
   "metadata": {
    "vscode": {
     "languageId": "javascript"
    }
   },
   "outputs": [
    {
     "data": {
      "application/javascript": "let fullName = \"Tanay Paranjpe\";   // <-- Add your full name\n\n// Extract first name (characters before the space)\nlet firstName = fullName.substring(0,100);   // <-- Change the numbers to get the first name correctly\n\n// Extract last name (characters after the space)\nlet lastName = fullName.substring(100);   // <-- Change this to get the last name correctly\n\n// Print results\nconsole.log(\"First: \" + firstName);\nconsole.log(\"Last: \" + lastName);\n",
      "text/plain": [
       "<IPython.core.display.Javascript object>"
      ]
     },
     "metadata": {},
     "output_type": "display_data"
    }
   ],
   "source": [
    "%%js\n",
    "let fullName = \"Tanay Paranjpe\";   // <-- Add your full name\n",
    "\n",
    "// Extract first name (characters before the space)\n",
    "let firstName = fullName.substring(0,100);   // <-- Change the numbers to get the first name correctly\n",
    "\n",
    "// Extract last name (characters after the space)\n",
    "let lastName = fullName.substring(100);   // <-- Change this to get the last name correctly\n",
    "\n",
    "// Print results\n",
    "console.log(\"First: \" + firstName);\n",
    "console.log(\"Last: \" + lastName);"
   ]
  },
  {
   "cell_type": "markdown",
   "id": "51260917",
   "metadata": {},
   "source": [
    "---\n",
    "### MCQ\n",
    "Go as fast as you can to try to win!"
   ]
  },
  {
   "cell_type": "markdown",
   "id": "19f65e1b",
   "metadata": {},
   "source": [
    "[Click here](https://whitelunarium.github.io/Aneesh_2026/mcq_strings)"
   ]
  }
 ],
 "metadata": {
  "kernelspec": {
   "display_name": "venv (3.13.7)",
   "language": "python",
   "name": "python3"
  },
  "language_info": {
   "codemirror_mode": {
    "name": "ipython",
    "version": 3
   },
   "file_extension": ".py",
   "mimetype": "text/x-python",
   "name": "python",
   "nbconvert_exporter": "python",
   "pygments_lexer": "ipython3",
   "version": "3.13.7"
  }
 },
 "nbformat": 4,
 "nbformat_minor": 5
}

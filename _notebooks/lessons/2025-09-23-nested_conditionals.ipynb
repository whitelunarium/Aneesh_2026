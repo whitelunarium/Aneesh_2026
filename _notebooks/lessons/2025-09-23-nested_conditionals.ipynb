{
 "cells": [
  {
   "cell_type": "raw",
   "id": "2546234a",
   "metadata": {
    "vscode": {
     "languageId": "raw"
    }
   },
   "source": [
    "---\n",
    "layout: post\n",
    "title: Nested Conditionals\n",
    "description: This page will teach you about nested conditionals in programming.\n",
    "permalink: /lessons/nested_conditionals/\n",
    "breadcrumb: True\n",
    "---"
   ]
  },
  {
   "cell_type": "markdown",
   "id": "a07046c6",
   "metadata": {},
   "source": [
    "## Nested Conditionals\n",
    "---\n",
    "1. -"
   ]
  }
 ],
 "metadata": {
  "language_info": {
   "name": "python"
  }
 },
 "nbformat": 4,
 "nbformat_minor": 5
}

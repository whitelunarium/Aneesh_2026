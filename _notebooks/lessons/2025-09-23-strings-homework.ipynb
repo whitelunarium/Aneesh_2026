{
 "cells": [
  {
   "cell_type": "raw",
   "id": "04a948d2",
   "metadata": {
    "vscode": {
     "languageId": "raw"
    }
   },
   "source": [
    "---\n",
    "layout: post\n",
    "title: Strings\n",
    "description: This page will teach you about strings in programming.\n",
    "permalink: /csp/big-idea-3/strings/p3/lesson/homework/\n",
    "breadcrumb: True\n",
    "Author: Ethan Patel, Tanay Paranjpe, Neil Manjrekar\n",
    "---"
   ]
  },
  {
   "cell_type": "markdown",
   "id": "3c878fa1",
   "metadata": {},
   "source": [
    "# Strings Homework"
   ]
  },
  {
   "cell_type": "markdown",
   "id": "33e247f1",
   "metadata": {
    "vscode": {
     "languageId": "raw"
    }
   },
   "source": [
    "## Part 1: String Basics "
   ]
  },
  {
   "cell_type": "code",
   "execution_count": null,
   "id": "175203fe",
   "metadata": {},
   "outputs": [],
   "source": [
    "# Step 1: Define your variables\n",
    "full_name = \"___\"  # <-- Fill in your full name (first and last)\n",
    "\n",
    "# Step 2: Extract first and last name\n",
    "first_name = ___   # Use slicing or indexing\n",
    "last_name = ___    # Use slicing or indexing\n",
    "\n",
    "# Step 3: Create initials\n",
    "initials = ___     # Combine first letters of first and last name\n",
    "\n",
    "# Step 4: Count total characters in your first name, last name, and full name\n",
    "first_length = ___\n",
    "last_length = ___\n",
    "full_length = ___\n",
    "\n",
    "# Step 5: Print greetings using concatenation and f-strings\n",
    "# Example: \"Hello, Tanay Paranjpe!\"\n",
    "greeting1 = ___  # Use + for concatenation\n",
    "greeting2 = ___  # Use f-string\n",
    "\n",
    "# Step 6: Reverse your first and last name using slicing\n",
    "reversed_first = ___\n",
    "reversed_last = ___\n",
    "\n",
    "# Step 7: Print everything\n",
    "print(\"First name:\", first_name)\n",
    "print(\"Last name:\", last_name)\n",
    "print(\"Initials:\", initials)\n",
    "print(\"First name length:\", first_length)\n",
    "print(\"Last name length:\", last_length)\n",
    "print(\"Full name length:\", full_length)\n",
    "print(\"Greeting using + :\", greeting1)\n",
    "print(\"Greeting using f-string:\", greeting2)\n",
    "print(\"Reversed first name:\", reversed_first)\n",
    "print(\"Reversed last name:\", reversed_last)\n"
   ]
  },
  {
   "cell_type": "markdown",
   "id": "2d5d0135",
   "metadata": {
    "vscode": {
     "languageId": "raw"
    }
   },
   "source": [
    "## Part 2: Addtional Practice "
   ]
  },
  {
   "cell_type": "code",
   "execution_count": null,
   "id": "58d21aed",
   "metadata": {},
   "outputs": [],
   "source": []
  }
 ],
 "metadata": {
  "kernelspec": {
   "display_name": "venv (3.13.7)",
   "language": "python",
   "name": "python3"
  },
  "language_info": {
   "codemirror_mode": {
    "name": "ipython",
    "version": 3
   },
   "file_extension": ".py",
   "mimetype": "text/x-python",
   "name": "python",
   "nbconvert_exporter": "python",
   "pygments_lexer": "ipython3",
   "version": "3.13.7"
  }
 },
 "nbformat": 4,
 "nbformat_minor": 5
}

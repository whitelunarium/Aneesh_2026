{
 "cells": [
  {
   "cell_type": "raw",
   "id": "04a948d2",
   "metadata": {
    "vscode": {
     "languageId": "raw"
    }
   },
   "source": [
    "---\n",
    "layout: post\n",
    "title: Strings\n",
    "description: This page will teach you about strings in programming.\n",
    "permalink: /csp/big-idea-3/strings/p3/lesson/homework/\n",
    "breadcrumb: True\n",
    "Author: Ethan Patel, Tanay Paranjpe, Neil Manjrekar\n",
    "---"
   ]
  },
  {
   "cell_type": "code",
   "execution_count": null,
   "id": "175203fe",
   "metadata": {},
   "outputs": [],
   "source": [
    "// Step 1: Define your full name\n",
    "let fullName = \"Tanay Paranjpe\";   // <-- Replace with your full name\n",
    "\n",
    "// Step 2: Extract parts of your name\n",
    "let firstName = ___;   // Extract your first name using substring or slice\n",
    "let lastName = ___;    // Extract your last name\n",
    "\n",
    "// Step 3: Create a modified version of your name\n",
    "// - Make first name uppercase\n",
    "// - Make last name lowercase\n",
    "let modifiedName = ___; \n",
    "\n",
    "// Step 4: Count letters\n",
    "let totalLetters = ___; // Count total letters (excluding spaces)\n",
    "\n",
    "// Step 5: Print everything\n",
    "console.log(\"Original full name: \" + fullName);\n",
    "console.log(\"First name: \" + firstName);\n",
    "console.log(\"Last name: \" + lastName);\n",
    "console.log(\"Modified name: \" + modifiedName);\n",
    "console.log(\"Total letters (without spaces): \" + totalLetters);\n"
   ]
  }
 ],
 "metadata": {
  "kernelspec": {
   "display_name": "venv (3.13.7)",
   "language": "python",
   "name": "python3"
  },
  "language_info": {
   "codemirror_mode": {
    "name": "ipython",
    "version": 3
   },
   "file_extension": ".py",
   "mimetype": "text/x-python",
   "name": "python",
   "nbconvert_exporter": "python",
   "pygments_lexer": "ipython3",
   "version": "3.13.7"
  }
 },
 "nbformat": 4,
 "nbformat_minor": 5
}

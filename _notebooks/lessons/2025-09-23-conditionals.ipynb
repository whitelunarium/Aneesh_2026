{
 "cells": [
  {
   "cell_type": "raw",
   "id": "a41b71ad",
   "metadata": {
    "vscode": {
     "languageId": "raw"
    }
   },
   "source": [
    "---\n",
    "layout: post\n",
    "title: Conditionals\n",
    "description: This page will teach you about conditionals in programming.\n",
    "permalink: /lessons/conditionals/\n",
    "breadcrumb: True\n",
    "---"
   ]
  },
  {
   "cell_type": "markdown",
   "id": "77422f49",
   "metadata": {},
   "source": [
    "## Conditionals\n",
    "---\n",
    "### 1. What is a Conditional?\n",
    "- A conditional lets a program make decisions.\n",
    "- Example in plain English:\n",
    "**“If it’s raining, bring an umbrella. Otherwise, wear sunglasses.”**\n",
    "\n",
    "### 2. Basic `if` Statement:\n",
    "#### Python:\n"
   ]
  },
  {
   "cell_type": "code",
   "execution_count": null,
   "id": "4dae4ddd",
   "metadata": {},
   "outputs": [],
   "source": [
    "x = 10\n",
    "\n",
    "if x > 5:\n",
    "    print(\"x is greater than 5\")"
   ]
  },
  {
   "cell_type": "markdown",
   "id": "1e3bfaf1",
   "metadata": {},
   "source": [
    "#### JavaScript:"
   ]
  },
  {
   "cell_type": "code",
   "execution_count": null,
   "id": "cffabf02",
   "metadata": {
    "vscode": {
     "languageId": "javascript"
    }
   },
   "outputs": [],
   "source": [
    "let x = 10;\n",
    "\n",
    "if (x > 5) {\n",
    "    console.log(\"x is greater than 5\");\n",
    "}"
   ]
  },
  {
   "cell_type": "markdown",
   "id": "b1af87ea",
   "metadata": {},
   "source": [
    "### 3. `If ... else`\n",
    "#### Python:"
   ]
  },
  {
   "cell_type": "code",
   "execution_count": null,
   "id": "f814cfd1",
   "metadata": {},
   "outputs": [],
   "source": [
    "age = 16\n",
    "\n",
    "if age >= 18:\n",
    "    print(\"You can vote\")\n",
    "else:\n",
    "    print(\"You are too young to vote\")\n"
   ]
  },
  {
   "cell_type": "markdown",
   "id": "14955def",
   "metadata": {},
   "source": [
    "#### JavaScript:"
   ]
  },
  {
   "cell_type": "code",
   "execution_count": null,
   "id": "1a9e1dc8",
   "metadata": {
    "vscode": {
     "languageId": "javascript"
    }
   },
   "outputs": [],
   "source": [
    "let age = 16;\n",
    "\n",
    "if (age >= 18) {\n",
    "    console.log(\"You can vote\");\n",
    "} else {\n",
    "    console.log(\"You are too young to vote\");\n",
    "}\n"
   ]
  },
  {
   "cell_type": "markdown",
   "id": "61fd1a2e",
   "metadata": {},
   "source": [
    "### 4. `If ... else if ... else` (multiple conditions)\n",
    "#### Python:"
   ]
  },
  {
   "cell_type": "code",
   "execution_count": null,
   "id": "7d8e511f",
   "metadata": {},
   "outputs": [],
   "source": [
    "score = 85\n",
    "\n",
    "if score >= 90:\n",
    "    print(\"Grade: A\")\n",
    "elif score >= 80:\n",
    "    print(\"Grade: B\")\n",
    "else:\n",
    "    print(\"Keep working hard!\")"
   ]
  },
  {
   "cell_type": "markdown",
   "id": "f004ec35",
   "metadata": {},
   "source": [
    "#### JavaScript:"
   ]
  },
  {
   "cell_type": "code",
   "execution_count": null,
   "id": "6a57b1b7",
   "metadata": {
    "vscode": {
     "languageId": "javascript"
    }
   },
   "outputs": [],
   "source": [
    "let score = 85;\n",
    "\n",
    "if (score >= 90) {\n",
    "    console.log(\"Grade: A\");\n",
    "} else if (score >= 80) {\n",
    "    console.log(\"Grade: B\");\n",
    "} else {\n",
    "    console.log(\"Keep working hard!\");\n",
    "}"
   ]
  },
  {
   "cell_type": "markdown",
   "id": "68cbf71a",
   "metadata": {},
   "source": [
    "### Comparison & Logical Operators\n",
    "- Comparison:\n",
    "    - `==` equal\n",
    "    - `!=` not equal\n",
    "    - `<`, `>`, `<=`, `>=`\n",
    "- Logical:\n",
    "    - Python → `and`, `or`, `not`\n",
    "    - JavaScript → `&&`, `||`, `!`\n",
    "#### Python:"
   ]
  },
  {
   "cell_type": "code",
   "execution_count": null,
   "id": "02be4c7f",
   "metadata": {},
   "outputs": [],
   "source": [
    "temperature = 72\n",
    "\n",
    "if temperature > 60 and temperature < 80:\n",
    "    print(\"Perfect weather!\")"
   ]
  },
  {
   "cell_type": "markdown",
   "id": "8f5d649d",
   "metadata": {},
   "source": [
    "#### JavaScript:"
   ]
  },
  {
   "cell_type": "code",
   "execution_count": null,
   "id": "ff02085f",
   "metadata": {
    "vscode": {
     "languageId": "javascript"
    }
   },
   "outputs": [],
   "source": [
    "let temperature = 72;\n",
    "\n",
    "if (temperature > 60 && temperature < 80) {\n",
    "    console.log(\"Perfect weather!\");\n",
    "}"
   ]
  }
 ],
 "metadata": {
  "language_info": {
   "name": "python"
  }
 },
 "nbformat": 4,
 "nbformat_minor": 5
}

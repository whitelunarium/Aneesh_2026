{
 "cells": [
  {
   "cell_type": "raw",
   "id": "65acca70",
   "metadata": {},
   "source": [
    "---\n",
    "layout: post\n",
    "title: Conditionals\n",
    "description: This page will teach you about conditionals in programming.\n",
    "permalink: /lessons/conditionals/\n",
    "breadcrumb: True\n",
    "---"
   ]
  },
  {
   "cell_type": "markdown",
   "id": "3db6febd",
   "metadata": {},
   "source": [
    "## Conditionals\n",
    "---\n",
    "### 1. What is a Conditional?\n",
    "- A conditional lets a program make decisions.\n",
    "- Example in plain English:\n",
    "**“If it’s raining, bring an umbrella. Otherwise, wear sunglasses.”**\n",
    "\n",
    "### 2. Basic `if` Statement:\n",
    "#### Python:\n"
   ]
  },
  {
   "cell_type": "code",
   "execution_count": null,
   "id": "68131856",
   "metadata": {},
   "outputs": [],
   "source": [
    "x = 10\n",
    "\n",
    "if x > 5:\n",
    "    print(\"x is greater than 5\")"
   ]
  },
  {
   "cell_type": "markdown",
   "id": "28fad79f",
   "metadata": {},
   "source": [
    "#### JavaScript:"
   ]
  },
  {
   "cell_type": "markdown",
   "id": "9322dc1f",
   "metadata": {},
   "source": [
    "### 3. `If ... else`\n",
    "#### Python:"
   ]
  },
  {
   "cell_type": "code",
   "execution_count": null,
   "id": "dc459b67",
   "metadata": {},
   "outputs": [],
   "source": [
    "age = 16\n",
    "\n",
    "if age >= 18:\n",
    "    print(\"You can vote\")\n",
    "else:\n",
    "    print(\"You are too young to vote\")\n"
   ]
  },
  {
   "cell_type": "markdown",
   "id": "b90a7000",
   "metadata": {},
   "source": [
    "#### JavaScript:"
   ]
  },
  {
   "cell_type": "markdown",
   "id": "6d023fc5",
   "metadata": {},
   "source": [
    "### 4. `If ... else if ... else` (multiple conditions)\n",
    "#### Python:"
   ]
  },
  {
   "cell_type": "code",
   "execution_count": null,
   "id": "89819aa8",
   "metadata": {},
   "outputs": [],
   "source": [
    "score = 85\n",
    "\n",
    "if score >= 90:\n",
    "    print(\"Grade: A\")\n",
    "elif score >= 80:\n",
    "    print(\"Grade: B\")\n",
    "else:\n",
    "    print(\"Keep working hard!\")"
   ]
  },
  {
   "cell_type": "markdown",
   "id": "93ce59c8",
   "metadata": {},
   "source": [
    "#### JavaScript:"
   ]
  },
  {
   "cell_type": "code",
   "execution_count": null,
   "id": "a4d41e83",
   "metadata": {
    "vscode": {
     "languageId": "javascript"
    }
   },
   "outputs": [],
   "source": [
    "let score = 85;\n",
    "\n",
    "if (score >= 90) {\n",
    "    console.log(\"Grade: A\");\n",
    "} else if (score >= 80) {\n",
    "    console.log(\"Grade: B\");\n",
    "} else {\n",
    "    console.log(\"Keep working hard!\");\n",
    "}"
   ]
  },
  {
   "cell_type": "markdown",
   "id": "1461826d",
   "metadata": {},
   "source": [
    "### Comparison & Logical Operators\n",
    "- Comparison:\n",
    "    - `==` equal\n",
    "    - `!=` not equal\n",
    "    - `<`, `>`, `<=`, `>=`\n",
    "- Logical:\n",
    "    - Python → `and`, `or`, `not`\n",
    "    - JavaScript → `&&`, `||`, `!`\n",
    "#### Python:"
   ]
  },
  {
   "cell_type": "code",
   "execution_count": null,
   "id": "2ce2ebb4",
   "metadata": {},
   "outputs": [],
   "source": [
    "temperature = 72\n",
    "\n",
    "if temperature > 60 and temperature < 80:\n",
    "    print(\"Perfect weather!\")"
   ]
  },
  {
   "cell_type": "markdown",
   "id": "0b389501",
   "metadata": {},
   "source": [
    "#### JavaScript:"
   ]
  },
  {
   "cell_type": "code",
   "execution_count": null,
   "id": "d8891854",
   "metadata": {
    "vscode": {
     "languageId": "javascript"
    }
   },
   "outputs": [],
   "source": [
    "let temperature = 72;\n",
    "\n",
    "if (temperature > 60 && temperature < 80) {\n",
    "    console.log(\"Perfect weather!\");\n",
    "}"
   ]
  }
 ],
 "metadata": {
  "language_info": {
   "name": "python"
  }
 },
 "nbformat": 4,
 "nbformat_minor": 5
}
